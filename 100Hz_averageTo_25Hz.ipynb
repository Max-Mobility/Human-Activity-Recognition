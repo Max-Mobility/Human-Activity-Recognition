{
 "cells": [
  {
   "cell_type": "code",
   "execution_count": 1,
   "metadata": {},
   "outputs": [],
   "source": [
    "import tensorflow as tf\n",
    "#import tensorflow.nn.rnn_cell as rnn\n",
    "import numpy as np\n",
    "#import tensorflow.keras as keras\n",
    "#from tensorflow.keras.initializers import Constant\n",
    "import tensorflow.keras.backend as K\n",
    "from tensorflow.python.platform import gfile\n",
    "\n",
    "from tqdm import tqdm\n",
    "import os"
   ]
  },
  {
   "cell_type": "code",
   "execution_count": 2,
   "metadata": {},
   "outputs": [],
   "source": [
    "data_x=np.loadtxt('./TapData/100HzTapDataValidation/PSDSData (24)_raw.csv',delimiter=\",\")\n",
    "data_y = np.loadtxt('./TapData/100HzTapDataValidation/Tap(24)_y_100Hz.csv',delimiter=\",\")\n"
   ]
  },
  {
   "cell_type": "code",
   "execution_count": 4,
   "metadata": {},
   "outputs": [
    {
     "name": "stdout",
     "output_type": "stream",
     "text": [
      "(1, 9)\n"
     ]
    }
   ],
   "source": [
    "new_x = np.empty_like(data_x[0:1])\n",
    "print(new_x.shape)\n",
    "new_y = np.empty_like(data_y[0:1])\n",
    "for i in range(int(len(data_x)/4)):\n",
    "    temp  = data_x[i*4:(i+1)*4].mean(axis=0)\n",
    "    for j in range(len(temp)):\n",
    "        if temp[j]>=0:\n",
    "            temp[j] = data_x[i*4:(i+1)*4].max(axis=0)[j]\n",
    "        else:\n",
    "            temp[j] = data_x[i*4:(i+1)*4].min(axis=0)[j]\n",
    "        \n",
    "    new_x=np.append(new_x,[temp],axis=0)\n",
    "    new_y=np.append(new_y,data_y[i*4:(i+1)*4].max())\n",
    "new_x=np.delete(new_x,0,0)\n",
    "new_y=np.delete(new_y,0,0)"
   ]
  },
  {
   "cell_type": "code",
   "execution_count": 8,
   "metadata": {},
   "outputs": [],
   "source": [
    "np.savetxt('./TapData/100HzTapDataValidation/data_25Hz_raw.csv',new_x,delimiter=\",\")\n",
    "np.savetxt('./TapData/100HzTapDataValidation/data_25Hz_y.csv',new_y,delimiter=\",\")"
   ]
  },
  {
   "cell_type": "code",
   "execution_count": 32,
   "metadata": {},
   "outputs": [],
   "source": [
    "model_dir='./tmp/model/real_LSTM_fullData_dynamicW_tfTrain_2Dense_7_8_92.pb'"
   ]
  },
  {
   "cell_type": "code",
   "execution_count": 33,
   "metadata": {},
   "outputs": [
    {
     "name": "stdout",
     "output_type": "stream",
     "text": [
      "load graph\n"
     ]
    },
    {
     "name": "stderr",
     "output_type": "stream",
     "text": [
      "WARNING: Logging before flag parsing goes to stderr.\n",
      "W0801 15:20:42.790817  5260 deprecation.py:323] From <ipython-input-33-d69058e85418>:3: FastGFile.__init__ (from tensorflow.python.platform.gfile) is deprecated and will be removed in a future version.\n",
      "Instructions for updating:\n",
      "Use tf.gfile.GFile.\n"
     ]
    },
    {
     "name": "stdout",
     "output_type": "stream",
     "text": [
      "['input_tensor', 'input_state', 'wf', 'wf/read', 'wc', 'wc/read', 'wo', 'wo/read', 'uf', 'uf/read', 'uc', 'uc/read', 'uo', 'uo/read', 'bf', 'bf/read', 'bc', 'bc/read', 'bo', 'bo/read', 'weights1', 'weights1/read', 'weights2', 'weights2/read', 'bias1', 'bias1/read', 'bias2', 'bias2/read', 'split/split_dim', 'split', 'MatMul_1', 'MatMul_2', 'MatMul_3', 'Add_3', 'MatMul_5', 'Add_4', 'mul_1/x', 'mul_1', 'add_5/y', 'add_5', 'Const_3', 'Const_4', 'clip_by_value_1/Minimum', 'clip_by_value_1', 'Mul_2', 'Add_6', 'MatMul_6', 'Add_7', 'Tanh', 'output_c', 'Add_8', 'MatMul_7', 'Add_9', 'mul_3/x', 'mul_3', 'add_10/y', 'add_10', 'Const_5', 'Const_6', 'clip_by_value_2/Minimum', 'clip_by_value_2', 'Tanh_1', 'output_h', 'MatMul_8', 'Add_11', 'Relu', 'MatMul_9', 'output_forRelu', 'output', 'output_state/axis', 'output_state']\n",
      "graph loaded.\n"
     ]
    }
   ],
   "source": [
    "sess = tf.Session()\n",
    "print(\"load graph\")\n",
    "with gfile.FastGFile(model_dir,'rb') as f:\n",
    "    graph_def = tf.GraphDef()\n",
    "graph_def.ParseFromString(f.read())\n",
    "sess.graph.as_default()\n",
    "tf.import_graph_def(graph_def, name='')\n",
    "graph_nodes=[n for n in graph_def.node]\n",
    "names = []\n",
    "for t in graph_nodes:\n",
    "    names.append(t.name)\n",
    "print(names)\n",
    "print('graph loaded.')"
   ]
  },
  {
   "cell_type": "code",
   "execution_count": 49,
   "metadata": {},
   "outputs": [],
   "source": [
    "Dx = new_x[:,(6-3):6].reshape((len(new_x),3))"
   ]
  },
  {
   "cell_type": "code",
   "execution_count": 50,
   "metadata": {},
   "outputs": [
    {
     "name": "stderr",
     "output_type": "stream",
     "text": [
      "100%|██████████| 128036/128036 [00:33<00:00, 3869.90it/s]\n"
     ]
    }
   ],
   "source": [
    "num_units=64\n",
    "data_state = np.zeros([1,num_units*2],dtype='float')\n",
    "predictY=np.zeros([len(Dx)])\n",
    "\n",
    "for i in tqdm(range(len(Dx))):\n",
    "    feed={'input_tensor:0':Dx[i:i+1],\n",
    "          'input_state:0':data_state,\n",
    "            #y:data_y[i:i+1],\n",
    "          #loss_weight_in:loss_weight[i:i+1]\n",
    "           }\n",
    "\n",
    "    data_state,_predictY = sess.run(['output_state:0','output:0'],feed_dict=feed)\n",
    "    #print(data_h.shape)\n",
    "    #data_c = sess.run(c,feed_dict=feed)\n",
    "    predictY[i]=_predictY[0]"
   ]
  },
  {
   "cell_type": "code",
   "execution_count": 51,
   "metadata": {},
   "outputs": [],
   "source": [
    "np.savetxt('TF_predictY_25hz_shuffle.csv',predictY)"
   ]
  }
 ],
 "metadata": {
  "kernelspec": {
   "display_name": "Python 3",
   "language": "python",
   "name": "python3"
  },
  "language_info": {
   "codemirror_mode": {
    "name": "ipython",
    "version": 3
   },
   "file_extension": ".py",
   "mimetype": "text/x-python",
   "name": "python",
   "nbconvert_exporter": "python",
   "pygments_lexer": "ipython3",
   "version": "3.6.8"
  }
 },
 "nbformat": 4,
 "nbformat_minor": 2
}
