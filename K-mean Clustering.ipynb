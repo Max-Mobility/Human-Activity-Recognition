{
 "cells": [
  {
   "cell_type": "code",
   "execution_count": 3,
   "metadata": {},
   "outputs": [
    {
     "name": "stderr",
     "output_type": "stream",
     "text": [
      "Using TensorFlow backend.\n"
     ]
    }
   ],
   "source": [
    "from sklearn.cluster import KMeans\n",
    "import keras\n",
    "from keras.layers import Input, Conv1D,Activation,MaxPooling1D,Dense,Flatten,UpSampling1D\n",
    "from keras.layers.normalization import BatchNormalization\n",
    "from keras.models import Model,load_model\n",
    "import tensorflow as tf\n",
    "import numpy as np\n",
    "from matplotlib.pyplot import plot\n",
    "import matplotlib.pyplot as plt"
   ]
  },
  {
   "cell_type": "code",
   "execution_count": 47,
   "metadata": {},
   "outputs": [],
   "source": [
    "gyroModel=load_model('gyroModel.h5')\n",
    "linearAccModel=load_model('linearAccModel.h5')\n",
    "gravityModel=load_model('gravityModel.h5')\n",
    "gameVecModel=load_model('gameVecModel.h5')\n",
    "\n",
    "gyroFFTModel=load_model('gyroModelFFT.h5')\n",
    "linearAccFFTModel=load_model('linearAccModelFFT.h5')\n",
    "gravityFFTModel=load_model('gravityModelFFT.h5')\n",
    "gameVecFFTModel=load_model('gameVecModelFFT.h5')"
   ]
  },
  {
   "cell_type": "code",
   "execution_count": 48,
   "metadata": {},
   "outputs": [],
   "source": [
    "gyroEncoder=Model(inputs=gyroModel.input,outputs=gyroModel.layers[13].output)\n",
    "linearAccEncoder=Model(inputs=linearAccModel.input,outputs=linearAccModel.layers[13].output)\n",
    "gravityEncoder=Model(inputs=gravityModel.input,outputs=gravityModel.layers[13].output)\n",
    "gameEncoder=Model(inputs=gameVecModel.input,outputs=gameVecModel.layers[13].output)\n",
    "gyroFFTEncoder=Model(inputs=gyroFFTModel.input,outputs=gyroFFTModel.layers[13].output)\n",
    "linearAccFFTEncoder=Model(inputs=linearAccFFTModel.input,outputs=linearAccFFTModel.layers[13].output)\n",
    "gravityFFTEncoder=Model(inputs=gravityFFTModel.input,outputs=gravityFFTModel.layers[13].output)\n",
    "gameFFTEncoder=Model(inputs=gameVecFFTModel.input,outputs=gameVecFFTModel.layers[13].output)\n"
   ]
  },
  {
   "cell_type": "code",
   "execution_count": 49,
   "metadata": {},
   "outputs": [],
   "source": [
    "data= np.load('watch.npy')\n",
    "gyro_data=data[:,:,0:3]\n",
    "linearAcc_data=data[:,:,3:6]\n",
    "gravity_data=data[:,:,6:9]\n",
    "gameVec_data=data[:,:,9:13]\n",
    "gyroFFT_data=data[:,:,13:16]\n",
    "linearAccFFT_data=data[:,:,16:19]\n",
    "gravityFFT_data=data[:,:,19:22]\n",
    "gameVecFFT_data=data[:,:,22:26]"
   ]
  },
  {
   "cell_type": "code",
   "execution_count": 50,
   "metadata": {},
   "outputs": [
    {
     "data": {
      "text/plain": [
       "(11196, 128, 26)"
      ]
     },
     "execution_count": 50,
     "metadata": {},
     "output_type": "execute_result"
    }
   ],
   "source": [
    "data.shape"
   ]
  },
  {
   "cell_type": "code",
   "execution_count": 51,
   "metadata": {},
   "outputs": [],
   "source": [
    "gyro_LV=gyroEncoder.predict(gyro_data).reshape((len(data),-1))\n",
    "linearAcc_LV=linearAccEncoder.predict(linearAcc_data).reshape((len(data),-1))\n",
    "gravity_LV=gravityEncoder.predict(gravity_data).reshape((len(data),-1))\n",
    "game_LV=gameEncoder.predict(gameVec_data).reshape((len(data),-1))\n",
    "gyroFFT_LV=gyroFFTEncoder.predict(gyroFFT_data).reshape((len(data),-1))\n",
    "linearAccFFT_LV=linearAccFFTEncoder.predict(linearAccFFT_data).reshape((len(data),-1))\n",
    "gravityFFT_LV=gravityFFTEncoder.predict(gravityFFT_data).reshape((len(data),-1))\n",
    "gameFFT_LV=gameFFTEncoder.predict(gameVecFFT_data).reshape((len(data),-1))"
   ]
  },
  {
   "cell_type": "code",
   "execution_count": 52,
   "metadata": {},
   "outputs": [],
   "source": [
    "data_LV=np.concatenate((gyro_LV,linearAcc_LV,gravity_LV,game_LV,gyroFFT_LV,linearAccFFT_LV,gravityFFT_LV,gameFFT_LV),axis=1)"
   ]
  },
  {
   "cell_type": "code",
   "execution_count": 53,
   "metadata": {},
   "outputs": [],
   "source": [
    "kmean=KMeans(n_clusters=10)"
   ]
  },
  {
   "cell_type": "code",
   "execution_count": 54,
   "metadata": {},
   "outputs": [
    {
     "data": {
      "text/plain": [
       "KMeans(algorithm='auto', copy_x=True, init='k-means++', max_iter=300,\n",
       "    n_clusters=10, n_init=10, n_jobs=None, precompute_distances='auto',\n",
       "    random_state=None, tol=0.0001, verbose=0)"
      ]
     },
     "execution_count": 54,
     "metadata": {},
     "output_type": "execute_result"
    }
   ],
   "source": [
    "kmean.fit(data_LV)"
   ]
  },
  {
   "cell_type": "code",
   "execution_count": 55,
   "metadata": {},
   "outputs": [],
   "source": [
    "y_kmeans=kmean.predict(data_LV)"
   ]
  },
  {
   "cell_type": "code",
   "execution_count": 56,
   "metadata": {},
   "outputs": [
    {
     "data": {
      "text/plain": [
       "(11196, 1536)"
      ]
     },
     "execution_count": 56,
     "metadata": {},
     "output_type": "execute_result"
    }
   ],
   "source": [
    "data_LV.shape"
   ]
  },
  {
   "cell_type": "code",
   "execution_count": 72,
   "metadata": {},
   "outputs": [
    {
     "data": {
      "text/plain": [
       "[<matplotlib.lines.Line2D at 0x16aa2e9ef28>]"
      ]
     },
     "execution_count": 72,
     "metadata": {},
     "output_type": "execute_result"
    },
    {
     "data": {
      "image/png": "[encoded data removed]",
      "text/plain": [
       "<Figure size 432x288 with 1 Axes>"
      ]
     },
     "metadata": {
      "needs_background": "light"
     },
     "output_type": "display_data"
    }
   ],
   "source": [
    "plot(data_LV[0:100,9])"
   ]
  },
  {
   "cell_type": "code",
   "execution_count": 58,
   "metadata": {},
   "outputs": [
    {
     "data": {
      "text/plain": [
       "[<matplotlib.lines.Line2D at 0x16aa19b84e0>]"
      ]
     },
     "execution_count": 58,
     "metadata": {},
     "output_type": "execute_result"
    },
    {
     "data": {
      "image/png": "[encoded data removed]",
      "text/plain": [
       "<Figure size 432x288 with 1 Axes>"
      ]
     },
     "metadata": {
      "needs_background": "light"
     },
     "output_type": "display_data"
    }
   ],
   "source": [
    "plot(y_kmeans[0:100])"
   ]
  }
 ],
 "metadata": {
  "kernelspec": {
   "display_name": "Python 3",
   "language": "python",
   "name": "python3"
  },
  "language_info": {
   "codemirror_mode": {
    "name": "ipython",
    "version": 3
   },
   "file_extension": ".py",
   "mimetype": "text/x-python",
   "name": "python",
   "nbconvert_exporter": "python",
   "pygments_lexer": "ipython3",
   "version": "3.6.8"
  }
 },
 "nbformat": 4,
 "nbformat_minor": 2
}
