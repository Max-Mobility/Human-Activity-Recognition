{
 "cells": [
  {
   "cell_type": "code",
   "execution_count": 16,
   "metadata": {},
   "outputs": [],
   "source": [
    "import tensorflow as tf\n",
    "import tensorflow.nn.rnn_cell as rnn\n",
    "import numpy as np\n",
    "import tensorflow.keras as keras\n",
    "from tensorflow.keras.initializers import Constant\n",
    "import tensorflow.keras.backend as K"
   ]
  },
  {
   "cell_type": "code",
   "execution_count": 3,
   "metadata": {},
   "outputs": [],
   "source": [
    "import tensorflow as tf"
   ]
  },
  {
   "cell_type": "code",
   "execution_count": 2,
   "metadata": {},
   "outputs": [],
   "source": [
    "from matplotlib.pyplot import plot\n",
    "import matplotlib.pyplot as plt\n",
    "from tqdm import tqdm"
   ]
  },
  {
   "cell_type": "code",
   "execution_count": 3,
   "metadata": {},
   "outputs": [],
   "source": [
    "wts=np.load('weight.npz')\n",
    "weights=wts[wts.files[0]]\n",
    "re_train=True\n",
    "time_steps=1\n",
    "n_input =3\n",
    "num_units=64\n",
    "n_classes=1\n",
    "lr =0.0001"
   ]
  },
  {
   "cell_type": "code",
   "execution_count": 4,
   "metadata": {},
   "outputs": [],
   "source": [
    "data_x=np.loadtxt('./TapData/data_raw_active.csv',delimiter=\",\")\n",
    "data_y=np.loadtxt('./TapData/data_y_active.csv',delimiter=\",\")\n",
    "preY = np.loadtxt('./TapData/data_preY_3C_fullData.active.csv',delimiter=\",\")\n",
    "datay=data_y\n",
    "data_y=data_y.reshape(len(data_y),1)\n",
    "data_x=data_x[:,(6-n_input):6].reshape((len(data_x),1,3))\n",
    "data_state = np.zeros([1,num_units*2],dtype='float')\n",
    "\n",
    "loss_weight = preY*len(preY)/preY.sum()+datay*len(datay)/datay.sum()+1\n",
    "loss_weight = loss_weight.reshape([len(loss_weight),1])"
   ]
  },
  {
   "cell_type": "code",
   "execution_count": 5,
   "metadata": {},
   "outputs": [],
   "source": [
    "x= tf.placeholder('float',[None,1,n_input],name='input_tensor')\n",
    "y = tf.placeholder('float',[None,n_classes],name='labels')\n",
    "#inputs = tf.unstack(x,time_steps,1,name='input_tensor')\n",
    "#state_h = tf.placeholder('float',[None,num_units],name='input_h')\n",
    "#state_c = tf.placeholder('float',[None,num_units],name='input_c')\n",
    "state_in   = tf.placeholder('float',[None,num_units*2],name='input_state')\n",
    "loss_weight_in = tf.placeholder('float',[None,1],name='loss_weight')\n"
   ]
  },
  {
   "cell_type": "code",
   "execution_count": 6,
   "metadata": {},
   "outputs": [
    {
     "name": "stdout",
     "output_type": "stream",
     "text": [
      "WARNING:tensorflow:From C:\\Users\\Guo\\Anaconda3\\envs\\Tensorflow_cpu\\lib\\site-packages\\tensorflow\\python\\framework\\op_def_library.py:263: colocate_with (from tensorflow.python.framework.ops) is deprecated and will be removed in a future version.\n",
      "Instructions for updating:\n",
      "Colocations handled automatically by placer.\n"
     ]
    }
   ],
   "source": [
    "out_weights1=tf.Variable(name=\"weights1\",initial_value=tf.random_normal([num_units, 16], stddev=0.35))\n",
    "out_weights2=tf.Variable(name=\"weights2\",initial_value=tf.random_normal([16, 1], stddev=0.35))\n",
    "out_bias1=tf.Variable(name=\"bias1\",initial_value=tf.random_normal([16], stddev=0.35))\n",
    "out_bias2=tf.Variable(name=\"bias2\",initial_value=tf.random_normal([1], stddev=0.35))"
   ]
  },
  {
   "cell_type": "code",
   "execution_count": 7,
   "metadata": {},
   "outputs": [
    {
     "name": "stdout",
     "output_type": "stream",
     "text": [
      "WARNING:tensorflow:From <ipython-input-7-5531f78f22bb>:2: BasicLSTMCell.__init__ (from tensorflow.python.ops.rnn_cell_impl) is deprecated and will be removed in a future version.\n",
      "Instructions for updating:\n",
      "This class is equivalent as tf.keras.layers.LSTMCell, and will be replaced by that in Tensorflow 2.0.\n",
      "WARNING:tensorflow:<tensorflow.python.ops.rnn_cell_impl.BasicLSTMCell object at 0x000001FD2CE33278>: Using a concatenated state is slower and will soon be deprecated.  Use state_is_tuple=True.\n",
      "WARNING:tensorflow:From <ipython-input-7-5531f78f22bb>:3: static_rnn (from tensorflow.python.ops.rnn) is deprecated and will be removed in a future version.\n",
      "Instructions for updating:\n",
      "Please use `keras.layers.RNN(cell, unroll=True)`, which is equivalent to this API\n",
      "WARNING:tensorflow:From C:\\Users\\Guo\\Anaconda3\\envs\\Tensorflow_cpu\\lib\\site-packages\\tensorflow\\python\\ops\\rnn.py:1370: to_int32 (from tensorflow.python.ops.math_ops) is deprecated and will be removed in a future version.\n",
      "Instructions for updating:\n",
      "Use tf.cast instead.\n"
     ]
    }
   ],
   "source": [
    "inputx = tf.unstack(x,1,1)\n",
    "lstm_layer=tf.nn.rnn_cell.BasicLSTMCell(num_units,state_is_tuple=False)\n",
    "outputs,state_output=tf.nn.static_rnn(lstm_layer,inputx,dtype=\"float32\",initial_state = state_in ,sequence_length=[1])\n",
    "state_h,state_c = tf.split(state_output,num_or_size_splits=2,axis=1)\n",
    "dense1  = tf.nn.relu(tf.add(tf.matmul(state_h,out_weights1), out_bias1))\n",
    "prediction=tf.nn.relu(tf.add(tf.matmul(dense1,out_weights2), out_bias2,name='output_forRelu'), name=\"output\")\n",
    "state_out = tf.concat([state_h,state_c],axis=1,name='output_state')\n",
    "prediction_weight=tf.matmul(prediction,loss_weight_in)\n",
    "y_weight=tf.matmul(y,loss_weight_in)"
   ]
  },
  {
   "cell_type": "code",
   "execution_count": 8,
   "metadata": {},
   "outputs": [],
   "source": [
    "init = tf.global_variables_initializer()\n",
    "sess = tf.Session()\n",
    "sess.run(init)"
   ]
  },
  {
   "cell_type": "code",
   "execution_count": 9,
   "metadata": {},
   "outputs": [],
   "source": [
    "i=0\n",
    "feed={x:data_x[i:i+1],\n",
    "      state_in:data_state,\n",
    "        y:data_y[i:i+1],\n",
    "      loss_weight_in:loss_weight[i:i+1]\n",
    "       }"
   ]
  },
  {
   "cell_type": "code",
   "execution_count": 10,
   "metadata": {},
   "outputs": [],
   "source": [
    "a,b=sess.run([outputs,state_output],feed_dict=feed)"
   ]
  },
  {
   "cell_type": "code",
   "execution_count": 11,
   "metadata": {},
   "outputs": [],
   "source": [
    "c=sess.run(state_out,feed_dict=feed)"
   ]
  },
  {
   "cell_type": "code",
   "execution_count": 12,
   "metadata": {},
   "outputs": [
    {
     "name": "stdout",
     "output_type": "stream",
     "text": [
      "WARNING:tensorflow:From <ipython-input-12-98b4e1dc10a8>:5: convert_variables_to_constants (from tensorflow.python.framework.graph_util_impl) is deprecated and will be removed in a future version.\n",
      "Instructions for updating:\n",
      "Use tf.compat.v1.graph_util.convert_variables_to_constants\n",
      "WARNING:tensorflow:From C:\\Users\\Guo\\Anaconda3\\envs\\Tensorflow_cpu\\lib\\site-packages\\tensorflow\\python\\framework\\graph_util_impl.py:245: extract_sub_graph (from tensorflow.python.framework.graph_util_impl) is deprecated and will be removed in a future version.\n",
      "Instructions for updating:\n",
      "Use tf.compat.v1.graph_util.extract_sub_graph\n",
      "INFO:tensorflow:Froze 6 variables.\n",
      "INFO:tensorflow:Converted 6 variables to const ops.\n"
     ]
    }
   ],
   "source": [
    "output_graph='./tmp/model/real_LSTM_fullData_dynamicW_tfTrain_2Dense_7_8_'+'temp'+'.pb'\n",
    "output_graph_def = tf.graph_util.convert_variables_to_constants(\n",
    "        sess, # The session is used to retrieve the weights\n",
    "        tf.get_default_graph().as_graph_def(), # The graph_def is used to retrieve the nodes \n",
    "        ['output','output_state'] # The output node names are used to select the usefull nodes\n",
    "    ) \n",
    "with tf.gfile.GFile(output_graph, \"wb\") as f:\n",
    "        f.write(output_graph_def.SerializeToString())\n",
    "\n"
   ]
  },
  {
   "cell_type": "code",
   "execution_count": 6,
   "metadata": {},
   "outputs": [
    {
     "data": {
      "text/plain": [
       "'\\nwi=tf.Variable(name=\\'wi\\',initial_value=(weights[0][:,0:num_units]))\\nwf=tf.Variable(name=\\'wf\\',initial_value=(weights[0][:,num_units:num_units*2]))\\nwc=tf.Variable(name=\\'wc\\',initial_value=(weights[0][:,num_units*2:num_units*3]))\\nwo=tf.Variable(name=\\'wo\\',initial_value=(weights[0][:,num_units*3:num_units*4]))\\nui=tf.Variable(name=\\'ui\\',initial_value=(weights[1][:,0:num_units]))\\nuf=tf.Variable(name=\\'uf\\',initial_value=(weights[1][:,num_units:num_units*2]))\\nuc=tf.Variable(name=\\'uc\\',initial_value=(weights[1][:,num_units*2:num_units*3]))\\nuo=tf.Variable(name=\\'uo\\',initial_value=(weights[1][:,num_units*3:num_units*4]))\\n\\nbi=tf.Variable(name=\\'bi\\',initial_value=(weights[2][0:num_units]))\\nbf=tf.Variable(name=\\'bf\\',initial_value=(weights[2][num_units:num_units*2]))\\n#bf=tf.Variable(name=\\'bf\\',initial_value=(np.ones(num_units)))\\nbc=tf.Variable(name=\\'bc\\',initial_value=(weights[2][num_units*2:num_units*3]))\\nbo=tf.Variable(name=\\'bo\\',initial_value=(weights[2][num_units*3:num_units*4]))\\n\\nout_weights=tf.Variable(name=\"weights\",initial_value=weights[3])\\nout_bias=tf.Variable(name=\"bias\",initial_value=weights[4])\\n'"
      ]
     },
     "execution_count": 6,
     "metadata": {},
     "output_type": "execute_result"
    }
   ],
   "source": [
    "'''\n",
    "wi=tf.Variable(name='wi',initial_value=(weights[0][:,0:num_units]))\n",
    "wf=tf.Variable(name='wf',initial_value=(weights[0][:,num_units:num_units*2]))\n",
    "wc=tf.Variable(name='wc',initial_value=(weights[0][:,num_units*2:num_units*3]))\n",
    "wo=tf.Variable(name='wo',initial_value=(weights[0][:,num_units*3:num_units*4]))\n",
    "ui=tf.Variable(name='ui',initial_value=(weights[1][:,0:num_units]))\n",
    "uf=tf.Variable(name='uf',initial_value=(weights[1][:,num_units:num_units*2]))\n",
    "uc=tf.Variable(name='uc',initial_value=(weights[1][:,num_units*2:num_units*3]))\n",
    "uo=tf.Variable(name='uo',initial_value=(weights[1][:,num_units*3:num_units*4]))\n",
    "\n",
    "bi=tf.Variable(name='bi',initial_value=(weights[2][0:num_units]))\n",
    "bf=tf.Variable(name='bf',initial_value=(weights[2][num_units:num_units*2]))\n",
    "#bf=tf.Variable(name='bf',initial_value=(np.ones(num_units)))\n",
    "bc=tf.Variable(name='bc',initial_value=(weights[2][num_units*2:num_units*3]))\n",
    "bo=tf.Variable(name='bo',initial_value=(weights[2][num_units*3:num_units*4]))\n",
    "\n",
    "out_weights=tf.Variable(name=\"weights\",initial_value=weights[3])\n",
    "out_bias=tf.Variable(name=\"bias\",initial_value=weights[4])\n",
    "'''"
   ]
  },
  {
   "cell_type": "code",
   "execution_count": 7,
   "metadata": {},
   "outputs": [
    {
     "name": "stdout",
     "output_type": "stream",
     "text": [
      "WARNING:tensorflow:From C:\\Users\\Guo\\Anaconda3\\envs\\Tensorflow_cpu\\lib\\site-packages\\tensorflow\\python\\framework\\op_def_library.py:263: colocate_with (from tensorflow.python.framework.ops) is deprecated and will be removed in a future version.\n",
      "Instructions for updating:\n",
      "Colocations handled automatically by placer.\n"
     ]
    }
   ],
   "source": [
    "wi=tf.Variable(name='wi',initial_value=tf.random_normal([n_input, num_units], stddev=0.35))\n",
    "wf=tf.Variable(name='wf',initial_value=tf.random_normal([n_input, num_units], stddev=0.35))\n",
    "wc=tf.Variable(name='wc',initial_value=tf.random_normal([n_input, num_units], stddev=0.35))\n",
    "wo=tf.Variable(name='wo',initial_value=tf.random_normal([n_input, num_units], stddev=0.35))\n",
    "ui=tf.Variable(name='ui',initial_value=tf.random_normal([num_units, num_units], stddev=0.35))\n",
    "uf=tf.Variable(name='uf',initial_value=tf.random_normal([num_units, num_units], stddev=0.35))\n",
    "uc=tf.Variable(name='uc',initial_value=tf.random_normal([num_units, num_units], stddev=0.35))\n",
    "uo=tf.Variable(name='uo',initial_value=tf.random_normal([num_units, num_units], stddev=0.35))\n",
    "\n",
    "bi=tf.Variable(name='bi',initial_value=tf.random_normal([num_units], stddev=0.35))\n",
    "bf=tf.Variable(name='bf',initial_value=tf.random_normal([num_units], stddev=0.35))\n",
    "bc=tf.Variable(name='bc',initial_value=tf.random_normal([num_units], stddev=0.35))\n",
    "bo=tf.Variable(name='bo',initial_value=tf.random_normal([num_units], stddev=0.35))\n",
    "\n",
    "out_weights1=tf.Variable(name=\"weights1\",initial_value=tf.random_normal([num_units, 16], stddev=0.35))\n",
    "out_weights2=tf.Variable(name=\"weights2\",initial_value=tf.random_normal([16, 1], stddev=0.35))\n",
    "out_bias1=tf.Variable(name=\"bias1\",initial_value=tf.random_normal([16], stddev=0.35))\n",
    "out_bias2=tf.Variable(name=\"bias2\",initial_value=tf.random_normal([1], stddev=0.35))"
   ]
  },
  {
   "cell_type": "code",
   "execution_count": 8,
   "metadata": {},
   "outputs": [],
   "source": [
    "state_h,state_c = tf.split(state_in,num_or_size_splits=2,axis=1)\n",
    "x_i = K.dot(x,wi)\n",
    "x_f = K.dot(x,wf)\n",
    "x_c = K.dot(x,wc)\n",
    "x_o = K.dot(x,wo)\n",
    "\n",
    "i = K.hard_sigmoid(tf.add(tf.add(x_i,bi),K.dot(state_h,ui)))\n",
    "f = K.hard_sigmoid(tf.add(tf.add(x_f,bf),K.dot(state_h,uf)))\n",
    "c = tf.add(tf.multiply(f,state_c),K.tanh(tf.add(tf.add(x_c,bc),K.dot(state_h,uc))),name='output_c')\n",
    "o = K.hard_sigmoid(tf.add(tf.add(x_o,bo),K.dot(state_h,uo)))\n",
    "h = tf.multiply(o,tf.tanh(c),name='output_h')\n",
    "\n",
    "dense1  = tf.nn.relu(tf.add(tf.matmul(h,out_weights1), out_bias1))\n",
    "prediction=tf.nn.relu(tf.add(tf.matmul(dense1,out_weights2), out_bias2,name='output_forRelu'), name=\"output\")\n",
    "#prediction=tf.nn.relu(tf.add(tf.matmul(h,out_weights), out_bias,name='output_forRelu'), name=\"output\")\n",
    "state_out = tf.concat([h,c],axis=1,name='output_state')\n",
    "prediction_weight=tf.matmul(prediction,loss_weight_in)\n",
    "y_weight=tf.matmul(y,loss_weight_in)\n"
   ]
  },
  {
   "cell_type": "code",
   "execution_count": 9,
   "metadata": {},
   "outputs": [
    {
     "name": "stdout",
     "output_type": "stream",
     "text": [
      "WARNING:tensorflow:From C:\\Users\\Guo\\Anaconda3\\envs\\Tensorflow_cpu\\lib\\site-packages\\tensorflow\\python\\ops\\losses\\losses_impl.py:667: to_float (from tensorflow.python.ops.math_ops) is deprecated and will be removed in a future version.\n",
      "Instructions for updating:\n",
      "Use tf.cast instead.\n"
     ]
    }
   ],
   "source": [
    "loss=tf.losses.mean_squared_error(predictions=prediction_weight,labels=y_weight)\n",
    "opt=tf.train.AdamOptimizer(learning_rate=lr).minimize(loss)\n",
    "init = tf.global_variables_initializer()\n",
    "sess = tf.Session()\n",
    "sess.run(init)"
   ]
  },
  {
   "cell_type": "code",
   "execution_count": 10,
   "metadata": {
    "collapsed": true
   },
   "outputs": [
    {
     "name": "stderr",
     "output_type": "stream",
     "text": [
      "100%|██████████████████████████████████████████████████████████████████████████| 96379/96379 [01:34<00:00, 1014.67it/s]\n"
     ]
    },
    {
     "name": "stdout",
     "output_type": "stream",
     "text": [
      "1\n",
      "mse:0.07753940128999763\n",
      "mse_weight:13.848024565117969\n",
      "WARNING:tensorflow:From <ipython-input-10-d777a9c34ace>:39: convert_variables_to_constants (from tensorflow.python.framework.graph_util_impl) is deprecated and will be removed in a future version.\n",
      "Instructions for updating:\n",
      "Use tf.compat.v1.graph_util.convert_variables_to_constants\n",
      "WARNING:tensorflow:From C:\\Users\\Guo\\Anaconda3\\envs\\Tensorflow_cpu\\lib\\site-packages\\tensorflow\\python\\framework\\graph_util_impl.py:245: extract_sub_graph (from tensorflow.python.framework.graph_util_impl) is deprecated and will be removed in a future version.\n",
      "Instructions for updating:\n",
      "Use tf.compat.v1.graph_util.extract_sub_graph\n",
      "INFO:tensorflow:Froze 13 variables.\n",
      "INFO:tensorflow:Converted 13 variables to const ops.\n"
     ]
    },
    {
     "name": "stderr",
     "output_type": "stream",
     "text": [
      "100%|███████████████████████████████████████████████████████████████████████████| 96379/96379 [01:37<00:00, 989.70it/s]\n"
     ]
    },
    {
     "name": "stdout",
     "output_type": "stream",
     "text": [
      "2\n",
      "mse:0.061128552909367764\n",
      "mse_weight:5.264354069200402\n",
      "INFO:tensorflow:Froze 13 variables.\n",
      "INFO:tensorflow:Converted 13 variables to const ops.\n"
     ]
    },
    {
     "name": "stderr",
     "output_type": "stream",
     "text": [
      "100%|███████████████████████████████████████████████████████████████████████████| 96379/96379 [01:36<00:00, 999.90it/s]\n"
     ]
    },
    {
     "name": "stdout",
     "output_type": "stream",
     "text": [
      "3\n",
      "mse:0.04689587663009109\n",
      "mse_weight:4.577734137089795\n",
      "INFO:tensorflow:Froze 13 variables.\n",
      "INFO:tensorflow:Converted 13 variables to const ops.\n"
     ]
    },
    {
     "name": "stderr",
     "output_type": "stream",
     "text": [
      "100%|███████████████████████████████████████████████████████████████████████████| 96379/96379 [01:38<00:00, 974.77it/s]\n"
     ]
    },
    {
     "name": "stdout",
     "output_type": "stream",
     "text": [
      "4\n",
      "mse:0.041577826210707124\n",
      "mse_weight:4.116163324716712\n",
      "INFO:tensorflow:Froze 13 variables.\n",
      "INFO:tensorflow:Converted 13 variables to const ops.\n"
     ]
    },
    {
     "name": "stderr",
     "output_type": "stream",
     "text": [
      "100%|███████████████████████████████████████████████████████████████████████████| 96379/96379 [01:38<00:00, 982.91it/s]\n"
     ]
    },
    {
     "name": "stdout",
     "output_type": "stream",
     "text": [
      "5\n",
      "mse:0.03882226567544795\n",
      "mse_weight:3.929781790092375\n",
      "INFO:tensorflow:Froze 13 variables.\n",
      "INFO:tensorflow:Converted 13 variables to const ops.\n"
     ]
    },
    {
     "name": "stderr",
     "output_type": "stream",
     "text": [
      "100%|███████████████████████████████████████████████████████████████████████████| 96379/96379 [01:37<00:00, 987.70it/s]\n"
     ]
    },
    {
     "name": "stdout",
     "output_type": "stream",
     "text": [
      "6\n",
      "mse:0.037102840027030785\n",
      "mse_weight:3.776784509356944\n",
      "INFO:tensorflow:Froze 13 variables.\n",
      "INFO:tensorflow:Converted 13 variables to const ops.\n"
     ]
    },
    {
     "name": "stderr",
     "output_type": "stream",
     "text": [
      "100%|███████████████████████████████████████████████████████████████████████████| 96379/96379 [01:37<00:00, 988.60it/s]\n"
     ]
    },
    {
     "name": "stdout",
     "output_type": "stream",
     "text": [
      "7\n",
      "mse:0.03604066113828416\n",
      "mse_weight:3.6770993326159322\n",
      "INFO:tensorflow:Froze 13 variables.\n",
      "INFO:tensorflow:Converted 13 variables to const ops.\n"
     ]
    },
    {
     "name": "stderr",
     "output_type": "stream",
     "text": [
      "100%|███████████████████████████████████████████████████████████████████████████| 96379/96379 [01:37<00:00, 983.49it/s]\n"
     ]
    },
    {
     "name": "stdout",
     "output_type": "stream",
     "text": [
      "8\n",
      "mse:0.036682330401830165\n",
      "mse_weight:3.5348538652349677\n",
      "INFO:tensorflow:Froze 13 variables.\n",
      "INFO:tensorflow:Converted 13 variables to const ops.\n"
     ]
    },
    {
     "name": "stderr",
     "output_type": "stream",
     "text": [
      "100%|███████████████████████████████████████████████████████████████████████████| 96379/96379 [01:38<00:00, 983.09it/s]\n"
     ]
    },
    {
     "name": "stdout",
     "output_type": "stream",
     "text": [
      "9\n",
      "mse:0.03736368615445903\n",
      "mse_weight:3.4107760078678044\n",
      "INFO:tensorflow:Froze 13 variables.\n",
      "INFO:tensorflow:Converted 13 variables to const ops.\n"
     ]
    },
    {
     "name": "stderr",
     "output_type": "stream",
     "text": [
      "100%|███████████████████████████████████████████████████████████████████████████| 96379/96379 [01:37<00:00, 986.15it/s]\n"
     ]
    },
    {
     "name": "stdout",
     "output_type": "stream",
     "text": [
      "10\n",
      "mse:0.0363498678489412\n",
      "mse_weight:3.249177544352012\n",
      "INFO:tensorflow:Froze 13 variables.\n",
      "INFO:tensorflow:Converted 13 variables to const ops.\n"
     ]
    },
    {
     "name": "stderr",
     "output_type": "stream",
     "text": [
      "100%|███████████████████████████████████████████████████████████████████████████| 96379/96379 [01:38<00:00, 981.68it/s]\n"
     ]
    },
    {
     "name": "stdout",
     "output_type": "stream",
     "text": [
      "11\n",
      "mse:0.018361465735373436\n",
      "mse_weight:2.8638492120959436\n",
      "INFO:tensorflow:Froze 13 variables.\n",
      "INFO:tensorflow:Converted 13 variables to const ops.\n"
     ]
    },
    {
     "name": "stderr",
     "output_type": "stream",
     "text": [
      "100%|███████████████████████████████████████████████████████████████████████████| 96379/96379 [01:39<00:00, 965.14it/s]\n"
     ]
    },
    {
     "name": "stdout",
     "output_type": "stream",
     "text": [
      "12\n",
      "mse:0.020715366391035585\n",
      "mse_weight:2.6684634563720846\n",
      "INFO:tensorflow:Froze 13 variables.\n",
      "INFO:tensorflow:Converted 13 variables to const ops.\n"
     ]
    },
    {
     "name": "stderr",
     "output_type": "stream",
     "text": [
      "100%|███████████████████████████████████████████████████████████████████████████| 96379/96379 [01:39<00:00, 968.60it/s]\n"
     ]
    },
    {
     "name": "stdout",
     "output_type": "stream",
     "text": [
      "13\n",
      "mse:0.023025018675547442\n",
      "mse_weight:2.385232942624239\n",
      "INFO:tensorflow:Froze 13 variables.\n",
      "INFO:tensorflow:Converted 13 variables to const ops.\n"
     ]
    },
    {
     "name": "stderr",
     "output_type": "stream",
     "text": [
      "100%|███████████████████████████████████████████████████████████████████████████| 96379/96379 [01:38<00:00, 977.96it/s]\n"
     ]
    },
    {
     "name": "stdout",
     "output_type": "stream",
     "text": [
      "14\n",
      "mse:0.024259682220599207\n",
      "mse_weight:2.3734872811307435\n",
      "INFO:tensorflow:Froze 13 variables.\n",
      "INFO:tensorflow:Converted 13 variables to const ops.\n"
     ]
    },
    {
     "name": "stderr",
     "output_type": "stream",
     "text": [
      "100%|███████████████████████████████████████████████████████████████████████████| 96379/96379 [01:38<00:00, 983.15it/s]\n"
     ]
    },
    {
     "name": "stdout",
     "output_type": "stream",
     "text": [
      "15\n",
      "mse:0.025876232736786985\n",
      "mse_weight:2.362149977491455\n",
      "INFO:tensorflow:Froze 13 variables.\n",
      "INFO:tensorflow:Converted 13 variables to const ops.\n"
     ]
    },
    {
     "name": "stderr",
     "output_type": "stream",
     "text": [
      "100%|███████████████████████████████████████████████████████████████████████████| 96379/96379 [01:38<00:00, 980.40it/s]\n"
     ]
    },
    {
     "name": "stdout",
     "output_type": "stream",
     "text": [
      "16\n",
      "mse:0.02495544059118605\n",
      "mse_weight:2.2952539583934297\n",
      "INFO:tensorflow:Froze 13 variables.\n",
      "INFO:tensorflow:Converted 13 variables to const ops.\n"
     ]
    },
    {
     "name": "stderr",
     "output_type": "stream",
     "text": [
      "100%|███████████████████████████████████████████████████████████████████████████| 96379/96379 [01:37<00:00, 984.40it/s]\n"
     ]
    },
    {
     "name": "stdout",
     "output_type": "stream",
     "text": [
      "17\n",
      "mse:0.026544138004740456\n",
      "mse_weight:2.280417744082939\n",
      "INFO:tensorflow:Froze 13 variables.\n",
      "INFO:tensorflow:Converted 13 variables to const ops.\n"
     ]
    },
    {
     "name": "stderr",
     "output_type": "stream",
     "text": [
      "100%|███████████████████████████████████████████████████████████████████████████| 96379/96379 [01:38<00:00, 982.39it/s]\n"
     ]
    },
    {
     "name": "stdout",
     "output_type": "stream",
     "text": [
      "18\n",
      "mse:0.029020387057499823\n",
      "mse_weight:2.3171727071821904\n",
      "INFO:tensorflow:Froze 13 variables.\n",
      "INFO:tensorflow:Converted 13 variables to const ops.\n"
     ]
    },
    {
     "name": "stderr",
     "output_type": "stream",
     "text": [
      "100%|███████████████████████████████████████████████████████████████████████████| 96379/96379 [01:38<00:00, 980.93it/s]\n"
     ]
    },
    {
     "name": "stdout",
     "output_type": "stream",
     "text": [
      "19\n",
      "mse:0.02920833195424547\n",
      "mse_weight:2.3232256756732035\n",
      "INFO:tensorflow:Froze 13 variables.\n",
      "INFO:tensorflow:Converted 13 variables to const ops.\n"
     ]
    },
    {
     "name": "stderr",
     "output_type": "stream",
     "text": [
      "100%|███████████████████████████████████████████████████████████████████████████| 96379/96379 [01:38<00:00, 982.09it/s]\n"
     ]
    },
    {
     "name": "stdout",
     "output_type": "stream",
     "text": [
      "20\n",
      "mse:0.029695096347255343\n",
      "mse_weight:2.408717691348592\n",
      "INFO:tensorflow:Froze 13 variables.\n",
      "INFO:tensorflow:Converted 13 variables to const ops.\n"
     ]
    },
    {
     "name": "stderr",
     "output_type": "stream",
     "text": [
      "100%|███████████████████████████████████████████████████████████████████████████| 96379/96379 [01:38<00:00, 981.88it/s]\n"
     ]
    },
    {
     "name": "stdout",
     "output_type": "stream",
     "text": [
      "21\n",
      "mse:0.021303720127143978\n",
      "mse_weight:3.3357997488508166\n",
      "INFO:tensorflow:Froze 13 variables.\n",
      "INFO:tensorflow:Converted 13 variables to const ops.\n"
     ]
    },
    {
     "name": "stderr",
     "output_type": "stream",
     "text": [
      "100%|███████████████████████████████████████████████████████████████████████████| 96379/96379 [01:39<00:00, 967.84it/s]\n"
     ]
    },
    {
     "name": "stdout",
     "output_type": "stream",
     "text": [
      "22\n",
      "mse:0.02144882802974417\n",
      "mse_weight:3.0940647671463952\n",
      "INFO:tensorflow:Froze 13 variables.\n",
      "INFO:tensorflow:Converted 13 variables to const ops.\n"
     ]
    },
    {
     "name": "stderr",
     "output_type": "stream",
     "text": [
      "100%|███████████████████████████████████████████████████████████████████████████| 96379/96379 [01:40<00:00, 954.57it/s]\n"
     ]
    },
    {
     "name": "stdout",
     "output_type": "stream",
     "text": [
      "23\n",
      "mse:0.023453407873562045\n",
      "mse_weight:2.9115810134461135\n",
      "INFO:tensorflow:Froze 13 variables.\n",
      "INFO:tensorflow:Converted 13 variables to const ops.\n"
     ]
    },
    {
     "name": "stderr",
     "output_type": "stream",
     "text": [
      "100%|███████████████████████████████████████████████████████████████████████████| 96379/96379 [01:40<00:00, 974.03it/s]\n"
     ]
    },
    {
     "name": "stdout",
     "output_type": "stream",
     "text": [
      "24\n",
      "mse:0.02509412074171294\n",
      "mse_weight:3.0372704288436587\n",
      "INFO:tensorflow:Froze 13 variables.\n",
      "INFO:tensorflow:Converted 13 variables to const ops.\n"
     ]
    },
    {
     "name": "stderr",
     "output_type": "stream",
     "text": [
      "100%|███████████████████████████████████████████████████████████████████████████| 96379/96379 [01:39<00:00, 971.47it/s]\n"
     ]
    },
    {
     "name": "stdout",
     "output_type": "stream",
     "text": [
      "25\n",
      "mse:0.026564501897807298\n",
      "mse_weight:2.8909115573297646\n",
      "INFO:tensorflow:Froze 13 variables.\n",
      "INFO:tensorflow:Converted 13 variables to const ops.\n"
     ]
    },
    {
     "name": "stderr",
     "output_type": "stream",
     "text": [
      "100%|██████████████████████████████████████████████████████████████████████████| 96379/96379 [01:34<00:00, 1019.62it/s]\n"
     ]
    },
    {
     "name": "stdout",
     "output_type": "stream",
     "text": [
      "26\n",
      "mse:0.025215617711741547\n",
      "mse_weight:2.861534181154318\n",
      "INFO:tensorflow:Froze 13 variables.\n",
      "INFO:tensorflow:Converted 13 variables to const ops.\n"
     ]
    },
    {
     "name": "stderr",
     "output_type": "stream",
     "text": [
      "100%|██████████████████████████████████████████████████████████████████████████| 96379/96379 [01:30<00:00, 1069.44it/s]\n"
     ]
    },
    {
     "name": "stdout",
     "output_type": "stream",
     "text": [
      "27\n",
      "mse:0.02891907076569465\n",
      "mse_weight:2.750629701754771\n",
      "INFO:tensorflow:Froze 13 variables.\n",
      "INFO:tensorflow:Converted 13 variables to const ops.\n"
     ]
    },
    {
     "name": "stderr",
     "output_type": "stream",
     "text": [
      "100%|██████████████████████████████████████████████████████████████████████████| 96379/96379 [01:32<00:00, 1044.27it/s]\n"
     ]
    },
    {
     "name": "stdout",
     "output_type": "stream",
     "text": [
      "28\n",
      "mse:0.024880277163138856\n",
      "mse_weight:2.660223546007287\n",
      "INFO:tensorflow:Froze 13 variables.\n",
      "INFO:tensorflow:Converted 13 variables to const ops.\n"
     ]
    },
    {
     "name": "stderr",
     "output_type": "stream",
     "text": [
      "100%|██████████████████████████████████████████████████████████████████████████| 96379/96379 [01:32<00:00, 1041.12it/s]\n"
     ]
    },
    {
     "name": "stdout",
     "output_type": "stream",
     "text": [
      "29\n",
      "mse:0.02732153194883534\n",
      "mse_weight:2.6621542775117755\n",
      "INFO:tensorflow:Froze 13 variables.\n",
      "INFO:tensorflow:Converted 13 variables to const ops.\n"
     ]
    },
    {
     "name": "stderr",
     "output_type": "stream",
     "text": [
      "100%|██████████████████████████████████████████████████████████████████████████| 96379/96379 [01:33<00:00, 1030.77it/s]\n"
     ]
    },
    {
     "name": "stdout",
     "output_type": "stream",
     "text": [
      "30\n",
      "mse:0.026269649185672466\n",
      "mse_weight:2.747534522740777\n",
      "INFO:tensorflow:Froze 13 variables.\n",
      "INFO:tensorflow:Converted 13 variables to const ops.\n"
     ]
    },
    {
     "name": "stderr",
     "output_type": "stream",
     "text": [
      "100%|██████████████████████████████████████████████████████████████████████████| 96379/96379 [01:35<00:00, 1008.22it/s]\n"
     ]
    },
    {
     "name": "stdout",
     "output_type": "stream",
     "text": [
      "31\n",
      "mse:0.019285878206760493\n",
      "mse_weight:2.8309180971235763\n",
      "INFO:tensorflow:Froze 13 variables.\n",
      "INFO:tensorflow:Converted 13 variables to const ops.\n"
     ]
    },
    {
     "name": "stderr",
     "output_type": "stream",
     "text": [
      "100%|██████████████████████████████████████████████████████████████████████████| 96379/96379 [01:35<00:00, 1006.67it/s]\n"
     ]
    },
    {
     "name": "stdout",
     "output_type": "stream",
     "text": [
      "32\n",
      "mse:0.023381883097672397\n",
      "mse_weight:2.684805549087302\n",
      "INFO:tensorflow:Froze 13 variables.\n",
      "INFO:tensorflow:Converted 13 variables to const ops.\n"
     ]
    },
    {
     "name": "stderr",
     "output_type": "stream",
     "text": [
      "100%|██████████████████████████████████████████████████████████████████████████| 96379/96379 [01:35<00:00, 1006.08it/s]\n"
     ]
    },
    {
     "name": "stdout",
     "output_type": "stream",
     "text": [
      "33\n",
      "mse:0.022239007140572933\n",
      "mse_weight:2.6436599454711076\n",
      "INFO:tensorflow:Froze 13 variables.\n",
      "INFO:tensorflow:Converted 13 variables to const ops.\n"
     ]
    },
    {
     "name": "stderr",
     "output_type": "stream",
     "text": [
      "100%|██████████████████████████████████████████████████████████████████████████| 96379/96379 [01:36<00:00, 1000.09it/s]\n"
     ]
    },
    {
     "name": "stdout",
     "output_type": "stream",
     "text": [
      "34\n",
      "mse:0.02901420237247684\n",
      "mse_weight:2.8995558983878187\n",
      "INFO:tensorflow:Froze 13 variables.\n",
      "INFO:tensorflow:Converted 13 variables to const ops.\n"
     ]
    },
    {
     "name": "stderr",
     "output_type": "stream",
     "text": [
      "100%|███████████████████████████████████████████████████████████████████████████| 96379/96379 [01:36<00:00, 998.05it/s]\n"
     ]
    },
    {
     "name": "stdout",
     "output_type": "stream",
     "text": [
      "35\n",
      "mse:0.027185690585837433\n",
      "mse_weight:2.6699912027977404\n",
      "INFO:tensorflow:Froze 13 variables.\n",
      "INFO:tensorflow:Converted 13 variables to const ops.\n"
     ]
    },
    {
     "name": "stderr",
     "output_type": "stream",
     "text": [
      "100%|███████████████████████████████████████████████████████████████████████████| 96379/96379 [01:36<00:00, 997.53it/s]\n"
     ]
    },
    {
     "name": "stdout",
     "output_type": "stream",
     "text": [
      "36\n",
      "mse:0.023896435737681316\n",
      "mse_weight:2.7585341335656177\n",
      "INFO:tensorflow:Froze 13 variables.\n",
      "INFO:tensorflow:Converted 13 variables to const ops.\n"
     ]
    },
    {
     "name": "stderr",
     "output_type": "stream",
     "text": [
      "100%|███████████████████████████████████████████████████████████████████████████| 96379/96379 [01:36<00:00, 999.27it/s]\n"
     ]
    },
    {
     "name": "stdout",
     "output_type": "stream",
     "text": [
      "37\n",
      "mse:0.02160860156067371\n",
      "mse_weight:2.6812358868378974\n",
      "INFO:tensorflow:Froze 13 variables.\n",
      "INFO:tensorflow:Converted 13 variables to const ops.\n"
     ]
    },
    {
     "name": "stderr",
     "output_type": "stream",
     "text": [
      "100%|███████████████████████████████████████████████████████████████████████████| 96379/96379 [01:36<00:00, 997.17it/s]\n"
     ]
    },
    {
     "name": "stdout",
     "output_type": "stream",
     "text": [
      "38\n",
      "mse:0.021315431126536607\n",
      "mse_weight:2.7216024436581088\n",
      "INFO:tensorflow:Froze 13 variables.\n",
      "INFO:tensorflow:Converted 13 variables to const ops.\n"
     ]
    },
    {
     "name": "stderr",
     "output_type": "stream",
     "text": [
      "100%|███████████████████████████████████████████████████████████████████████████| 96379/96379 [01:37<00:00, 990.89it/s]\n"
     ]
    },
    {
     "name": "stdout",
     "output_type": "stream",
     "text": [
      "39\n",
      "mse:0.02670679414977085\n",
      "mse_weight:2.908970653881183\n",
      "INFO:tensorflow:Froze 13 variables.\n",
      "INFO:tensorflow:Converted 13 variables to const ops.\n"
     ]
    },
    {
     "name": "stderr",
     "output_type": "stream",
     "text": [
      "100%|███████████████████████████████████████████████████████████████████████████| 96379/96379 [01:37<00:00, 990.44it/s]\n"
     ]
    },
    {
     "name": "stdout",
     "output_type": "stream",
     "text": [
      "40\n",
      "mse:0.03114696244004142\n",
      "mse_weight:2.773714835077248\n",
      "INFO:tensorflow:Froze 13 variables.\n",
      "INFO:tensorflow:Converted 13 variables to const ops.\n"
     ]
    },
    {
     "name": "stderr",
     "output_type": "stream",
     "text": [
      "100%|███████████████████████████████████████████████████████████████████████████| 96379/96379 [01:37<00:00, 990.63it/s]\n"
     ]
    },
    {
     "name": "stdout",
     "output_type": "stream",
     "text": [
      "41\n",
      "mse:0.02712968864931622\n",
      "mse_weight:2.6664653459855394\n",
      "INFO:tensorflow:Froze 13 variables.\n",
      "INFO:tensorflow:Converted 13 variables to const ops.\n"
     ]
    },
    {
     "name": "stderr",
     "output_type": "stream",
     "text": [
      "100%|███████████████████████████████████████████████████████████████████████████| 96379/96379 [01:39<00:00, 970.35it/s]\n"
     ]
    },
    {
     "name": "stdout",
     "output_type": "stream",
     "text": [
      "42\n",
      "mse:0.030954250456055828\n",
      "mse_weight:2.3504192517944724\n",
      "INFO:tensorflow:Froze 13 variables.\n",
      "INFO:tensorflow:Converted 13 variables to const ops.\n"
     ]
    },
    {
     "name": "stderr",
     "output_type": "stream",
     "text": [
      "100%|███████████████████████████████████████████████████████████████████████████| 96379/96379 [01:39<00:00, 970.82it/s]\n"
     ]
    },
    {
     "name": "stdout",
     "output_type": "stream",
     "text": [
      "43\n",
      "mse:0.029517310045226293\n",
      "mse_weight:2.276798842482635\n",
      "INFO:tensorflow:Froze 13 variables.\n",
      "INFO:tensorflow:Converted 13 variables to const ops.\n"
     ]
    },
    {
     "name": "stderr",
     "output_type": "stream",
     "text": [
      "100%|███████████████████████████████████████████████████████████████████████████| 96379/96379 [01:38<00:00, 976.39it/s]\n"
     ]
    },
    {
     "name": "stdout",
     "output_type": "stream",
     "text": [
      "44\n",
      "mse:0.02355604228128921\n",
      "mse_weight:2.3773898773243327\n",
      "INFO:tensorflow:Froze 13 variables.\n",
      "INFO:tensorflow:Converted 13 variables to const ops.\n"
     ]
    },
    {
     "name": "stderr",
     "output_type": "stream",
     "text": [
      "100%|███████████████████████████████████████████████████████████████████████████| 96379/96379 [01:39<00:00, 968.60it/s]\n"
     ]
    },
    {
     "name": "stdout",
     "output_type": "stream",
     "text": [
      "45\n",
      "mse:0.024202956767745767\n",
      "mse_weight:2.365314749379823\n",
      "INFO:tensorflow:Froze 13 variables.\n",
      "INFO:tensorflow:Converted 13 variables to const ops.\n"
     ]
    },
    {
     "name": "stderr",
     "output_type": "stream",
     "text": [
      "100%|███████████████████████████████████████████████████████████████████████████| 96379/96379 [01:36<00:00, 993.83it/s]\n"
     ]
    },
    {
     "name": "stdout",
     "output_type": "stream",
     "text": [
      "46\n",
      "mse:0.0318424323544379\n",
      "mse_weight:2.7082213105260844\n",
      "INFO:tensorflow:Froze 13 variables.\n",
      "INFO:tensorflow:Converted 13 variables to const ops.\n"
     ]
    },
    {
     "name": "stderr",
     "output_type": "stream",
     "text": [
      "100%|███████████████████████████████████████████████████████████████████████████| 96379/96379 [01:36<00:00, 993.80it/s]\n"
     ]
    },
    {
     "name": "stdout",
     "output_type": "stream",
     "text": [
      "47\n",
      "mse:0.03473210984726182\n",
      "mse_weight:2.7897579401959374\n",
      "INFO:tensorflow:Froze 13 variables.\n",
      "INFO:tensorflow:Converted 13 variables to const ops.\n"
     ]
    },
    {
     "name": "stderr",
     "output_type": "stream",
     "text": [
      "100%|███████████████████████████████████████████████████████████████████████████| 96379/96379 [01:38<00:00, 973.99it/s]\n"
     ]
    },
    {
     "name": "stdout",
     "output_type": "stream",
     "text": [
      "48\n",
      "mse:0.038577470892345374\n",
      "mse_weight:2.734027632810618\n",
      "INFO:tensorflow:Froze 13 variables.\n",
      "INFO:tensorflow:Converted 13 variables to const ops.\n"
     ]
    },
    {
     "name": "stderr",
     "output_type": "stream",
     "text": [
      "100%|███████████████████████████████████████████████████████████████████████████| 96379/96379 [01:38<00:00, 981.50it/s]\n"
     ]
    },
    {
     "name": "stdout",
     "output_type": "stream",
     "text": [
      "49\n",
      "mse:0.027561407216537947\n",
      "mse_weight:2.846279220351397\n",
      "INFO:tensorflow:Froze 13 variables.\n",
      "INFO:tensorflow:Converted 13 variables to const ops.\n"
     ]
    },
    {
     "name": "stderr",
     "output_type": "stream",
     "text": [
      "100%|███████████████████████████████████████████████████████████████████████████| 96379/96379 [01:38<00:00, 973.76it/s]\n"
     ]
    },
    {
     "name": "stdout",
     "output_type": "stream",
     "text": [
      "50\n",
      "mse:0.020096558413033996\n",
      "mse_weight:2.7594906321600017\n",
      "INFO:tensorflow:Froze 13 variables.\n",
      "INFO:tensorflow:Converted 13 variables to const ops.\n"
     ]
    },
    {
     "name": "stderr",
     "output_type": "stream",
     "text": [
      "100%|███████████████████████████████████████████████████████████████████████████| 96379/96379 [01:39<00:00, 973.19it/s]\n"
     ]
    },
    {
     "name": "stdout",
     "output_type": "stream",
     "text": [
      "51\n",
      "mse:0.014232319044691941\n",
      "mse_weight:4.300208077816133\n",
      "INFO:tensorflow:Froze 13 variables.\n",
      "INFO:tensorflow:Converted 13 variables to const ops.\n"
     ]
    },
    {
     "name": "stderr",
     "output_type": "stream",
     "text": [
      "100%|███████████████████████████████████████████████████████████████████████████| 96379/96379 [01:39<00:00, 965.30it/s]\n"
     ]
    },
    {
     "name": "stdout",
     "output_type": "stream",
     "text": [
      "52\n",
      "mse:0.015596867331230896\n",
      "mse_weight:4.10382496915674\n",
      "INFO:tensorflow:Froze 13 variables.\n",
      "INFO:tensorflow:Converted 13 variables to const ops.\n"
     ]
    },
    {
     "name": "stderr",
     "output_type": "stream",
     "text": [
      "100%|███████████████████████████████████████████████████████████████████████████| 96379/96379 [01:37<00:00, 989.77it/s]\n"
     ]
    },
    {
     "name": "stdout",
     "output_type": "stream",
     "text": [
      "53\n",
      "mse:0.014300438738233999\n",
      "mse_weight:4.174211324153012\n",
      "INFO:tensorflow:Froze 13 variables.\n",
      "INFO:tensorflow:Converted 13 variables to const ops.\n"
     ]
    },
    {
     "name": "stderr",
     "output_type": "stream",
     "text": [
      "100%|███████████████████████████████████████████████████████████████████████████| 96379/96379 [01:40<00:00, 955.89it/s]\n"
     ]
    },
    {
     "name": "stdout",
     "output_type": "stream",
     "text": [
      "54\n",
      "mse:0.015549411720837802\n",
      "mse_weight:3.892151085966946\n",
      "INFO:tensorflow:Froze 13 variables.\n",
      "INFO:tensorflow:Converted 13 variables to const ops.\n"
     ]
    },
    {
     "name": "stderr",
     "output_type": "stream",
     "text": [
      "100%|███████████████████████████████████████████████████████████████████████████| 96379/96379 [01:40<00:00, 960.40it/s]\n"
     ]
    },
    {
     "name": "stdout",
     "output_type": "stream",
     "text": [
      "55\n",
      "mse:0.01723829196638069\n",
      "mse_weight:3.908888991939086\n",
      "INFO:tensorflow:Froze 13 variables.\n",
      "INFO:tensorflow:Converted 13 variables to const ops.\n"
     ]
    },
    {
     "name": "stderr",
     "output_type": "stream",
     "text": [
      "100%|███████████████████████████████████████████████████████████████████████████| 96379/96379 [01:40<00:00, 962.38it/s]\n"
     ]
    },
    {
     "name": "stdout",
     "output_type": "stream",
     "text": [
      "56\n",
      "mse:0.015803668904632792\n",
      "mse_weight:4.020437953516899\n",
      "INFO:tensorflow:Froze 13 variables.\n",
      "INFO:tensorflow:Converted 13 variables to const ops.\n"
     ]
    },
    {
     "name": "stderr",
     "output_type": "stream",
     "text": [
      "100%|███████████████████████████████████████████████████████████████████████████| 96379/96379 [01:38<00:00, 982.21it/s]\n"
     ]
    },
    {
     "name": "stdout",
     "output_type": "stream",
     "text": [
      "57\n",
      "mse:0.01970734701288372\n",
      "mse_weight:3.873069642116167\n",
      "INFO:tensorflow:Froze 13 variables.\n",
      "INFO:tensorflow:Converted 13 variables to const ops.\n"
     ]
    },
    {
     "name": "stderr",
     "output_type": "stream",
     "text": [
      "100%|███████████████████████████████████████████████████████████████████████████| 96379/96379 [01:38<00:00, 976.68it/s]\n"
     ]
    },
    {
     "name": "stdout",
     "output_type": "stream",
     "text": [
      "58\n",
      "mse:0.024830711491443978\n",
      "mse_weight:3.7532846845204793\n",
      "INFO:tensorflow:Froze 13 variables.\n",
      "INFO:tensorflow:Converted 13 variables to const ops.\n"
     ]
    },
    {
     "name": "stderr",
     "output_type": "stream",
     "text": [
      "100%|███████████████████████████████████████████████████████████████████████████| 96379/96379 [01:38<00:00, 976.41it/s]\n"
     ]
    },
    {
     "name": "stdout",
     "output_type": "stream",
     "text": [
      "59\n",
      "mse:0.016729632460954737\n",
      "mse_weight:3.674323457724611\n",
      "INFO:tensorflow:Froze 13 variables.\n",
      "INFO:tensorflow:Converted 13 variables to const ops.\n"
     ]
    },
    {
     "name": "stderr",
     "output_type": "stream",
     "text": [
      "100%|███████████████████████████████████████████████████████████████████████████| 96379/96379 [01:38<00:00, 978.50it/s]\n"
     ]
    },
    {
     "name": "stdout",
     "output_type": "stream",
     "text": [
      "60\n",
      "mse:0.02108608493381032\n",
      "mse_weight:3.9976113171362866\n",
      "INFO:tensorflow:Froze 13 variables.\n",
      "INFO:tensorflow:Converted 13 variables to const ops.\n"
     ]
    },
    {
     "name": "stderr",
     "output_type": "stream",
     "text": [
      "100%|███████████████████████████████████████████████████████████████████████████| 96379/96379 [01:38<00:00, 977.69it/s]\n"
     ]
    },
    {
     "name": "stdout",
     "output_type": "stream",
     "text": [
      "61\n",
      "mse:0.017469372957994823\n",
      "mse_weight:3.476732387298403\n",
      "INFO:tensorflow:Froze 13 variables.\n",
      "INFO:tensorflow:Converted 13 variables to const ops.\n"
     ]
    },
    {
     "name": "stderr",
     "output_type": "stream",
     "text": [
      "100%|███████████████████████████████████████████████████████████████████████████| 96379/96379 [01:38<00:00, 975.43it/s]\n"
     ]
    },
    {
     "name": "stdout",
     "output_type": "stream",
     "text": [
      "62\n",
      "mse:0.015243821700700325\n",
      "mse_weight:3.4137350723864635\n",
      "INFO:tensorflow:Froze 13 variables.\n",
      "INFO:tensorflow:Converted 13 variables to const ops.\n"
     ]
    },
    {
     "name": "stderr",
     "output_type": "stream",
     "text": [
      "100%|███████████████████████████████████████████████████████████████████████████| 96379/96379 [01:39<00:00, 970.02it/s]\n"
     ]
    },
    {
     "name": "stdout",
     "output_type": "stream",
     "text": [
      "63\n",
      "mse:0.016388296931835484\n",
      "mse_weight:3.733161226896514\n",
      "INFO:tensorflow:Froze 13 variables.\n",
      "INFO:tensorflow:Converted 13 variables to const ops.\n"
     ]
    },
    {
     "name": "stderr",
     "output_type": "stream",
     "text": [
      "100%|███████████████████████████████████████████████████████████████████████████| 96379/96379 [01:39<00:00, 964.03it/s]\n"
     ]
    },
    {
     "name": "stdout",
     "output_type": "stream",
     "text": [
      "64\n",
      "mse:0.018487955618362084\n",
      "mse_weight:3.390086992886293\n",
      "INFO:tensorflow:Froze 13 variables.\n",
      "INFO:tensorflow:Converted 13 variables to const ops.\n"
     ]
    },
    {
     "name": "stderr",
     "output_type": "stream",
     "text": [
      "100%|███████████████████████████████████████████████████████████████████████████| 96379/96379 [01:38<00:00, 980.55it/s]\n"
     ]
    },
    {
     "name": "stdout",
     "output_type": "stream",
     "text": [
      "65\n",
      "mse:0.023825331763949083\n",
      "mse_weight:3.1792257503643273\n",
      "INFO:tensorflow:Froze 13 variables.\n",
      "INFO:tensorflow:Converted 13 variables to const ops.\n"
     ]
    },
    {
     "name": "stderr",
     "output_type": "stream",
     "text": [
      "100%|███████████████████████████████████████████████████████████████████████████| 96379/96379 [01:38<00:00, 977.29it/s]\n"
     ]
    },
    {
     "name": "stdout",
     "output_type": "stream",
     "text": [
      "66\n",
      "mse:0.020390834851897334\n",
      "mse_weight:3.2110235196388244\n",
      "INFO:tensorflow:Froze 13 variables.\n",
      "INFO:tensorflow:Converted 13 variables to const ops.\n"
     ]
    },
    {
     "name": "stderr",
     "output_type": "stream",
     "text": [
      "100%|███████████████████████████████████████████████████████████████████████████| 96379/96379 [01:38<00:00, 974.47it/s]\n"
     ]
    },
    {
     "name": "stdout",
     "output_type": "stream",
     "text": [
      "67\n",
      "mse:0.024396600033746857\n",
      "mse_weight:3.164418335078652\n",
      "INFO:tensorflow:Froze 13 variables.\n",
      "INFO:tensorflow:Converted 13 variables to const ops.\n"
     ]
    },
    {
     "name": "stderr",
     "output_type": "stream",
     "text": [
      "100%|███████████████████████████████████████████████████████████████████████████| 96379/96379 [01:38<00:00, 977.89it/s]\n"
     ]
    },
    {
     "name": "stdout",
     "output_type": "stream",
     "text": [
      "68\n",
      "mse:0.019122297982241843\n",
      "mse_weight:3.2475883320420738\n",
      "INFO:tensorflow:Froze 13 variables.\n",
      "INFO:tensorflow:Converted 13 variables to const ops.\n"
     ]
    },
    {
     "name": "stderr",
     "output_type": "stream",
     "text": [
      "100%|███████████████████████████████████████████████████████████████████████████| 96379/96379 [01:39<00:00, 968.35it/s]\n"
     ]
    },
    {
     "name": "stdout",
     "output_type": "stream",
     "text": [
      "69\n",
      "mse:0.017973974491116117\n",
      "mse_weight:3.3720933837424494\n",
      "INFO:tensorflow:Froze 13 variables.\n",
      "INFO:tensorflow:Converted 13 variables to const ops.\n"
     ]
    },
    {
     "name": "stderr",
     "output_type": "stream",
     "text": [
      "100%|███████████████████████████████████████████████████████████████████████████| 96379/96379 [01:39<00:00, 965.14it/s]\n"
     ]
    },
    {
     "name": "stdout",
     "output_type": "stream",
     "text": [
      "70\n",
      "mse:0.016640511507007343\n",
      "mse_weight:3.2690119847740373\n",
      "INFO:tensorflow:Froze 13 variables.\n",
      "INFO:tensorflow:Converted 13 variables to const ops.\n"
     ]
    },
    {
     "name": "stderr",
     "output_type": "stream",
     "text": [
      "100%|███████████████████████████████████████████████████████████████████████████| 96379/96379 [01:40<00:00, 958.25it/s]\n"
     ]
    },
    {
     "name": "stdout",
     "output_type": "stream",
     "text": [
      "71\n",
      "mse:0.012394643641036438\n",
      "mse_weight:4.40372135340721\n",
      "INFO:tensorflow:Froze 13 variables.\n",
      "INFO:tensorflow:Converted 13 variables to const ops.\n"
     ]
    },
    {
     "name": "stderr",
     "output_type": "stream",
     "text": [
      "100%|███████████████████████████████████████████████████████████████████████████| 96379/96379 [01:58<00:00, 813.86it/s]\n"
     ]
    },
    {
     "name": "stdout",
     "output_type": "stream",
     "text": [
      "72\n",
      "mse:0.013487569489963455\n",
      "mse_weight:4.174139656142396\n",
      "INFO:tensorflow:Froze 13 variables.\n",
      "INFO:tensorflow:Converted 13 variables to const ops.\n"
     ]
    },
    {
     "name": "stderr",
     "output_type": "stream",
     "text": [
      "100%|███████████████████████████████████████████████████████████████████████████| 96379/96379 [02:00<00:00, 800.22it/s]\n"
     ]
    },
    {
     "name": "stdout",
     "output_type": "stream",
     "text": [
      "73\n",
      "mse:0.01463251676116076\n",
      "mse_weight:3.774314733021001\n",
      "INFO:tensorflow:Froze 13 variables.\n",
      "INFO:tensorflow:Converted 13 variables to const ops.\n"
     ]
    },
    {
     "name": "stderr",
     "output_type": "stream",
     "text": [
      "100%|███████████████████████████████████████████████████████████████████████████| 96379/96379 [02:00<00:00, 801.02it/s]\n"
     ]
    },
    {
     "name": "stdout",
     "output_type": "stream",
     "text": [
      "74\n",
      "mse:0.015294149732941974\n",
      "mse_weight:3.971557233328336\n",
      "INFO:tensorflow:Froze 13 variables.\n",
      "INFO:tensorflow:Converted 13 variables to const ops.\n"
     ]
    },
    {
     "name": "stderr",
     "output_type": "stream",
     "text": [
      "100%|███████████████████████████████████████████████████████████████████████████| 96379/96379 [02:00<00:00, 802.68it/s]\n"
     ]
    },
    {
     "name": "stdout",
     "output_type": "stream",
     "text": [
      "75\n",
      "mse:0.01549919514131589\n",
      "mse_weight:3.6710750900127094\n",
      "INFO:tensorflow:Froze 13 variables.\n",
      "INFO:tensorflow:Converted 13 variables to const ops.\n"
     ]
    },
    {
     "name": "stderr",
     "output_type": "stream",
     "text": [
      "100%|███████████████████████████████████████████████████████████████████████████| 96379/96379 [02:00<00:00, 802.52it/s]\n"
     ]
    },
    {
     "name": "stdout",
     "output_type": "stream",
     "text": [
      "76\n",
      "mse:0.021151667240581904\n",
      "mse_weight:3.752296104124548\n",
      "INFO:tensorflow:Froze 13 variables.\n",
      "INFO:tensorflow:Converted 13 variables to const ops.\n"
     ]
    },
    {
     "name": "stderr",
     "output_type": "stream",
     "text": [
      "100%|███████████████████████████████████████████████████████████████████████████| 96379/96379 [01:57<00:00, 821.34it/s]\n"
     ]
    },
    {
     "name": "stdout",
     "output_type": "stream",
     "text": [
      "77\n",
      "mse:0.02061523395427046\n",
      "mse_weight:3.7397209872918125\n",
      "INFO:tensorflow:Froze 13 variables.\n",
      "INFO:tensorflow:Converted 13 variables to const ops.\n"
     ]
    },
    {
     "name": "stderr",
     "output_type": "stream",
     "text": [
      "100%|███████████████████████████████████████████████████████████████████████████| 96379/96379 [01:37<00:00, 983.89it/s]\n"
     ]
    },
    {
     "name": "stdout",
     "output_type": "stream",
     "text": [
      "78\n",
      "mse:0.0262869870149587\n",
      "mse_weight:3.5878614166821583\n",
      "INFO:tensorflow:Froze 13 variables.\n",
      "INFO:tensorflow:Converted 13 variables to const ops.\n"
     ]
    },
    {
     "name": "stderr",
     "output_type": "stream",
     "text": [
      "100%|███████████████████████████████████████████████████████████████████████████| 96379/96379 [01:37<00:00, 985.91it/s]\n"
     ]
    },
    {
     "name": "stdout",
     "output_type": "stream",
     "text": [
      "79\n",
      "mse:0.030569627537810666\n",
      "mse_weight:4.208298385209477\n",
      "INFO:tensorflow:Froze 13 variables.\n",
      "INFO:tensorflow:Converted 13 variables to const ops.\n"
     ]
    },
    {
     "name": "stderr",
     "output_type": "stream",
     "text": [
      "100%|███████████████████████████████████████████████████████████████████████████| 96379/96379 [01:37<00:00, 987.54it/s]\n"
     ]
    },
    {
     "name": "stdout",
     "output_type": "stream",
     "text": [
      "80\n",
      "mse:0.029826445187110702\n",
      "mse_weight:4.069854148714176\n",
      "INFO:tensorflow:Froze 13 variables.\n",
      "INFO:tensorflow:Converted 13 variables to const ops.\n"
     ]
    },
    {
     "name": "stderr",
     "output_type": "stream",
     "text": [
      "100%|███████████████████████████████████████████████████████████████████████████| 96379/96379 [01:37<00:00, 987.64it/s]\n"
     ]
    },
    {
     "name": "stdout",
     "output_type": "stream",
     "text": [
      "81\n",
      "mse:0.028791108127115266\n",
      "mse_weight:3.3573743307045407\n",
      "INFO:tensorflow:Froze 13 variables.\n",
      "INFO:tensorflow:Converted 13 variables to const ops.\n"
     ]
    },
    {
     "name": "stderr",
     "output_type": "stream",
     "text": [
      "100%|███████████████████████████████████████████████████████████████████████████| 96379/96379 [01:37<00:00, 987.64it/s]\n"
     ]
    },
    {
     "name": "stdout",
     "output_type": "stream",
     "text": [
      "82\n",
      "mse:0.03206855259467358\n",
      "mse_weight:3.3149943924683525\n",
      "INFO:tensorflow:Froze 13 variables.\n",
      "INFO:tensorflow:Converted 13 variables to const ops.\n"
     ]
    },
    {
     "name": "stderr",
     "output_type": "stream",
     "text": [
      "100%|███████████████████████████████████████████████████████████████████████████| 96379/96379 [01:37<00:00, 989.20it/s]\n"
     ]
    },
    {
     "name": "stdout",
     "output_type": "stream",
     "text": [
      "83\n",
      "mse:0.028492151123659843\n",
      "mse_weight:3.5637766582578734\n",
      "INFO:tensorflow:Froze 13 variables.\n",
      "INFO:tensorflow:Converted 13 variables to const ops.\n"
     ]
    },
    {
     "name": "stderr",
     "output_type": "stream",
     "text": [
      "100%|███████████████████████████████████████████████████████████████████████████| 96379/96379 [01:37<00:00, 987.00it/s]\n"
     ]
    },
    {
     "name": "stdout",
     "output_type": "stream",
     "text": [
      "84\n",
      "mse:0.026478822710524746\n",
      "mse_weight:3.453992841460899\n",
      "INFO:tensorflow:Froze 13 variables.\n",
      "INFO:tensorflow:Converted 13 variables to const ops.\n"
     ]
    },
    {
     "name": "stderr",
     "output_type": "stream",
     "text": [
      "100%|███████████████████████████████████████████████████████████████████████████| 96379/96379 [01:37<00:00, 990.80it/s]\n"
     ]
    },
    {
     "name": "stdout",
     "output_type": "stream",
     "text": [
      "85\n",
      "mse:0.025591153197019028\n",
      "mse_weight:3.6596830426928\n",
      "INFO:tensorflow:Froze 13 variables.\n",
      "INFO:tensorflow:Converted 13 variables to const ops.\n"
     ]
    },
    {
     "name": "stderr",
     "output_type": "stream",
     "text": [
      "100%|███████████████████████████████████████████████████████████████████████████| 96379/96379 [01:37<00:00, 985.31it/s]\n"
     ]
    },
    {
     "name": "stdout",
     "output_type": "stream",
     "text": [
      "86\n",
      "mse:0.02444579208655318\n",
      "mse_weight:3.643048190435796\n",
      "INFO:tensorflow:Froze 13 variables.\n",
      "INFO:tensorflow:Converted 13 variables to const ops.\n"
     ]
    },
    {
     "name": "stderr",
     "output_type": "stream",
     "text": [
      "100%|███████████████████████████████████████████████████████████████████████████| 96379/96379 [01:38<00:00, 980.36it/s]\n"
     ]
    },
    {
     "name": "stdout",
     "output_type": "stream",
     "text": [
      "87\n",
      "mse:0.01793897648330176\n",
      "mse_weight:3.6249518513827796\n",
      "INFO:tensorflow:Froze 13 variables.\n",
      "INFO:tensorflow:Converted 13 variables to const ops.\n"
     ]
    },
    {
     "name": "stderr",
     "output_type": "stream",
     "text": [
      "100%|███████████████████████████████████████████████████████████████████████████| 96379/96379 [01:37<00:00, 984.25it/s]\n"
     ]
    },
    {
     "name": "stdout",
     "output_type": "stream",
     "text": [
      "88\n",
      "mse:0.016111256998831466\n",
      "mse_weight:3.8603119548721954\n",
      "INFO:tensorflow:Froze 13 variables.\n",
      "INFO:tensorflow:Converted 13 variables to const ops.\n"
     ]
    },
    {
     "name": "stderr",
     "output_type": "stream",
     "text": [
      "100%|███████████████████████████████████████████████████████████████████████████| 96379/96379 [01:38<00:00, 983.25it/s]\n"
     ]
    },
    {
     "name": "stdout",
     "output_type": "stream",
     "text": [
      "89\n",
      "mse:0.016717764701999687\n",
      "mse_weight:3.406221997188851\n",
      "INFO:tensorflow:Froze 13 variables.\n",
      "INFO:tensorflow:Converted 13 variables to const ops.\n"
     ]
    },
    {
     "name": "stderr",
     "output_type": "stream",
     "text": [
      "100%|██████████████████████████████████████████████████████████████████████████| 96379/96379 [01:29<00:00, 1072.31it/s]\n"
     ]
    },
    {
     "name": "stdout",
     "output_type": "stream",
     "text": [
      "90\n",
      "mse:0.01586618670223465\n",
      "mse_weight:3.6753986752415337\n",
      "INFO:tensorflow:Froze 13 variables.\n",
      "INFO:tensorflow:Converted 13 variables to const ops.\n"
     ]
    },
    {
     "name": "stderr",
     "output_type": "stream",
     "text": [
      "100%|██████████████████████████████████████████████████████████████████████████| 96379/96379 [01:34<00:00, 1051.82it/s]\n"
     ]
    },
    {
     "name": "stdout",
     "output_type": "stream",
     "text": [
      "91\n",
      "mse:0.012003954145016961\n",
      "mse_weight:6.213933991985808\n",
      "INFO:tensorflow:Froze 13 variables.\n",
      "INFO:tensorflow:Converted 13 variables to const ops.\n"
     ]
    },
    {
     "name": "stderr",
     "output_type": "stream",
     "text": [
      "100%|██████████████████████████████████████████████████████████████████████████| 96379/96379 [01:29<00:00, 1070.92it/s]\n"
     ]
    },
    {
     "name": "stdout",
     "output_type": "stream",
     "text": [
      "92\n",
      "mse:0.01093468117803857\n",
      "mse_weight:6.066889523563941\n",
      "INFO:tensorflow:Froze 13 variables.\n",
      "INFO:tensorflow:Converted 13 variables to const ops.\n"
     ]
    },
    {
     "name": "stderr",
     "output_type": "stream",
     "text": [
      "100%|██████████████████████████████████████████████████████████████████████████| 96379/96379 [01:18<00:00, 1233.47it/s]\n"
     ]
    },
    {
     "name": "stdout",
     "output_type": "stream",
     "text": [
      "93\n",
      "mse:0.011841488949174358\n",
      "mse_weight:5.945816003597201\n",
      "INFO:tensorflow:Froze 13 variables.\n",
      "INFO:tensorflow:Converted 13 variables to const ops.\n"
     ]
    },
    {
     "name": "stderr",
     "output_type": "stream",
     "text": [
      "100%|██████████████████████████████████████████████████████████████████████████| 96379/96379 [01:17<00:00, 1246.10it/s]\n"
     ]
    },
    {
     "name": "stdout",
     "output_type": "stream",
     "text": [
      "94\n",
      "mse:0.013922675911194846\n",
      "mse_weight:5.242019362682058\n",
      "INFO:tensorflow:Froze 13 variables.\n",
      "INFO:tensorflow:Converted 13 variables to const ops.\n"
     ]
    },
    {
     "name": "stderr",
     "output_type": "stream",
     "text": [
      "100%|██████████████████████████████████████████████████████████████████████████| 96379/96379 [01:19<00:00, 1215.22it/s]\n"
     ]
    },
    {
     "name": "stdout",
     "output_type": "stream",
     "text": [
      "95\n",
      "mse:0.014707149334832779\n",
      "mse_weight:5.299861781358754\n",
      "INFO:tensorflow:Froze 13 variables.\n",
      "INFO:tensorflow:Converted 13 variables to const ops.\n"
     ]
    },
    {
     "name": "stderr",
     "output_type": "stream",
     "text": [
      "100%|██████████████████████████████████████████████████████████████████████████| 96379/96379 [01:17<00:00, 1245.55it/s]\n"
     ]
    },
    {
     "name": "stdout",
     "output_type": "stream",
     "text": [
      "96\n",
      "mse:0.013496272352668238\n",
      "mse_weight:5.389447369348953\n",
      "INFO:tensorflow:Froze 13 variables.\n",
      "INFO:tensorflow:Converted 13 variables to const ops.\n"
     ]
    },
    {
     "name": "stderr",
     "output_type": "stream",
     "text": [
      "100%|██████████████████████████████████████████████████████████████████████████| 96379/96379 [01:17<00:00, 1250.76it/s]\n"
     ]
    },
    {
     "name": "stdout",
     "output_type": "stream",
     "text": [
      "97\n",
      "mse:0.012821902950221366\n",
      "mse_weight:5.239424114738227\n",
      "INFO:tensorflow:Froze 13 variables.\n",
      "INFO:tensorflow:Converted 13 variables to const ops.\n"
     ]
    },
    {
     "name": "stderr",
     "output_type": "stream",
     "text": [
      "100%|██████████████████████████████████████████████████████████████████████████| 96379/96379 [01:20<00:00, 1200.93it/s]\n"
     ]
    },
    {
     "name": "stdout",
     "output_type": "stream",
     "text": [
      "98\n",
      "mse:0.017709924772746622\n",
      "mse_weight:4.755424686016456\n",
      "INFO:tensorflow:Froze 13 variables.\n",
      "INFO:tensorflow:Converted 13 variables to const ops.\n"
     ]
    },
    {
     "name": "stderr",
     "output_type": "stream",
     "text": [
      "100%|██████████████████████████████████████████████████████████████████████████| 96379/96379 [01:18<00:00, 1231.99it/s]\n"
     ]
    },
    {
     "name": "stdout",
     "output_type": "stream",
     "text": [
      "99\n",
      "mse:0.029392812298840495\n",
      "mse_weight:4.704195466910751\n",
      "INFO:tensorflow:Froze 13 variables.\n",
      "INFO:tensorflow:Converted 13 variables to const ops.\n"
     ]
    }
   ],
   "source": [
    "\n",
    "tf.train.Saver()\n",
    "iters=1\n",
    "predictY=np.zeros([len(data_x)])\n",
    "while iters<100:\n",
    "    for i in tqdm(range(len(data_x))):\n",
    "        feed={x:data_x[i:i+1],\n",
    "              state_in:data_state,\n",
    "                y:data_y[i:i+1],\n",
    "              loss_weight_in:loss_weight[i:i+1]\n",
    "               }\n",
    "        if re_train:\n",
    "            sess.run(opt,feed_dict=feed)\n",
    "\n",
    "        data_state,_predictY = sess.run([state_out,prediction],feed_dict=feed)\n",
    "        #print(data_h.shape)\n",
    "        #data_c = sess.run(c,feed_dict=feed)\n",
    "        predictY[i]=_predictY[0]\n",
    "        #print(i)\n",
    "    if iters%1==0:\n",
    "        print(iters)\n",
    "        mse = (np.square(predictY-data_y.reshape([len(data_x)]))).mean(axis=0)\n",
    "        loss_weight = loss_weight.reshape([len(loss_weight)])\n",
    "        mse_weight =np.square(np. multiply((predictY-data_y.reshape([len(data_x)])),loss_weight)).mean(axis=0)\n",
    "        loss_weight = loss_weight.reshape([len(loss_weight),1])\n",
    "        print('mse:'+str(mse))\n",
    "        print('mse_weight:'+str(mse_weight))\n",
    "\n",
    "        if iters%10==0:\n",
    "\n",
    "            loss_weight = predictY*len(predictY)/predictY.sum()+datay*len(datay)/datay.sum()+1\n",
    "            loss_weight = loss_weight.reshape([len(loss_weight),1])\n",
    "\n",
    "\n",
    "    output_graph='./tmp/model/real_LSTM_fullData_dynamicW_tfTrain_2Dense_7_8_'+str(iters)+'.pb'\n",
    "    output_graph_def = tf.graph_util.convert_variables_to_constants(\n",
    "            sess, # The session is used to retrieve the weights\n",
    "            tf.get_default_graph().as_graph_def(), # The graph_def is used to retrieve the nodes \n",
    "            ['output','output_state'] # The output node names are used to select the usefull nodes\n",
    "        ) \n",
    "    with tf.gfile.GFile(output_graph, \"wb\") as f:\n",
    "            f.write(output_graph_def.SerializeToString())\n",
    "    iters=iters+1\n",
    "    np.savetxt('TF_predictY_3c_2Dense.csv',predictY)"
   ]
  },
  {
   "cell_type": "code",
   "execution_count": 15,
   "metadata": {},
   "outputs": [
    {
     "data": {
      "text/plain": [
       "821840"
      ]
     },
     "execution_count": 15,
     "metadata": {},
     "output_type": "execute_result"
    }
   ],
   "source": [
    "\n",
    "#saved_model_dir='realtime_LSTM_32U_3C.hdf5'\n",
    "#saved_model_dir='myModel.h5'\n",
    "#frozen_graph = 'realtime_LSTM_v2_Tap_32_3Cepoch_450loss_0.08.h5.pb'\n",
    "#converter=tf.lite.TFLiteConverter.from_keras_model_file(saved_model_dir)\n",
    "output_graph='./models/100hz/data_shuffle_7_30_19/realLSTM_data_shuffle_U256_i199_mse1.52_524.69.pb'\n",
    "converter=tf.lite.TFLiteConverter.from_frozen_graph(output_graph,input_arrays={'input_tensor','input_state'},\n",
    "                                                    output_arrays={'output','output_state'})\n",
    "tflite_model = converter.convert()\n",
    "open(\"./models/100hz/realLSTM256U_shuffleData_100hz.tflite\", \"wb\").write(tflite_model)"
   ]
  },
  {
   "cell_type": "code",
   "execution_count": 85,
   "metadata": {},
   "outputs": [],
   "source": [
    "np.savetxt('TF_predictY.csv',predictY)"
   ]
  },
  {
   "cell_type": "code",
   "execution_count": null,
   "metadata": {},
   "outputs": [],
   "source": [
    "GRAPH_PB_PATH='./tmp/model/real_LSTM_fullData_dynamicW_tfTrain_2Dense_7_8_90.pb'\n"
   ]
  },
  {
   "cell_type": "code",
   "execution_count": 13,
   "metadata": {},
   "outputs": [
    {
     "name": "stdout",
     "output_type": "stream",
     "text": [
      "load graph\n"
     ]
    },
    {
     "name": "stderr",
     "output_type": "stream",
     "text": [
      "  0%|                                                                                        | 0/96379 [00:00<?, ?it/s]\n"
     ]
    },
    {
     "ename": "FailedPreconditionError",
     "evalue": "Attempting to use uninitialized value weights1\n\t [[node weights1/read (defined at <ipython-input-7-733e8e310e96>:15) ]]\n\nCaused by op 'weights1/read', defined at:\n  File \"C:\\Users\\Guo\\Anaconda3\\envs\\Tensorflow_cpu\\lib\\runpy.py\", line 193, in _run_module_as_main\n    \"__main__\", mod_spec)\n  File \"C:\\Users\\Guo\\Anaconda3\\envs\\Tensorflow_cpu\\lib\\runpy.py\", line 85, in _run_code\n    exec(code, run_globals)\n  File \"C:\\Users\\Guo\\Anaconda3\\envs\\Tensorflow_cpu\\lib\\site-packages\\ipykernel_launcher.py\", line 16, in <module>\n    app.launch_new_instance()\n  File \"C:\\Users\\Guo\\Anaconda3\\envs\\Tensorflow_cpu\\lib\\site-packages\\traitlets\\config\\application.py\", line 658, in launch_instance\n    app.start()\n  File \"C:\\Users\\Guo\\Anaconda3\\envs\\Tensorflow_cpu\\lib\\site-packages\\ipykernel\\kernelapp.py\", line 505, in start\n    self.io_loop.start()\n  File \"C:\\Users\\Guo\\Anaconda3\\envs\\Tensorflow_cpu\\lib\\site-packages\\tornado\\platform\\asyncio.py\", line 148, in start\n    self.asyncio_loop.run_forever()\n  File \"C:\\Users\\Guo\\Anaconda3\\envs\\Tensorflow_cpu\\lib\\asyncio\\base_events.py\", line 438, in run_forever\n    self._run_once()\n  File \"C:\\Users\\Guo\\Anaconda3\\envs\\Tensorflow_cpu\\lib\\asyncio\\base_events.py\", line 1451, in _run_once\n    handle._run()\n  File \"C:\\Users\\Guo\\Anaconda3\\envs\\Tensorflow_cpu\\lib\\asyncio\\events.py\", line 145, in _run\n    self._callback(*self._args)\n  File \"C:\\Users\\Guo\\Anaconda3\\envs\\Tensorflow_cpu\\lib\\site-packages\\tornado\\ioloop.py\", line 690, in <lambda>\n    lambda f: self._run_callback(functools.partial(callback, future))\n  File \"C:\\Users\\Guo\\Anaconda3\\envs\\Tensorflow_cpu\\lib\\site-packages\\tornado\\ioloop.py\", line 743, in _run_callback\n    ret = callback()\n  File \"C:\\Users\\Guo\\Anaconda3\\envs\\Tensorflow_cpu\\lib\\site-packages\\tornado\\gen.py\", line 781, in inner\n    self.run()\n  File \"C:\\Users\\Guo\\Anaconda3\\envs\\Tensorflow_cpu\\lib\\site-packages\\tornado\\gen.py\", line 742, in run\n    yielded = self.gen.send(value)\n  File \"C:\\Users\\Guo\\Anaconda3\\envs\\Tensorflow_cpu\\lib\\site-packages\\ipykernel\\kernelbase.py\", line 357, in process_one\n    yield gen.maybe_future(dispatch(*args))\n  File \"C:\\Users\\Guo\\Anaconda3\\envs\\Tensorflow_cpu\\lib\\site-packages\\tornado\\gen.py\", line 209, in wrapper\n    yielded = next(result)\n  File \"C:\\Users\\Guo\\Anaconda3\\envs\\Tensorflow_cpu\\lib\\site-packages\\ipykernel\\kernelbase.py\", line 267, in dispatch_shell\n    yield gen.maybe_future(handler(stream, idents, msg))\n  File \"C:\\Users\\Guo\\Anaconda3\\envs\\Tensorflow_cpu\\lib\\site-packages\\tornado\\gen.py\", line 209, in wrapper\n    yielded = next(result)\n  File \"C:\\Users\\Guo\\Anaconda3\\envs\\Tensorflow_cpu\\lib\\site-packages\\ipykernel\\kernelbase.py\", line 534, in execute_request\n    user_expressions, allow_stdin,\n  File \"C:\\Users\\Guo\\Anaconda3\\envs\\Tensorflow_cpu\\lib\\site-packages\\tornado\\gen.py\", line 209, in wrapper\n    yielded = next(result)\n  File \"C:\\Users\\Guo\\Anaconda3\\envs\\Tensorflow_cpu\\lib\\site-packages\\ipykernel\\ipkernel.py\", line 294, in do_execute\n    res = shell.run_cell(code, store_history=store_history, silent=silent)\n  File \"C:\\Users\\Guo\\Anaconda3\\envs\\Tensorflow_cpu\\lib\\site-packages\\ipykernel\\zmqshell.py\", line 536, in run_cell\n    return super(ZMQInteractiveShell, self).run_cell(*args, **kwargs)\n  File \"C:\\Users\\Guo\\Anaconda3\\envs\\Tensorflow_cpu\\lib\\site-packages\\IPython\\core\\interactiveshell.py\", line 2848, in run_cell\n    raw_cell, store_history, silent, shell_futures)\n  File \"C:\\Users\\Guo\\Anaconda3\\envs\\Tensorflow_cpu\\lib\\site-packages\\IPython\\core\\interactiveshell.py\", line 2874, in _run_cell\n    return runner(coro)\n  File \"C:\\Users\\Guo\\Anaconda3\\envs\\Tensorflow_cpu\\lib\\site-packages\\IPython\\core\\async_helpers.py\", line 67, in _pseudo_sync_runner\n    coro.send(None)\n  File \"C:\\Users\\Guo\\Anaconda3\\envs\\Tensorflow_cpu\\lib\\site-packages\\IPython\\core\\interactiveshell.py\", line 3049, in run_cell_async\n    interactivity=interactivity, compiler=compiler, result=result)\n  File \"C:\\Users\\Guo\\Anaconda3\\envs\\Tensorflow_cpu\\lib\\site-packages\\IPython\\core\\interactiveshell.py\", line 3214, in run_ast_nodes\n    if (yield from self.run_code(code, result)):\n  File \"C:\\Users\\Guo\\Anaconda3\\envs\\Tensorflow_cpu\\lib\\site-packages\\IPython\\core\\interactiveshell.py\", line 3296, in run_code\n    exec(code_obj, self.user_global_ns, self.user_ns)\n  File \"<ipython-input-7-733e8e310e96>\", line 15, in <module>\n    out_weights1=tf.Variable(name=\"weights1\",initial_value=tf.random_normal([num_units, 16], stddev=0.35))\n  File \"C:\\Users\\Guo\\Anaconda3\\envs\\Tensorflow_cpu\\lib\\site-packages\\tensorflow\\python\\ops\\variables.py\", line 213, in __call__\n    return cls._variable_v1_call(*args, **kwargs)\n  File \"C:\\Users\\Guo\\Anaconda3\\envs\\Tensorflow_cpu\\lib\\site-packages\\tensorflow\\python\\ops\\variables.py\", line 176, in _variable_v1_call\n    aggregation=aggregation)\n  File \"C:\\Users\\Guo\\Anaconda3\\envs\\Tensorflow_cpu\\lib\\site-packages\\tensorflow\\python\\ops\\variables.py\", line 155, in <lambda>\n    previous_getter = lambda **kwargs: default_variable_creator(None, **kwargs)\n  File \"C:\\Users\\Guo\\Anaconda3\\envs\\Tensorflow_cpu\\lib\\site-packages\\tensorflow\\python\\ops\\variable_scope.py\", line 2495, in default_variable_creator\n    expected_shape=expected_shape, import_scope=import_scope)\n  File \"C:\\Users\\Guo\\Anaconda3\\envs\\Tensorflow_cpu\\lib\\site-packages\\tensorflow\\python\\ops\\variables.py\", line 217, in __call__\n    return super(VariableMetaclass, cls).__call__(*args, **kwargs)\n  File \"C:\\Users\\Guo\\Anaconda3\\envs\\Tensorflow_cpu\\lib\\site-packages\\tensorflow\\python\\ops\\variables.py\", line 1395, in __init__\n    constraint=constraint)\n  File \"C:\\Users\\Guo\\Anaconda3\\envs\\Tensorflow_cpu\\lib\\site-packages\\tensorflow\\python\\ops\\variables.py\", line 1557, in _init_from_args\n    self._snapshot = array_ops.identity(self._variable, name=\"read\")\n  File \"C:\\Users\\Guo\\Anaconda3\\envs\\Tensorflow_cpu\\lib\\site-packages\\tensorflow\\python\\util\\dispatch.py\", line 180, in wrapper\n    return target(*args, **kwargs)\n  File \"C:\\Users\\Guo\\Anaconda3\\envs\\Tensorflow_cpu\\lib\\site-packages\\tensorflow\\python\\ops\\array_ops.py\", line 81, in identity\n    ret = gen_array_ops.identity(input, name=name)\n  File \"C:\\Users\\Guo\\Anaconda3\\envs\\Tensorflow_cpu\\lib\\site-packages\\tensorflow\\python\\ops\\gen_array_ops.py\", line 3889, in identity\n    \"Identity\", input=input, name=name)\n  File \"C:\\Users\\Guo\\Anaconda3\\envs\\Tensorflow_cpu\\lib\\site-packages\\tensorflow\\python\\framework\\op_def_library.py\", line 788, in _apply_op_helper\n    op_def=op_def)\n  File \"C:\\Users\\Guo\\Anaconda3\\envs\\Tensorflow_cpu\\lib\\site-packages\\tensorflow\\python\\util\\deprecation.py\", line 507, in new_func\n    return func(*args, **kwargs)\n  File \"C:\\Users\\Guo\\Anaconda3\\envs\\Tensorflow_cpu\\lib\\site-packages\\tensorflow\\python\\framework\\ops.py\", line 3300, in create_op\n    op_def=op_def)\n  File \"C:\\Users\\Guo\\Anaconda3\\envs\\Tensorflow_cpu\\lib\\site-packages\\tensorflow\\python\\framework\\ops.py\", line 1801, in __init__\n    self._traceback = tf_stack.extract_stack()\n\nFailedPreconditionError (see above for traceback): Attempting to use uninitialized value weights1\n\t [[node weights1/read (defined at <ipython-input-7-733e8e310e96>:15) ]]\n",
     "output_type": "error",
     "traceback": [
      "\u001b[1;31m---------------------------------------------------------------------------\u001b[0m",
      "\u001b[1;31mFailedPreconditionError\u001b[0m                   Traceback (most recent call last)",
      "\u001b[1;32m~\\Anaconda3\\envs\\Tensorflow_cpu\\lib\\site-packages\\tensorflow\\python\\client\\session.py\u001b[0m in \u001b[0;36m_do_call\u001b[1;34m(self, fn, *args)\u001b[0m\n\u001b[0;32m   1333\u001b[0m     \u001b[1;32mtry\u001b[0m\u001b[1;33m:\u001b[0m\u001b[1;33m\u001b[0m\u001b[1;33m\u001b[0m\u001b[0m\n\u001b[1;32m-> 1334\u001b[1;33m       \u001b[1;32mreturn\u001b[0m \u001b[0mfn\u001b[0m\u001b[1;33m(\u001b[0m\u001b[1;33m*\u001b[0m\u001b[0margs\u001b[0m\u001b[1;33m)\u001b[0m\u001b[1;33m\u001b[0m\u001b[1;33m\u001b[0m\u001b[0m\n\u001b[0m\u001b[0;32m   1335\u001b[0m     \u001b[1;32mexcept\u001b[0m \u001b[0merrors\u001b[0m\u001b[1;33m.\u001b[0m\u001b[0mOpError\u001b[0m \u001b[1;32mas\u001b[0m \u001b[0me\u001b[0m\u001b[1;33m:\u001b[0m\u001b[1;33m\u001b[0m\u001b[1;33m\u001b[0m\u001b[0m\n",
      "\u001b[1;32m~\\Anaconda3\\envs\\Tensorflow_cpu\\lib\\site-packages\\tensorflow\\python\\client\\session.py\u001b[0m in \u001b[0;36m_run_fn\u001b[1;34m(feed_dict, fetch_list, target_list, options, run_metadata)\u001b[0m\n\u001b[0;32m   1318\u001b[0m       return self._call_tf_sessionrun(\n\u001b[1;32m-> 1319\u001b[1;33m           options, feed_dict, fetch_list, target_list, run_metadata)\n\u001b[0m\u001b[0;32m   1320\u001b[0m \u001b[1;33m\u001b[0m\u001b[0m\n",
      "\u001b[1;32m~\\Anaconda3\\envs\\Tensorflow_cpu\\lib\\site-packages\\tensorflow\\python\\client\\session.py\u001b[0m in \u001b[0;36m_call_tf_sessionrun\u001b[1;34m(self, options, feed_dict, fetch_list, target_list, run_metadata)\u001b[0m\n\u001b[0;32m   1406\u001b[0m         \u001b[0mself\u001b[0m\u001b[1;33m.\u001b[0m\u001b[0m_session\u001b[0m\u001b[1;33m,\u001b[0m \u001b[0moptions\u001b[0m\u001b[1;33m,\u001b[0m \u001b[0mfeed_dict\u001b[0m\u001b[1;33m,\u001b[0m \u001b[0mfetch_list\u001b[0m\u001b[1;33m,\u001b[0m \u001b[0mtarget_list\u001b[0m\u001b[1;33m,\u001b[0m\u001b[1;33m\u001b[0m\u001b[1;33m\u001b[0m\u001b[0m\n\u001b[1;32m-> 1407\u001b[1;33m         run_metadata)\n\u001b[0m\u001b[0;32m   1408\u001b[0m \u001b[1;33m\u001b[0m\u001b[0m\n",
      "\u001b[1;31mFailedPreconditionError\u001b[0m: Attempting to use uninitialized value weights1\n\t [[{{node weights1/read}}]]",
      "\nDuring handling of the above exception, another exception occurred:\n",
      "\u001b[1;31mFailedPreconditionError\u001b[0m                   Traceback (most recent call last)",
      "\u001b[1;32m<ipython-input-13-93430be6221d>\u001b[0m in \u001b[0;36m<module>\u001b[1;34m\u001b[0m\n\u001b[0;32m     16\u001b[0m                }\n\u001b[0;32m     17\u001b[0m \u001b[1;33m\u001b[0m\u001b[0m\n\u001b[1;32m---> 18\u001b[1;33m         \u001b[0mdata_state\u001b[0m\u001b[1;33m,\u001b[0m\u001b[0m_predictY\u001b[0m \u001b[1;33m=\u001b[0m \u001b[0msess\u001b[0m\u001b[1;33m.\u001b[0m\u001b[0mrun\u001b[0m\u001b[1;33m(\u001b[0m\u001b[1;33m[\u001b[0m\u001b[0mstate_out\u001b[0m\u001b[1;33m,\u001b[0m\u001b[0mprediction\u001b[0m\u001b[1;33m]\u001b[0m\u001b[1;33m,\u001b[0m\u001b[0mfeed_dict\u001b[0m\u001b[1;33m=\u001b[0m\u001b[0mfeed\u001b[0m\u001b[1;33m)\u001b[0m\u001b[1;33m\u001b[0m\u001b[1;33m\u001b[0m\u001b[0m\n\u001b[0m\u001b[0;32m     19\u001b[0m         \u001b[1;31m#print(data_h.shape)\u001b[0m\u001b[1;33m\u001b[0m\u001b[1;33m\u001b[0m\u001b[1;33m\u001b[0m\u001b[0m\n\u001b[0;32m     20\u001b[0m         \u001b[1;31m#data_c = sess.run(c,feed_dict=feed)\u001b[0m\u001b[1;33m\u001b[0m\u001b[1;33m\u001b[0m\u001b[1;33m\u001b[0m\u001b[0m\n",
      "\u001b[1;32m~\\Anaconda3\\envs\\Tensorflow_cpu\\lib\\site-packages\\tensorflow\\python\\client\\session.py\u001b[0m in \u001b[0;36mrun\u001b[1;34m(self, fetches, feed_dict, options, run_metadata)\u001b[0m\n\u001b[0;32m    927\u001b[0m     \u001b[1;32mtry\u001b[0m\u001b[1;33m:\u001b[0m\u001b[1;33m\u001b[0m\u001b[1;33m\u001b[0m\u001b[0m\n\u001b[0;32m    928\u001b[0m       result = self._run(None, fetches, feed_dict, options_ptr,\n\u001b[1;32m--> 929\u001b[1;33m                          run_metadata_ptr)\n\u001b[0m\u001b[0;32m    930\u001b[0m       \u001b[1;32mif\u001b[0m \u001b[0mrun_metadata\u001b[0m\u001b[1;33m:\u001b[0m\u001b[1;33m\u001b[0m\u001b[1;33m\u001b[0m\u001b[0m\n\u001b[0;32m    931\u001b[0m         \u001b[0mproto_data\u001b[0m \u001b[1;33m=\u001b[0m \u001b[0mtf_session\u001b[0m\u001b[1;33m.\u001b[0m\u001b[0mTF_GetBuffer\u001b[0m\u001b[1;33m(\u001b[0m\u001b[0mrun_metadata_ptr\u001b[0m\u001b[1;33m)\u001b[0m\u001b[1;33m\u001b[0m\u001b[1;33m\u001b[0m\u001b[0m\n",
      "\u001b[1;32m~\\Anaconda3\\envs\\Tensorflow_cpu\\lib\\site-packages\\tensorflow\\python\\client\\session.py\u001b[0m in \u001b[0;36m_run\u001b[1;34m(self, handle, fetches, feed_dict, options, run_metadata)\u001b[0m\n\u001b[0;32m   1150\u001b[0m     \u001b[1;32mif\u001b[0m \u001b[0mfinal_fetches\u001b[0m \u001b[1;32mor\u001b[0m \u001b[0mfinal_targets\u001b[0m \u001b[1;32mor\u001b[0m \u001b[1;33m(\u001b[0m\u001b[0mhandle\u001b[0m \u001b[1;32mand\u001b[0m \u001b[0mfeed_dict_tensor\u001b[0m\u001b[1;33m)\u001b[0m\u001b[1;33m:\u001b[0m\u001b[1;33m\u001b[0m\u001b[1;33m\u001b[0m\u001b[0m\n\u001b[0;32m   1151\u001b[0m       results = self._do_run(handle, final_targets, final_fetches,\n\u001b[1;32m-> 1152\u001b[1;33m                              feed_dict_tensor, options, run_metadata)\n\u001b[0m\u001b[0;32m   1153\u001b[0m     \u001b[1;32melse\u001b[0m\u001b[1;33m:\u001b[0m\u001b[1;33m\u001b[0m\u001b[1;33m\u001b[0m\u001b[0m\n\u001b[0;32m   1154\u001b[0m       \u001b[0mresults\u001b[0m \u001b[1;33m=\u001b[0m \u001b[1;33m[\u001b[0m\u001b[1;33m]\u001b[0m\u001b[1;33m\u001b[0m\u001b[1;33m\u001b[0m\u001b[0m\n",
      "\u001b[1;32m~\\Anaconda3\\envs\\Tensorflow_cpu\\lib\\site-packages\\tensorflow\\python\\client\\session.py\u001b[0m in \u001b[0;36m_do_run\u001b[1;34m(self, handle, target_list, fetch_list, feed_dict, options, run_metadata)\u001b[0m\n\u001b[0;32m   1326\u001b[0m     \u001b[1;32mif\u001b[0m \u001b[0mhandle\u001b[0m \u001b[1;32mis\u001b[0m \u001b[1;32mNone\u001b[0m\u001b[1;33m:\u001b[0m\u001b[1;33m\u001b[0m\u001b[1;33m\u001b[0m\u001b[0m\n\u001b[0;32m   1327\u001b[0m       return self._do_call(_run_fn, feeds, fetches, targets, options,\n\u001b[1;32m-> 1328\u001b[1;33m                            run_metadata)\n\u001b[0m\u001b[0;32m   1329\u001b[0m     \u001b[1;32melse\u001b[0m\u001b[1;33m:\u001b[0m\u001b[1;33m\u001b[0m\u001b[1;33m\u001b[0m\u001b[0m\n\u001b[0;32m   1330\u001b[0m       \u001b[1;32mreturn\u001b[0m \u001b[0mself\u001b[0m\u001b[1;33m.\u001b[0m\u001b[0m_do_call\u001b[0m\u001b[1;33m(\u001b[0m\u001b[0m_prun_fn\u001b[0m\u001b[1;33m,\u001b[0m \u001b[0mhandle\u001b[0m\u001b[1;33m,\u001b[0m \u001b[0mfeeds\u001b[0m\u001b[1;33m,\u001b[0m \u001b[0mfetches\u001b[0m\u001b[1;33m)\u001b[0m\u001b[1;33m\u001b[0m\u001b[1;33m\u001b[0m\u001b[0m\n",
      "\u001b[1;32m~\\Anaconda3\\envs\\Tensorflow_cpu\\lib\\site-packages\\tensorflow\\python\\client\\session.py\u001b[0m in \u001b[0;36m_do_call\u001b[1;34m(self, fn, *args)\u001b[0m\n\u001b[0;32m   1346\u001b[0m           \u001b[1;32mpass\u001b[0m\u001b[1;33m\u001b[0m\u001b[1;33m\u001b[0m\u001b[0m\n\u001b[0;32m   1347\u001b[0m       \u001b[0mmessage\u001b[0m \u001b[1;33m=\u001b[0m \u001b[0merror_interpolation\u001b[0m\u001b[1;33m.\u001b[0m\u001b[0minterpolate\u001b[0m\u001b[1;33m(\u001b[0m\u001b[0mmessage\u001b[0m\u001b[1;33m,\u001b[0m \u001b[0mself\u001b[0m\u001b[1;33m.\u001b[0m\u001b[0m_graph\u001b[0m\u001b[1;33m)\u001b[0m\u001b[1;33m\u001b[0m\u001b[1;33m\u001b[0m\u001b[0m\n\u001b[1;32m-> 1348\u001b[1;33m       \u001b[1;32mraise\u001b[0m \u001b[0mtype\u001b[0m\u001b[1;33m(\u001b[0m\u001b[0me\u001b[0m\u001b[1;33m)\u001b[0m\u001b[1;33m(\u001b[0m\u001b[0mnode_def\u001b[0m\u001b[1;33m,\u001b[0m \u001b[0mop\u001b[0m\u001b[1;33m,\u001b[0m \u001b[0mmessage\u001b[0m\u001b[1;33m)\u001b[0m\u001b[1;33m\u001b[0m\u001b[1;33m\u001b[0m\u001b[0m\n\u001b[0m\u001b[0;32m   1349\u001b[0m \u001b[1;33m\u001b[0m\u001b[0m\n\u001b[0;32m   1350\u001b[0m   \u001b[1;32mdef\u001b[0m \u001b[0m_extend_graph\u001b[0m\u001b[1;33m(\u001b[0m\u001b[0mself\u001b[0m\u001b[1;33m)\u001b[0m\u001b[1;33m:\u001b[0m\u001b[1;33m\u001b[0m\u001b[1;33m\u001b[0m\u001b[0m\n",
      "\u001b[1;31mFailedPreconditionError\u001b[0m: Attempting to use uninitialized value weights1\n\t [[node weights1/read (defined at <ipython-input-7-733e8e310e96>:15) ]]\n\nCaused by op 'weights1/read', defined at:\n  File \"C:\\Users\\Guo\\Anaconda3\\envs\\Tensorflow_cpu\\lib\\runpy.py\", line 193, in _run_module_as_main\n    \"__main__\", mod_spec)\n  File \"C:\\Users\\Guo\\Anaconda3\\envs\\Tensorflow_cpu\\lib\\runpy.py\", line 85, in _run_code\n    exec(code, run_globals)\n  File \"C:\\Users\\Guo\\Anaconda3\\envs\\Tensorflow_cpu\\lib\\site-packages\\ipykernel_launcher.py\", line 16, in <module>\n    app.launch_new_instance()\n  File \"C:\\Users\\Guo\\Anaconda3\\envs\\Tensorflow_cpu\\lib\\site-packages\\traitlets\\config\\application.py\", line 658, in launch_instance\n    app.start()\n  File \"C:\\Users\\Guo\\Anaconda3\\envs\\Tensorflow_cpu\\lib\\site-packages\\ipykernel\\kernelapp.py\", line 505, in start\n    self.io_loop.start()\n  File \"C:\\Users\\Guo\\Anaconda3\\envs\\Tensorflow_cpu\\lib\\site-packages\\tornado\\platform\\asyncio.py\", line 148, in start\n    self.asyncio_loop.run_forever()\n  File \"C:\\Users\\Guo\\Anaconda3\\envs\\Tensorflow_cpu\\lib\\asyncio\\base_events.py\", line 438, in run_forever\n    self._run_once()\n  File \"C:\\Users\\Guo\\Anaconda3\\envs\\Tensorflow_cpu\\lib\\asyncio\\base_events.py\", line 1451, in _run_once\n    handle._run()\n  File \"C:\\Users\\Guo\\Anaconda3\\envs\\Tensorflow_cpu\\lib\\asyncio\\events.py\", line 145, in _run\n    self._callback(*self._args)\n  File \"C:\\Users\\Guo\\Anaconda3\\envs\\Tensorflow_cpu\\lib\\site-packages\\tornado\\ioloop.py\", line 690, in <lambda>\n    lambda f: self._run_callback(functools.partial(callback, future))\n  File \"C:\\Users\\Guo\\Anaconda3\\envs\\Tensorflow_cpu\\lib\\site-packages\\tornado\\ioloop.py\", line 743, in _run_callback\n    ret = callback()\n  File \"C:\\Users\\Guo\\Anaconda3\\envs\\Tensorflow_cpu\\lib\\site-packages\\tornado\\gen.py\", line 781, in inner\n    self.run()\n  File \"C:\\Users\\Guo\\Anaconda3\\envs\\Tensorflow_cpu\\lib\\site-packages\\tornado\\gen.py\", line 742, in run\n    yielded = self.gen.send(value)\n  File \"C:\\Users\\Guo\\Anaconda3\\envs\\Tensorflow_cpu\\lib\\site-packages\\ipykernel\\kernelbase.py\", line 357, in process_one\n    yield gen.maybe_future(dispatch(*args))\n  File \"C:\\Users\\Guo\\Anaconda3\\envs\\Tensorflow_cpu\\lib\\site-packages\\tornado\\gen.py\", line 209, in wrapper\n    yielded = next(result)\n  File \"C:\\Users\\Guo\\Anaconda3\\envs\\Tensorflow_cpu\\lib\\site-packages\\ipykernel\\kernelbase.py\", line 267, in dispatch_shell\n    yield gen.maybe_future(handler(stream, idents, msg))\n  File \"C:\\Users\\Guo\\Anaconda3\\envs\\Tensorflow_cpu\\lib\\site-packages\\tornado\\gen.py\", line 209, in wrapper\n    yielded = next(result)\n  File \"C:\\Users\\Guo\\Anaconda3\\envs\\Tensorflow_cpu\\lib\\site-packages\\ipykernel\\kernelbase.py\", line 534, in execute_request\n    user_expressions, allow_stdin,\n  File \"C:\\Users\\Guo\\Anaconda3\\envs\\Tensorflow_cpu\\lib\\site-packages\\tornado\\gen.py\", line 209, in wrapper\n    yielded = next(result)\n  File \"C:\\Users\\Guo\\Anaconda3\\envs\\Tensorflow_cpu\\lib\\site-packages\\ipykernel\\ipkernel.py\", line 294, in do_execute\n    res = shell.run_cell(code, store_history=store_history, silent=silent)\n  File \"C:\\Users\\Guo\\Anaconda3\\envs\\Tensorflow_cpu\\lib\\site-packages\\ipykernel\\zmqshell.py\", line 536, in run_cell\n    return super(ZMQInteractiveShell, self).run_cell(*args, **kwargs)\n  File \"C:\\Users\\Guo\\Anaconda3\\envs\\Tensorflow_cpu\\lib\\site-packages\\IPython\\core\\interactiveshell.py\", line 2848, in run_cell\n    raw_cell, store_history, silent, shell_futures)\n  File \"C:\\Users\\Guo\\Anaconda3\\envs\\Tensorflow_cpu\\lib\\site-packages\\IPython\\core\\interactiveshell.py\", line 2874, in _run_cell\n    return runner(coro)\n  File \"C:\\Users\\Guo\\Anaconda3\\envs\\Tensorflow_cpu\\lib\\site-packages\\IPython\\core\\async_helpers.py\", line 67, in _pseudo_sync_runner\n    coro.send(None)\n  File \"C:\\Users\\Guo\\Anaconda3\\envs\\Tensorflow_cpu\\lib\\site-packages\\IPython\\core\\interactiveshell.py\", line 3049, in run_cell_async\n    interactivity=interactivity, compiler=compiler, result=result)\n  File \"C:\\Users\\Guo\\Anaconda3\\envs\\Tensorflow_cpu\\lib\\site-packages\\IPython\\core\\interactiveshell.py\", line 3214, in run_ast_nodes\n    if (yield from self.run_code(code, result)):\n  File \"C:\\Users\\Guo\\Anaconda3\\envs\\Tensorflow_cpu\\lib\\site-packages\\IPython\\core\\interactiveshell.py\", line 3296, in run_code\n    exec(code_obj, self.user_global_ns, self.user_ns)\n  File \"<ipython-input-7-733e8e310e96>\", line 15, in <module>\n    out_weights1=tf.Variable(name=\"weights1\",initial_value=tf.random_normal([num_units, 16], stddev=0.35))\n  File \"C:\\Users\\Guo\\Anaconda3\\envs\\Tensorflow_cpu\\lib\\site-packages\\tensorflow\\python\\ops\\variables.py\", line 213, in __call__\n    return cls._variable_v1_call(*args, **kwargs)\n  File \"C:\\Users\\Guo\\Anaconda3\\envs\\Tensorflow_cpu\\lib\\site-packages\\tensorflow\\python\\ops\\variables.py\", line 176, in _variable_v1_call\n    aggregation=aggregation)\n  File \"C:\\Users\\Guo\\Anaconda3\\envs\\Tensorflow_cpu\\lib\\site-packages\\tensorflow\\python\\ops\\variables.py\", line 155, in <lambda>\n    previous_getter = lambda **kwargs: default_variable_creator(None, **kwargs)\n  File \"C:\\Users\\Guo\\Anaconda3\\envs\\Tensorflow_cpu\\lib\\site-packages\\tensorflow\\python\\ops\\variable_scope.py\", line 2495, in default_variable_creator\n    expected_shape=expected_shape, import_scope=import_scope)\n  File \"C:\\Users\\Guo\\Anaconda3\\envs\\Tensorflow_cpu\\lib\\site-packages\\tensorflow\\python\\ops\\variables.py\", line 217, in __call__\n    return super(VariableMetaclass, cls).__call__(*args, **kwargs)\n  File \"C:\\Users\\Guo\\Anaconda3\\envs\\Tensorflow_cpu\\lib\\site-packages\\tensorflow\\python\\ops\\variables.py\", line 1395, in __init__\n    constraint=constraint)\n  File \"C:\\Users\\Guo\\Anaconda3\\envs\\Tensorflow_cpu\\lib\\site-packages\\tensorflow\\python\\ops\\variables.py\", line 1557, in _init_from_args\n    self._snapshot = array_ops.identity(self._variable, name=\"read\")\n  File \"C:\\Users\\Guo\\Anaconda3\\envs\\Tensorflow_cpu\\lib\\site-packages\\tensorflow\\python\\util\\dispatch.py\", line 180, in wrapper\n    return target(*args, **kwargs)\n  File \"C:\\Users\\Guo\\Anaconda3\\envs\\Tensorflow_cpu\\lib\\site-packages\\tensorflow\\python\\ops\\array_ops.py\", line 81, in identity\n    ret = gen_array_ops.identity(input, name=name)\n  File \"C:\\Users\\Guo\\Anaconda3\\envs\\Tensorflow_cpu\\lib\\site-packages\\tensorflow\\python\\ops\\gen_array_ops.py\", line 3889, in identity\n    \"Identity\", input=input, name=name)\n  File \"C:\\Users\\Guo\\Anaconda3\\envs\\Tensorflow_cpu\\lib\\site-packages\\tensorflow\\python\\framework\\op_def_library.py\", line 788, in _apply_op_helper\n    op_def=op_def)\n  File \"C:\\Users\\Guo\\Anaconda3\\envs\\Tensorflow_cpu\\lib\\site-packages\\tensorflow\\python\\util\\deprecation.py\", line 507, in new_func\n    return func(*args, **kwargs)\n  File \"C:\\Users\\Guo\\Anaconda3\\envs\\Tensorflow_cpu\\lib\\site-packages\\tensorflow\\python\\framework\\ops.py\", line 3300, in create_op\n    op_def=op_def)\n  File \"C:\\Users\\Guo\\Anaconda3\\envs\\Tensorflow_cpu\\lib\\site-packages\\tensorflow\\python\\framework\\ops.py\", line 1801, in __init__\n    self._traceback = tf_stack.extract_stack()\n\nFailedPreconditionError (see above for traceback): Attempting to use uninitialized value weights1\n\t [[node weights1/read (defined at <ipython-input-7-733e8e310e96>:15) ]]\n"
     ]
    }
   ],
   "source": [
    "from tensorflow.python.platform import gfile\n",
    "GRAPH_PB_PATH='./tmp/model/real_LSTM_fullData_dynamicW_tfTrain_2Dense_7_8_90.pb'\n",
    "with tf.Session() as sess:\n",
    "    print(\"load graph\")\n",
    "    with gfile.FastGFile(GRAPH_PB_PATH,'rb') as f:\n",
    "        graph_def = tf.GraphDef()\n",
    "    graph_def.ParseFromString(f.read())\n",
    "    sess.graph.as_default()\n",
    "    tf.import_graph_def(graph_def, name='')\n",
    "    graph_nodes=[n for n in graph_def.node]\n",
    "    for i in tqdm(range(len(data_x))):\n",
    "        feed={x:data_x[i:i+1],\n",
    "              state_in:data_state,\n",
    "                y:data_y[i:i+1],\n",
    "              loss_weight_in:loss_weight[i:i+1]\n",
    "               }\n",
    "    \n",
    "        data_state,_predictY = sess.run([state_out,prediction],feed_dict=feed)\n",
    "        #print(data_h.shape)\n",
    "        #data_c = sess.run(c,feed_dict=feed)\n",
    "        predictY[i]=_predictY[0]"
   ]
  },
  {
   "cell_type": "code",
   "execution_count": 14,
   "metadata": {},
   "outputs": [],
   "source": [
    "import json\n",
    "with open ('testTap.txt') as f:\n",
    "    data = json.load(f)\n",
    "\n",
    "valid_y=np.empty((0,1))\n",
    "valid_x = np.empty((0,3))\n",
    "for i in range(len(data)):\n",
    "    p=data[i]['p']\n",
    "    d=data[i]['d']\n",
    "    for j in range(len(p)):\n",
    "        dy=float(p[j])\n",
    "        valid_y=np.append(valid_y,np.array(dy).reshape([1,1]),axis=0)\n",
    "        datax = float(d[j][0]['x'])\n",
    "        datay = float(d[j][0]['y'])\n",
    "        dataz = float(d[j][0]['z'])\n",
    "        valid_x = np.append(valid_x,np.array([datax,datay,dataz]).reshape([1,3]),axis=0)"
   ]
  },
  {
   "cell_type": "code",
   "execution_count": 28,
   "metadata": {},
   "outputs": [
    {
     "data": {
      "text/plain": [
       "numpy.float64"
      ]
     },
     "execution_count": 28,
     "metadata": {},
     "output_type": "execute_result"
    }
   ],
   "source": [
    "type(data_x[0][0])"
   ]
  },
  {
   "cell_type": "code",
   "execution_count": 10,
   "metadata": {},
   "outputs": [],
   "source": [
    "predict_validY=np.zeros(len(valid_y))\n"
   ]
  },
  {
   "cell_type": "code",
   "execution_count": 13,
   "metadata": {},
   "outputs": [
    {
     "ename": "TypeError",
     "evalue": "Cannot interpret feed_dict key as Tensor: Can not convert a float into a Tensor.",
     "output_type": "error",
     "traceback": [
      "\u001b[1;31m---------------------------------------------------------------------------\u001b[0m",
      "\u001b[1;31mTypeError\u001b[0m                                 Traceback (most recent call last)",
      "\u001b[1;32m~\\Anaconda3\\envs\\tf_1_13_cpu\\lib\\site-packages\\tensorflow\\python\\client\\session.py\u001b[0m in \u001b[0;36m_run\u001b[1;34m(self, handle, fetches, feed_dict, options, run_metadata)\u001b[0m\n\u001b[0;32m   1091\u001b[0m             subfeed_t = self.graph.as_graph_element(\n\u001b[1;32m-> 1092\u001b[1;33m                 subfeed, allow_tensor=True, allow_operation=False)\n\u001b[0m\u001b[0;32m   1093\u001b[0m           \u001b[1;32mexcept\u001b[0m \u001b[0mException\u001b[0m \u001b[1;32mas\u001b[0m \u001b[0me\u001b[0m\u001b[1;33m:\u001b[0m\u001b[1;33m\u001b[0m\u001b[1;33m\u001b[0m\u001b[0m\n",
      "\u001b[1;32m~\\Anaconda3\\envs\\tf_1_13_cpu\\lib\\site-packages\\tensorflow\\python\\framework\\ops.py\u001b[0m in \u001b[0;36mas_graph_element\u001b[1;34m(self, obj, allow_tensor, allow_operation)\u001b[0m\n\u001b[0;32m   3477\u001b[0m     \u001b[1;32mwith\u001b[0m \u001b[0mself\u001b[0m\u001b[1;33m.\u001b[0m\u001b[0m_lock\u001b[0m\u001b[1;33m:\u001b[0m\u001b[1;33m\u001b[0m\u001b[1;33m\u001b[0m\u001b[0m\n\u001b[1;32m-> 3478\u001b[1;33m       \u001b[1;32mreturn\u001b[0m \u001b[0mself\u001b[0m\u001b[1;33m.\u001b[0m\u001b[0m_as_graph_element_locked\u001b[0m\u001b[1;33m(\u001b[0m\u001b[0mobj\u001b[0m\u001b[1;33m,\u001b[0m \u001b[0mallow_tensor\u001b[0m\u001b[1;33m,\u001b[0m \u001b[0mallow_operation\u001b[0m\u001b[1;33m)\u001b[0m\u001b[1;33m\u001b[0m\u001b[1;33m\u001b[0m\u001b[0m\n\u001b[0m\u001b[0;32m   3479\u001b[0m \u001b[1;33m\u001b[0m\u001b[0m\n",
      "\u001b[1;32m~\\Anaconda3\\envs\\tf_1_13_cpu\\lib\\site-packages\\tensorflow\\python\\framework\\ops.py\u001b[0m in \u001b[0;36m_as_graph_element_locked\u001b[1;34m(self, obj, allow_tensor, allow_operation)\u001b[0m\n\u001b[0;32m   3566\u001b[0m       raise TypeError(\"Can not convert a %s into a %s.\" % (type(obj).__name__,\n\u001b[1;32m-> 3567\u001b[1;33m                                                            types_str))\n\u001b[0m\u001b[0;32m   3568\u001b[0m \u001b[1;33m\u001b[0m\u001b[0m\n",
      "\u001b[1;31mTypeError\u001b[0m: Can not convert a float into a Tensor.",
      "\nDuring handling of the above exception, another exception occurred:\n",
      "\u001b[1;31mTypeError\u001b[0m                                 Traceback (most recent call last)",
      "\u001b[1;32m<ipython-input-13-caa0f199f9e7>\u001b[0m in \u001b[0;36m<module>\u001b[1;34m\u001b[0m\n\u001b[0;32m      8\u001b[0m                 \u001b[0my\u001b[0m\u001b[1;33m:\u001b[0m\u001b[0mvalid_y\u001b[0m\u001b[1;33m[\u001b[0m\u001b[0mi\u001b[0m\u001b[1;33m:\u001b[0m\u001b[0mi\u001b[0m\u001b[1;33m+\u001b[0m\u001b[1;36m1\u001b[0m\u001b[1;33m]\u001b[0m\u001b[1;33m\u001b[0m\u001b[1;33m\u001b[0m\u001b[0m\n\u001b[0;32m      9\u001b[0m                }\n\u001b[1;32m---> 10\u001b[1;33m         \u001b[0msess\u001b[0m\u001b[1;33m.\u001b[0m\u001b[0mrun\u001b[0m\u001b[1;33m(\u001b[0m\u001b[0mopt\u001b[0m\u001b[1;33m,\u001b[0m\u001b[0mfeed_dict\u001b[0m\u001b[1;33m=\u001b[0m\u001b[0mfeed\u001b[0m\u001b[1;33m)\u001b[0m\u001b[1;33m\u001b[0m\u001b[1;33m\u001b[0m\u001b[0m\n\u001b[0m\u001b[0;32m     11\u001b[0m \u001b[1;33m\u001b[0m\u001b[0m\n\u001b[0;32m     12\u001b[0m         \u001b[0mdata_state\u001b[0m\u001b[1;33m,\u001b[0m\u001b[0m_predictY\u001b[0m \u001b[1;33m=\u001b[0m \u001b[0msess\u001b[0m\u001b[1;33m.\u001b[0m\u001b[0mrun\u001b[0m\u001b[1;33m(\u001b[0m\u001b[1;33m[\u001b[0m\u001b[0mstate_out\u001b[0m\u001b[1;33m,\u001b[0m\u001b[0mprediction\u001b[0m\u001b[1;33m]\u001b[0m\u001b[1;33m,\u001b[0m\u001b[0mfeed_dict\u001b[0m\u001b[1;33m=\u001b[0m\u001b[0mfeed\u001b[0m\u001b[1;33m)\u001b[0m\u001b[1;33m\u001b[0m\u001b[1;33m\u001b[0m\u001b[0m\n",
      "\u001b[1;32m~\\Anaconda3\\envs\\tf_1_13_cpu\\lib\\site-packages\\tensorflow\\python\\client\\session.py\u001b[0m in \u001b[0;36mrun\u001b[1;34m(self, fetches, feed_dict, options, run_metadata)\u001b[0m\n\u001b[0;32m    927\u001b[0m     \u001b[1;32mtry\u001b[0m\u001b[1;33m:\u001b[0m\u001b[1;33m\u001b[0m\u001b[1;33m\u001b[0m\u001b[0m\n\u001b[0;32m    928\u001b[0m       result = self._run(None, fetches, feed_dict, options_ptr,\n\u001b[1;32m--> 929\u001b[1;33m                          run_metadata_ptr)\n\u001b[0m\u001b[0;32m    930\u001b[0m       \u001b[1;32mif\u001b[0m \u001b[0mrun_metadata\u001b[0m\u001b[1;33m:\u001b[0m\u001b[1;33m\u001b[0m\u001b[1;33m\u001b[0m\u001b[0m\n\u001b[0;32m    931\u001b[0m         \u001b[0mproto_data\u001b[0m \u001b[1;33m=\u001b[0m \u001b[0mtf_session\u001b[0m\u001b[1;33m.\u001b[0m\u001b[0mTF_GetBuffer\u001b[0m\u001b[1;33m(\u001b[0m\u001b[0mrun_metadata_ptr\u001b[0m\u001b[1;33m)\u001b[0m\u001b[1;33m\u001b[0m\u001b[1;33m\u001b[0m\u001b[0m\n",
      "\u001b[1;32m~\\Anaconda3\\envs\\tf_1_13_cpu\\lib\\site-packages\\tensorflow\\python\\client\\session.py\u001b[0m in \u001b[0;36m_run\u001b[1;34m(self, handle, fetches, feed_dict, options, run_metadata)\u001b[0m\n\u001b[0;32m   1093\u001b[0m           \u001b[1;32mexcept\u001b[0m \u001b[0mException\u001b[0m \u001b[1;32mas\u001b[0m \u001b[0me\u001b[0m\u001b[1;33m:\u001b[0m\u001b[1;33m\u001b[0m\u001b[1;33m\u001b[0m\u001b[0m\n\u001b[0;32m   1094\u001b[0m             raise TypeError(\n\u001b[1;32m-> 1095\u001b[1;33m                 'Cannot interpret feed_dict key as Tensor: ' + e.args[0])\n\u001b[0m\u001b[0;32m   1096\u001b[0m \u001b[1;33m\u001b[0m\u001b[0m\n\u001b[0;32m   1097\u001b[0m           \u001b[1;32mif\u001b[0m \u001b[0misinstance\u001b[0m\u001b[1;33m(\u001b[0m\u001b[0msubfeed_val\u001b[0m\u001b[1;33m,\u001b[0m \u001b[0mops\u001b[0m\u001b[1;33m.\u001b[0m\u001b[0mTensor\u001b[0m\u001b[1;33m)\u001b[0m\u001b[1;33m:\u001b[0m\u001b[1;33m\u001b[0m\u001b[1;33m\u001b[0m\u001b[0m\n",
      "\u001b[1;31mTypeError\u001b[0m: Cannot interpret feed_dict key as Tensor: Can not convert a float into a Tensor."
     ]
    }
   ],
   "source": [
    "init = tf.global_variables_initializer()\n",
    "with tf.Session() as sess:\n",
    "    sess.run(init)\n",
    "\n",
    "    for i in range(len(valid_x)):\n",
    "        feed={x:valid_x[i:i+1],\n",
    "              state_in:data_state,\n",
    "                y:valid_y[i:i+1]\n",
    "               }\n",
    "        #sess.run(opt,feed_dict=feed)\n",
    "\n",
    "        data_state,_predictY = sess.run([state_out,prediction],feed_dict=feed)\n",
    "        #print(data_h.shape)\n",
    "        #data_c = sess.run(c,feed_dict=feed)\n",
    "        predict_validY[i]=_predictY[0]"
   ]
  },
  {
   "cell_type": "code",
   "execution_count": 32,
   "metadata": {},
   "outputs": [],
   "source": [
    "mse = (np.square(predictY-data_y.reshape([len(data_x)]))).mean(axis=0)"
   ]
  },
  {
   "cell_type": "code",
   "execution_count": 11,
   "metadata": {},
   "outputs": [
    {
     "data": {
      "text/plain": [
       "['input_tensor',\n",
       " 'labels',\n",
       " 'input_state',\n",
       " 'wi/initial_value',\n",
       " 'wi',\n",
       " 'wi/Assign',\n",
       " 'wi/read',\n",
       " 'wf/initial_value',\n",
       " 'wf',\n",
       " 'wf/Assign',\n",
       " 'wf/read',\n",
       " 'wc/initial_value',\n",
       " 'wc',\n",
       " 'wc/Assign',\n",
       " 'wc/read',\n",
       " 'wo/initial_value',\n",
       " 'wo',\n",
       " 'wo/Assign',\n",
       " 'wo/read',\n",
       " 'ui/initial_value',\n",
       " 'ui',\n",
       " 'ui/Assign',\n",
       " 'ui/read',\n",
       " 'uf/initial_value',\n",
       " 'uf',\n",
       " 'uf/Assign',\n",
       " 'uf/read',\n",
       " 'uc/initial_value',\n",
       " 'uc',\n",
       " 'uc/Assign',\n",
       " 'uc/read',\n",
       " 'uo/initial_value',\n",
       " 'uo',\n",
       " 'uo/Assign',\n",
       " 'uo/read',\n",
       " 'bi/initial_value',\n",
       " 'bi',\n",
       " 'bi/Assign',\n",
       " 'bi/read',\n",
       " 'bf/initial_value',\n",
       " 'bf',\n",
       " 'bf/Assign',\n",
       " 'bf/read',\n",
       " 'bc/initial_value',\n",
       " 'bc',\n",
       " 'bc/Assign',\n",
       " 'bc/read',\n",
       " 'bo/initial_value',\n",
       " 'bo',\n",
       " 'bo/Assign',\n",
       " 'bo/read',\n",
       " 'weights/initial_value',\n",
       " 'weights',\n",
       " 'weights/Assign',\n",
       " 'weights/read',\n",
       " 'bias/initial_value',\n",
       " 'bias',\n",
       " 'bias/Assign',\n",
       " 'bias/read',\n",
       " 'Const',\n",
       " 'split/split_dim',\n",
       " 'split',\n",
       " 'MatMul',\n",
       " 'MatMul_1',\n",
       " 'MatMul_2',\n",
       " 'MatMul_3',\n",
       " 'Add',\n",
       " 'MatMul_4',\n",
       " 'Add_1',\n",
       " 'Sigmoid',\n",
       " 'Add_2',\n",
       " 'MatMul_5',\n",
       " 'Add_3',\n",
       " 'Sigmoid_1',\n",
       " 'Mul',\n",
       " 'Add_4',\n",
       " 'MatMul_6',\n",
       " 'Add_5',\n",
       " 'Tanh',\n",
       " 'output_c',\n",
       " 'Add_6',\n",
       " 'MatMul_7',\n",
       " 'Add_7',\n",
       " 'Sigmoid_2',\n",
       " 'Tanh_1',\n",
       " 'output_h',\n",
       " 'MatMul_8',\n",
       " 'output_forRelu',\n",
       " 'output',\n",
       " 'output_state/axis',\n",
       " 'output_state',\n",
       " 'mean_squared_error/SquaredDifference',\n",
       " 'mean_squared_error/assert_broadcastable/weights',\n",
       " 'mean_squared_error/assert_broadcastable/weights/shape',\n",
       " 'mean_squared_error/assert_broadcastable/weights/rank',\n",
       " 'mean_squared_error/assert_broadcastable/values/shape',\n",
       " 'mean_squared_error/assert_broadcastable/values/rank',\n",
       " 'mean_squared_error/assert_broadcastable/static_scalar_check_success',\n",
       " 'mean_squared_error/ToFloat/x',\n",
       " 'mean_squared_error/Mul',\n",
       " 'mean_squared_error/Const',\n",
       " 'mean_squared_error/Sum',\n",
       " 'mean_squared_error/num_present/Equal/y',\n",
       " 'mean_squared_error/num_present/Equal',\n",
       " 'mean_squared_error/num_present/zeros_like',\n",
       " 'mean_squared_error/num_present/ones_like/Shape',\n",
       " 'mean_squared_error/num_present/ones_like/Const',\n",
       " 'mean_squared_error/num_present/ones_like',\n",
       " 'mean_squared_error/num_present/Select',\n",
       " 'mean_squared_error/num_present/broadcast_weights/assert_broadcastable/weights/shape',\n",
       " 'mean_squared_error/num_present/broadcast_weights/assert_broadcastable/weights/rank',\n",
       " 'mean_squared_error/num_present/broadcast_weights/assert_broadcastable/values/shape',\n",
       " 'mean_squared_error/num_present/broadcast_weights/assert_broadcastable/values/rank',\n",
       " 'mean_squared_error/num_present/broadcast_weights/assert_broadcastable/static_scalar_check_success',\n",
       " 'mean_squared_error/num_present/broadcast_weights/ones_like/Shape',\n",
       " 'mean_squared_error/num_present/broadcast_weights/ones_like/Const',\n",
       " 'mean_squared_error/num_present/broadcast_weights/ones_like',\n",
       " 'mean_squared_error/num_present/broadcast_weights',\n",
       " 'mean_squared_error/num_present/Const',\n",
       " 'mean_squared_error/num_present',\n",
       " 'mean_squared_error/Const_1',\n",
       " 'mean_squared_error/Sum_1',\n",
       " 'mean_squared_error/value',\n",
       " 'gradients/Shape',\n",
       " 'gradients/grad_ys_0',\n",
       " 'gradients/Fill',\n",
       " 'gradients/mean_squared_error/value_grad/Shape',\n",
       " 'gradients/mean_squared_error/value_grad/Shape_1',\n",
       " 'gradients/mean_squared_error/value_grad/BroadcastGradientArgs',\n",
       " 'gradients/mean_squared_error/value_grad/div_no_nan',\n",
       " 'gradients/mean_squared_error/value_grad/Sum',\n",
       " 'gradients/mean_squared_error/value_grad/Reshape',\n",
       " 'gradients/mean_squared_error/value_grad/Neg',\n",
       " 'gradients/mean_squared_error/value_grad/div_no_nan_1',\n",
       " 'gradients/mean_squared_error/value_grad/div_no_nan_2',\n",
       " 'gradients/mean_squared_error/value_grad/mul',\n",
       " 'gradients/mean_squared_error/value_grad/Sum_1',\n",
       " 'gradients/mean_squared_error/value_grad/Reshape_1',\n",
       " 'gradients/mean_squared_error/value_grad/tuple/group_deps',\n",
       " 'gradients/mean_squared_error/value_grad/tuple/control_dependency',\n",
       " 'gradients/mean_squared_error/value_grad/tuple/control_dependency_1',\n",
       " 'gradients/mean_squared_error/Sum_1_grad/Reshape/shape',\n",
       " 'gradients/mean_squared_error/Sum_1_grad/Reshape',\n",
       " 'gradients/mean_squared_error/Sum_1_grad/Const',\n",
       " 'gradients/mean_squared_error/Sum_1_grad/Tile',\n",
       " 'gradients/mean_squared_error/Sum_grad/Reshape/shape',\n",
       " 'gradients/mean_squared_error/Sum_grad/Reshape',\n",
       " 'gradients/mean_squared_error/Sum_grad/Shape',\n",
       " 'gradients/mean_squared_error/Sum_grad/Tile',\n",
       " 'gradients/mean_squared_error/Mul_grad/Shape',\n",
       " 'gradients/mean_squared_error/Mul_grad/Shape_1',\n",
       " 'gradients/mean_squared_error/Mul_grad/BroadcastGradientArgs',\n",
       " 'gradients/mean_squared_error/Mul_grad/Mul',\n",
       " 'gradients/mean_squared_error/Mul_grad/Sum',\n",
       " 'gradients/mean_squared_error/Mul_grad/Reshape',\n",
       " 'gradients/mean_squared_error/Mul_grad/Mul_1',\n",
       " 'gradients/mean_squared_error/Mul_grad/Sum_1',\n",
       " 'gradients/mean_squared_error/Mul_grad/Reshape_1',\n",
       " 'gradients/mean_squared_error/Mul_grad/tuple/group_deps',\n",
       " 'gradients/mean_squared_error/Mul_grad/tuple/control_dependency',\n",
       " 'gradients/mean_squared_error/Mul_grad/tuple/control_dependency_1',\n",
       " 'gradients/mean_squared_error/SquaredDifference_grad/Shape',\n",
       " 'gradients/mean_squared_error/SquaredDifference_grad/Shape_1',\n",
       " 'gradients/mean_squared_error/SquaredDifference_grad/BroadcastGradientArgs',\n",
       " 'gradients/mean_squared_error/SquaredDifference_grad/scalar',\n",
       " 'gradients/mean_squared_error/SquaredDifference_grad/Mul',\n",
       " 'gradients/mean_squared_error/SquaredDifference_grad/sub',\n",
       " 'gradients/mean_squared_error/SquaredDifference_grad/mul_1',\n",
       " 'gradients/mean_squared_error/SquaredDifference_grad/Sum',\n",
       " 'gradients/mean_squared_error/SquaredDifference_grad/Reshape',\n",
       " 'gradients/mean_squared_error/SquaredDifference_grad/Sum_1',\n",
       " 'gradients/mean_squared_error/SquaredDifference_grad/Reshape_1',\n",
       " 'gradients/mean_squared_error/SquaredDifference_grad/Neg',\n",
       " 'gradients/mean_squared_error/SquaredDifference_grad/tuple/group_deps',\n",
       " 'gradients/mean_squared_error/SquaredDifference_grad/tuple/control_dependency',\n",
       " 'gradients/mean_squared_error/SquaredDifference_grad/tuple/control_dependency_1',\n",
       " 'gradients/output_grad/ReluGrad',\n",
       " 'gradients/output_forRelu_grad/Shape',\n",
       " 'gradients/output_forRelu_grad/Shape_1',\n",
       " 'gradients/output_forRelu_grad/BroadcastGradientArgs',\n",
       " 'gradients/output_forRelu_grad/Sum',\n",
       " 'gradients/output_forRelu_grad/Reshape',\n",
       " 'gradients/output_forRelu_grad/Sum_1',\n",
       " 'gradients/output_forRelu_grad/Reshape_1',\n",
       " 'gradients/output_forRelu_grad/tuple/group_deps',\n",
       " 'gradients/output_forRelu_grad/tuple/control_dependency',\n",
       " 'gradients/output_forRelu_grad/tuple/control_dependency_1',\n",
       " 'gradients/MatMul_8_grad/MatMul',\n",
       " 'gradients/MatMul_8_grad/MatMul_1',\n",
       " 'gradients/MatMul_8_grad/tuple/group_deps',\n",
       " 'gradients/MatMul_8_grad/tuple/control_dependency',\n",
       " 'gradients/MatMul_8_grad/tuple/control_dependency_1',\n",
       " 'gradients/output_h_grad/Shape',\n",
       " 'gradients/output_h_grad/Shape_1',\n",
       " 'gradients/output_h_grad/BroadcastGradientArgs',\n",
       " 'gradients/output_h_grad/Mul',\n",
       " 'gradients/output_h_grad/Sum',\n",
       " 'gradients/output_h_grad/Reshape',\n",
       " 'gradients/output_h_grad/Mul_1',\n",
       " 'gradients/output_h_grad/Sum_1',\n",
       " 'gradients/output_h_grad/Reshape_1',\n",
       " 'gradients/output_h_grad/tuple/group_deps',\n",
       " 'gradients/output_h_grad/tuple/control_dependency',\n",
       " 'gradients/output_h_grad/tuple/control_dependency_1',\n",
       " 'gradients/Sigmoid_2_grad/SigmoidGrad',\n",
       " 'gradients/Tanh_1_grad/TanhGrad',\n",
       " 'gradients/Add_7_grad/Shape',\n",
       " 'gradients/Add_7_grad/Shape_1',\n",
       " 'gradients/Add_7_grad/BroadcastGradientArgs',\n",
       " 'gradients/Add_7_grad/Sum',\n",
       " 'gradients/Add_7_grad/Reshape',\n",
       " 'gradients/Add_7_grad/Sum_1',\n",
       " 'gradients/Add_7_grad/Reshape_1',\n",
       " 'gradients/Add_7_grad/tuple/group_deps',\n",
       " 'gradients/Add_7_grad/tuple/control_dependency',\n",
       " 'gradients/Add_7_grad/tuple/control_dependency_1',\n",
       " 'gradients/output_c_grad/Shape',\n",
       " 'gradients/output_c_grad/Shape_1',\n",
       " 'gradients/output_c_grad/BroadcastGradientArgs',\n",
       " 'gradients/output_c_grad/Sum',\n",
       " 'gradients/output_c_grad/Reshape',\n",
       " 'gradients/output_c_grad/Sum_1',\n",
       " 'gradients/output_c_grad/Reshape_1',\n",
       " 'gradients/output_c_grad/tuple/group_deps',\n",
       " 'gradients/output_c_grad/tuple/control_dependency',\n",
       " 'gradients/output_c_grad/tuple/control_dependency_1',\n",
       " 'gradients/Add_6_grad/Shape',\n",
       " 'gradients/Add_6_grad/Shape_1',\n",
       " 'gradients/Add_6_grad/BroadcastGradientArgs',\n",
       " 'gradients/Add_6_grad/Sum',\n",
       " 'gradients/Add_6_grad/Reshape',\n",
       " 'gradients/Add_6_grad/Sum_1',\n",
       " 'gradients/Add_6_grad/Reshape_1',\n",
       " 'gradients/Add_6_grad/tuple/group_deps',\n",
       " 'gradients/Add_6_grad/tuple/control_dependency',\n",
       " 'gradients/Add_6_grad/tuple/control_dependency_1',\n",
       " 'gradients/MatMul_7_grad/MatMul',\n",
       " 'gradients/MatMul_7_grad/MatMul_1',\n",
       " 'gradients/MatMul_7_grad/tuple/group_deps',\n",
       " 'gradients/MatMul_7_grad/tuple/control_dependency',\n",
       " 'gradients/MatMul_7_grad/tuple/control_dependency_1',\n",
       " 'gradients/Mul_grad/Shape',\n",
       " 'gradients/Mul_grad/Shape_1',\n",
       " 'gradients/Mul_grad/BroadcastGradientArgs',\n",
       " 'gradients/Mul_grad/Mul',\n",
       " 'gradients/Mul_grad/Sum',\n",
       " 'gradients/Mul_grad/Reshape',\n",
       " 'gradients/Mul_grad/Mul_1',\n",
       " 'gradients/Mul_grad/Sum_1',\n",
       " 'gradients/Mul_grad/Reshape_1',\n",
       " 'gradients/Mul_grad/tuple/group_deps',\n",
       " 'gradients/Mul_grad/tuple/control_dependency',\n",
       " 'gradients/Mul_grad/tuple/control_dependency_1',\n",
       " 'gradients/Tanh_grad/TanhGrad',\n",
       " 'gradients/MatMul_3_grad/MatMul',\n",
       " 'gradients/MatMul_3_grad/MatMul_1',\n",
       " 'gradients/MatMul_3_grad/tuple/group_deps',\n",
       " 'gradients/MatMul_3_grad/tuple/control_dependency',\n",
       " 'gradients/MatMul_3_grad/tuple/control_dependency_1',\n",
       " 'gradients/Sigmoid_1_grad/SigmoidGrad',\n",
       " 'gradients/Add_5_grad/Shape',\n",
       " 'gradients/Add_5_grad/Shape_1',\n",
       " 'gradients/Add_5_grad/BroadcastGradientArgs',\n",
       " 'gradients/Add_5_grad/Sum',\n",
       " 'gradients/Add_5_grad/Reshape',\n",
       " 'gradients/Add_5_grad/Sum_1',\n",
       " 'gradients/Add_5_grad/Reshape_1',\n",
       " 'gradients/Add_5_grad/tuple/group_deps',\n",
       " 'gradients/Add_5_grad/tuple/control_dependency',\n",
       " 'gradients/Add_5_grad/tuple/control_dependency_1',\n",
       " 'gradients/Add_3_grad/Shape',\n",
       " 'gradients/Add_3_grad/Shape_1',\n",
       " 'gradients/Add_3_grad/BroadcastGradientArgs',\n",
       " 'gradients/Add_3_grad/Sum',\n",
       " 'gradients/Add_3_grad/Reshape',\n",
       " 'gradients/Add_3_grad/Sum_1',\n",
       " 'gradients/Add_3_grad/Reshape_1',\n",
       " 'gradients/Add_3_grad/tuple/group_deps',\n",
       " 'gradients/Add_3_grad/tuple/control_dependency',\n",
       " 'gradients/Add_3_grad/tuple/control_dependency_1',\n",
       " 'gradients/Add_4_grad/Shape',\n",
       " 'gradients/Add_4_grad/Shape_1',\n",
       " 'gradients/Add_4_grad/BroadcastGradientArgs',\n",
       " 'gradients/Add_4_grad/Sum',\n",
       " 'gradients/Add_4_grad/Reshape',\n",
       " 'gradients/Add_4_grad/Sum_1',\n",
       " 'gradients/Add_4_grad/Reshape_1',\n",
       " 'gradients/Add_4_grad/tuple/group_deps',\n",
       " 'gradients/Add_4_grad/tuple/control_dependency',\n",
       " 'gradients/Add_4_grad/tuple/control_dependency_1',\n",
       " 'gradients/MatMul_6_grad/MatMul',\n",
       " 'gradients/MatMul_6_grad/MatMul_1',\n",
       " 'gradients/MatMul_6_grad/tuple/group_deps',\n",
       " 'gradients/MatMul_6_grad/tuple/control_dependency',\n",
       " 'gradients/MatMul_6_grad/tuple/control_dependency_1',\n",
       " 'gradients/Add_2_grad/Shape',\n",
       " 'gradients/Add_2_grad/Shape_1',\n",
       " 'gradients/Add_2_grad/BroadcastGradientArgs',\n",
       " 'gradients/Add_2_grad/Sum',\n",
       " 'gradients/Add_2_grad/Reshape',\n",
       " 'gradients/Add_2_grad/Sum_1',\n",
       " 'gradients/Add_2_grad/Reshape_1',\n",
       " 'gradients/Add_2_grad/tuple/group_deps',\n",
       " 'gradients/Add_2_grad/tuple/control_dependency',\n",
       " 'gradients/Add_2_grad/tuple/control_dependency_1',\n",
       " 'gradients/MatMul_5_grad/MatMul',\n",
       " 'gradients/MatMul_5_grad/MatMul_1',\n",
       " 'gradients/MatMul_5_grad/tuple/group_deps',\n",
       " 'gradients/MatMul_5_grad/tuple/control_dependency',\n",
       " 'gradients/MatMul_5_grad/tuple/control_dependency_1',\n",
       " 'gradients/MatMul_2_grad/MatMul',\n",
       " 'gradients/MatMul_2_grad/MatMul_1',\n",
       " 'gradients/MatMul_2_grad/tuple/group_deps',\n",
       " 'gradients/MatMul_2_grad/tuple/control_dependency',\n",
       " 'gradients/MatMul_2_grad/tuple/control_dependency_1',\n",
       " 'gradients/MatMul_1_grad/MatMul',\n",
       " 'gradients/MatMul_1_grad/MatMul_1',\n",
       " 'gradients/MatMul_1_grad/tuple/group_deps',\n",
       " 'gradients/MatMul_1_grad/tuple/control_dependency',\n",
       " 'gradients/MatMul_1_grad/tuple/control_dependency_1',\n",
       " 'beta1_power/initial_value',\n",
       " 'beta1_power',\n",
       " 'beta1_power/Assign',\n",
       " 'beta1_power/read',\n",
       " 'beta2_power/initial_value',\n",
       " 'beta2_power',\n",
       " 'beta2_power/Assign',\n",
       " 'beta2_power/read',\n",
       " 'wf/Adam/Initializer/zeros',\n",
       " 'wf/Adam',\n",
       " 'wf/Adam/Assign',\n",
       " 'wf/Adam/read',\n",
       " 'wf/Adam_1/Initializer/zeros',\n",
       " 'wf/Adam_1',\n",
       " 'wf/Adam_1/Assign',\n",
       " 'wf/Adam_1/read',\n",
       " 'wc/Adam/Initializer/zeros',\n",
       " 'wc/Adam',\n",
       " 'wc/Adam/Assign',\n",
       " 'wc/Adam/read',\n",
       " 'wc/Adam_1/Initializer/zeros',\n",
       " 'wc/Adam_1',\n",
       " 'wc/Adam_1/Assign',\n",
       " 'wc/Adam_1/read',\n",
       " 'wo/Adam/Initializer/zeros',\n",
       " 'wo/Adam',\n",
       " 'wo/Adam/Assign',\n",
       " 'wo/Adam/read',\n",
       " 'wo/Adam_1/Initializer/zeros',\n",
       " 'wo/Adam_1',\n",
       " 'wo/Adam_1/Assign',\n",
       " 'wo/Adam_1/read',\n",
       " 'uf/Adam/Initializer/zeros/shape_as_tensor',\n",
       " 'uf/Adam/Initializer/zeros/Const',\n",
       " 'uf/Adam/Initializer/zeros',\n",
       " 'uf/Adam',\n",
       " 'uf/Adam/Assign',\n",
       " 'uf/Adam/read',\n",
       " 'uf/Adam_1/Initializer/zeros/shape_as_tensor',\n",
       " 'uf/Adam_1/Initializer/zeros/Const',\n",
       " 'uf/Adam_1/Initializer/zeros',\n",
       " 'uf/Adam_1',\n",
       " 'uf/Adam_1/Assign',\n",
       " 'uf/Adam_1/read',\n",
       " 'uc/Adam/Initializer/zeros/shape_as_tensor',\n",
       " 'uc/Adam/Initializer/zeros/Const',\n",
       " 'uc/Adam/Initializer/zeros',\n",
       " 'uc/Adam',\n",
       " 'uc/Adam/Assign',\n",
       " 'uc/Adam/read',\n",
       " 'uc/Adam_1/Initializer/zeros/shape_as_tensor',\n",
       " 'uc/Adam_1/Initializer/zeros/Const',\n",
       " 'uc/Adam_1/Initializer/zeros',\n",
       " 'uc/Adam_1',\n",
       " 'uc/Adam_1/Assign',\n",
       " 'uc/Adam_1/read',\n",
       " 'uo/Adam/Initializer/zeros/shape_as_tensor',\n",
       " 'uo/Adam/Initializer/zeros/Const',\n",
       " 'uo/Adam/Initializer/zeros',\n",
       " 'uo/Adam',\n",
       " 'uo/Adam/Assign',\n",
       " 'uo/Adam/read',\n",
       " 'uo/Adam_1/Initializer/zeros/shape_as_tensor',\n",
       " 'uo/Adam_1/Initializer/zeros/Const',\n",
       " 'uo/Adam_1/Initializer/zeros',\n",
       " 'uo/Adam_1',\n",
       " 'uo/Adam_1/Assign',\n",
       " 'uo/Adam_1/read',\n",
       " 'bf/Adam/Initializer/zeros',\n",
       " 'bf/Adam',\n",
       " 'bf/Adam/Assign',\n",
       " 'bf/Adam/read',\n",
       " 'bf/Adam_1/Initializer/zeros',\n",
       " 'bf/Adam_1',\n",
       " 'bf/Adam_1/Assign',\n",
       " 'bf/Adam_1/read',\n",
       " 'bc/Adam/Initializer/zeros',\n",
       " 'bc/Adam',\n",
       " 'bc/Adam/Assign',\n",
       " 'bc/Adam/read',\n",
       " 'bc/Adam_1/Initializer/zeros',\n",
       " 'bc/Adam_1',\n",
       " 'bc/Adam_1/Assign',\n",
       " 'bc/Adam_1/read',\n",
       " 'bo/Adam/Initializer/zeros',\n",
       " 'bo/Adam',\n",
       " 'bo/Adam/Assign',\n",
       " 'bo/Adam/read',\n",
       " 'bo/Adam_1/Initializer/zeros',\n",
       " 'bo/Adam_1',\n",
       " 'bo/Adam_1/Assign',\n",
       " 'bo/Adam_1/read',\n",
       " 'weights/Adam/Initializer/zeros',\n",
       " 'weights/Adam',\n",
       " 'weights/Adam/Assign',\n",
       " 'weights/Adam/read',\n",
       " 'weights/Adam_1/Initializer/zeros',\n",
       " 'weights/Adam_1',\n",
       " 'weights/Adam_1/Assign',\n",
       " 'weights/Adam_1/read',\n",
       " 'bias/Adam/Initializer/zeros',\n",
       " 'bias/Adam',\n",
       " 'bias/Adam/Assign',\n",
       " 'bias/Adam/read',\n",
       " 'bias/Adam_1/Initializer/zeros',\n",
       " 'bias/Adam_1',\n",
       " 'bias/Adam_1/Assign',\n",
       " 'bias/Adam_1/read',\n",
       " 'Adam/learning_rate',\n",
       " 'Adam/beta1',\n",
       " 'Adam/beta2',\n",
       " 'Adam/epsilon',\n",
       " 'Adam/update_wf/ApplyAdam',\n",
       " 'Adam/update_wc/ApplyAdam',\n",
       " 'Adam/update_wo/ApplyAdam',\n",
       " 'Adam/update_uf/ApplyAdam',\n",
       " 'Adam/update_uc/ApplyAdam',\n",
       " 'Adam/update_uo/ApplyAdam',\n",
       " 'Adam/update_bf/ApplyAdam',\n",
       " 'Adam/update_bc/ApplyAdam',\n",
       " 'Adam/update_bo/ApplyAdam',\n",
       " 'Adam/update_weights/ApplyAdam',\n",
       " 'Adam/update_bias/ApplyAdam',\n",
       " 'Adam/mul',\n",
       " 'Adam/Assign',\n",
       " 'Adam/mul_1',\n",
       " 'Adam/Assign_1',\n",
       " 'Adam',\n",
       " 'init',\n",
       " 'save/filename/input',\n",
       " 'save/filename',\n",
       " 'save/Const',\n",
       " 'save/SaveV2/tensor_names',\n",
       " 'save/SaveV2/shape_and_slices',\n",
       " 'save/SaveV2',\n",
       " 'save/control_dependency',\n",
       " 'save/RestoreV2/tensor_names',\n",
       " 'save/RestoreV2/shape_and_slices',\n",
       " 'save/RestoreV2',\n",
       " 'save/Assign',\n",
       " 'save/Assign_1',\n",
       " 'save/Assign_2',\n",
       " 'save/Assign_3',\n",
       " 'save/Assign_4',\n",
       " 'save/Assign_5',\n",
       " 'save/Assign_6',\n",
       " 'save/Assign_7',\n",
       " 'save/Assign_8',\n",
       " 'save/Assign_9',\n",
       " 'save/Assign_10',\n",
       " 'save/Assign_11',\n",
       " 'save/Assign_12',\n",
       " 'save/Assign_13',\n",
       " 'save/Assign_14',\n",
       " 'save/Assign_15',\n",
       " 'save/Assign_16',\n",
       " 'save/Assign_17',\n",
       " 'save/Assign_18',\n",
       " 'save/Assign_19',\n",
       " 'save/Assign_20',\n",
       " 'save/Assign_21',\n",
       " 'save/Assign_22',\n",
       " 'save/Assign_23',\n",
       " 'save/Assign_24',\n",
       " 'save/Assign_25',\n",
       " 'save/Assign_26',\n",
       " 'save/Assign_27',\n",
       " 'save/Assign_28',\n",
       " 'save/Assign_29',\n",
       " 'save/Assign_30',\n",
       " 'save/Assign_31',\n",
       " 'save/Assign_32',\n",
       " 'save/Assign_33',\n",
       " 'save/Assign_34',\n",
       " 'save/Assign_35',\n",
       " 'save/Assign_36',\n",
       " 'save/Assign_37',\n",
       " 'save/restore_all']"
      ]
     },
     "execution_count": 11,
     "metadata": {},
     "output_type": "execute_result"
    }
   ],
   "source": [
    "[n.name for n in tf.get_default_graph().as_graph_def().node]\n"
   ]
  },
  {
   "cell_type": "code",
   "execution_count": 43,
   "metadata": {},
   "outputs": [
    {
     "name": "stdout",
     "output_type": "stream",
     "text": [
      "[[-0.24886423  0.32875472  0.78403926  0.31022385 -0.08955738 -0.2387976\n",
      "   0.1099491  -1.          0.955397    0.06148118 -0.3927346   0.9998962\n",
      "  -0.7832995  -0.2448097   0.06613222  0.12416882 -0.907323    0.3785977\n",
      "   0.11073031  0.1624959  -0.6125419  -0.54658186 -0.47409666  0.33459553\n",
      "  -0.1599297  -0.07685284  0.09279587 -0.40204054  0.24354106 -0.75412846\n",
      "   0.4073003  -0.7056438 ]]\n"
     ]
    }
   ],
   "source": [
    "with tf.Session() as sess:\n",
    "    sess.run(init)\n",
    "    feed={x:data_x[1:1+1],\n",
    "                  state_in:data_state,\n",
    "                    y:data_y[1:1+1]\n",
    "                   }\n",
    "    Testa,Testb,Testc =sess.run([h,state_out,state_h],feed_dict=feed)\n",
    "    print(Testa)"
   ]
  },
  {
   "cell_type": "code",
   "execution_count": 37,
   "metadata": {},
   "outputs": [
    {
     "data": {
      "text/plain": [
       "array([[-0.26087013, -0.07923192,  0.10833303, -0.08073159,  0.02192846,\n",
       "        -0.09816513, -0.00919417, -0.16754107, -0.270551  , -0.14367388,\n",
       "         0.22230028,  0.35295212, -0.39103547, -0.3484728 , -0.33515686,\n",
       "        -0.0527762 , -0.5351516 ,  0.16447161,  0.07066188,  0.07050962,\n",
       "        -0.19926658, -0.24653296, -0.21245113, -0.0577476 ,  0.11635146,\n",
       "        -0.01639744, -0.14043774,  0.01351559,  0.17662126, -0.24192184,\n",
       "         0.21953566, -0.4643797 , -0.61122173, -0.16257624,  0.19756094,\n",
       "        -0.16770077,  0.04535002, -0.22916265, -0.02111781, -0.28886867,\n",
       "        -0.50992864, -0.25801837,  0.41478688,  0.71809804, -0.80333924,\n",
       "        -0.6750596 , -0.8355486 , -0.12525035, -1.3608888 ,  0.48752967,\n",
       "         0.15277374,  0.1669693 , -0.46396255, -0.6256493 , -0.54297155,\n",
       "        -0.12714136,  0.2301707 , -0.04148962, -0.342102  ,  0.02770735,\n",
       "         0.40544727, -0.491386  ,  0.4701867 , -1.0919001 ]],\n",
       "      dtype=float32)"
      ]
     },
     "execution_count": 37,
     "metadata": {},
     "output_type": "execute_result"
    }
   ],
   "source": [
    "Testb"
   ]
  },
  {
   "cell_type": "code",
   "execution_count": 35,
   "metadata": {},
   "outputs": [
    {
     "data": {
      "text/plain": [
       "array([[-0.0503917 , -0.09018501, -0.10317633, -0.07002152,  0.07048383,\n",
       "         0.20034751,  0.03185269,  0.14860214,  0.00930676,  0.20367874,\n",
       "        -0.02039749, -0.05157167,  0.2922875 ,  0.10555371,  0.02545188,\n",
       "        -0.03003182, -0.19478583, -0.07915115, -0.18803139,  0.27225205,\n",
       "        -0.04037363, -0.22213322,  0.15193217, -0.1770821 ,  0.17975444,\n",
       "         0.17992312, -0.07199208, -0.24020289, -0.12940721, -0.21287514,\n",
       "        -0.33252025,  0.08783754, -0.08330618, -0.17894925,  0.15183564,\n",
       "         0.17498413,  0.13799916, -0.04276556, -0.25003728,  0.0306367 ,\n",
       "        -0.08955789,  0.17244901, -0.16065481,  0.07809982,  0.10101651,\n",
       "        -0.13242991,  0.19582762, -0.19676921,  0.11630262,  0.24266164,\n",
       "        -0.0814794 ,  0.08935064,  0.08448912, -0.04943654,  0.13372892,\n",
       "        -0.23600054,  0.23739482, -0.11731467, -0.07949226,  0.19738239,\n",
       "        -0.06473543,  0.2566641 , -0.33080667,  0.16484594,  0.16337974,\n",
       "         0.15103786,  0.04341464,  0.08513369,  0.05447393, -0.06185462,\n",
       "        -0.00613195, -0.01402664,  0.29753467,  0.06418185, -0.19246884,\n",
       "         0.01652212,  0.10630776,  0.09311333,  0.11082942,  0.03129711,\n",
       "         0.083351  , -0.30193615,  0.02188042,  0.12134054, -0.04890072,\n",
       "         0.27253792,  0.22598393,  0.11419769, -0.09545321, -0.09932263,\n",
       "         0.19542724,  0.05326778, -0.01230352, -0.04307578, -0.2746037 ,\n",
       "        -0.06378996,  0.14691405, -0.06332627,  0.1288648 , -0.08007813,\n",
       "         0.00837853,  0.05614199, -0.24372016,  0.03416761, -0.10304493,\n",
       "        -0.13756344,  0.08522289,  0.07876415, -0.14576776, -0.1591403 ,\n",
       "         0.06569624,  0.06455131, -0.08929744,  0.1683279 ,  0.2107926 ,\n",
       "        -0.09314834,  0.09001601,  0.10791507, -0.07464422,  0.13549936,\n",
       "         0.01582908, -0.17571124, -0.08269264, -0.04517193,  0.01789864,\n",
       "         0.21687332, -0.12832116,  0.0735702 ],\n",
       "       [-0.22590013, -0.08844223,  0.06429048,  0.17536329,  0.10676789,\n",
       "        -0.11224057,  0.16551955,  0.1938963 , -0.21421365, -0.14478032,\n",
       "         0.25154886,  0.03621752, -0.3258883 ,  0.12166321,  0.05148561,\n",
       "         0.08757009,  0.07897988,  0.07529889, -0.14754638,  0.01255301,\n",
       "         0.16852283, -0.07132989, -0.23259598,  0.17487608, -0.16401118,\n",
       "         0.15956956, -0.11759657,  0.2691585 ,  0.01861467, -0.29484168,\n",
       "         0.11111619,  0.03916943, -0.25006035,  0.09843557, -0.307358  ,\n",
       "         0.35462195,  0.15069795, -0.04395539,  0.06397662, -0.08954398,\n",
       "        -0.16002859,  0.16963007, -0.04379404,  0.0641928 , -0.1081885 ,\n",
       "         0.00818653,  0.04860803, -0.1742238 , -0.08372428, -0.12720813,\n",
       "        -0.12904371, -0.18237598,  0.05000688, -0.1147292 , -0.15717632,\n",
       "        -0.0533625 , -0.29217857,  0.17641684,  0.12757033, -0.00053227,\n",
       "         0.07584445, -0.09072871, -0.14753947, -0.05530683,  0.2746811 ,\n",
       "        -0.06025131, -0.07692037, -0.3831167 ,  0.02687857,  0.07622802,\n",
       "         0.08272896,  0.0214898 ,  0.15642098, -0.11013469, -0.2367774 ,\n",
       "        -0.02415103, -0.2372797 ,  0.04508017,  0.07775651,  0.07416333,\n",
       "         0.05823341, -0.08098159,  0.03322274, -0.12834108,  0.09444024,\n",
       "         0.01872565,  0.2533626 , -0.03230722, -0.08225174, -0.13286321,\n",
       "        -0.08454178, -0.20330007, -0.3179336 ,  0.11332646,  0.03320267,\n",
       "        -0.03099671,  0.03009706, -0.04162197, -0.16170119, -0.03298062,\n",
       "         0.0948218 , -0.17466523,  0.09176946,  0.01405904,  0.02631795,\n",
       "        -0.22218162,  0.01060965,  0.07414223, -0.20038827,  0.0267165 ,\n",
       "        -0.02534873, -0.24482031, -0.12224247,  0.04724711,  0.07634742,\n",
       "         0.10058501,  0.16525479,  0.03227081,  0.03090417,  0.17112395,\n",
       "         0.048788  ,  0.19078256,  0.07311992,  0.27254108, -0.04800064,\n",
       "         0.05693859, -0.00100718,  0.01558987],\n",
       "       [-0.26455644, -0.05323459, -0.34656942,  0.08516956, -0.24772039,\n",
       "         0.11921896,  0.28042853, -0.13713741, -0.34094903, -0.05130744,\n",
       "         0.03038093, -0.2677729 , -0.07050436, -0.06538012,  0.24865349,\n",
       "         0.04822193, -0.24368611, -0.02480161, -0.00439253, -0.26657316,\n",
       "         0.26141816,  0.23349635,  0.10771509, -0.12196384, -0.18742195,\n",
       "        -0.06139405, -0.06282111, -0.2603741 ,  0.07327036, -0.05851902,\n",
       "         0.21303195, -0.10513666, -0.13948393, -0.09051676,  0.1623683 ,\n",
       "         0.01564636, -0.24873374, -0.15903991,  0.21058615, -0.01996829,\n",
       "        -0.24624708, -0.32905737, -0.17202833, -0.3646507 ,  0.14528842,\n",
       "        -0.04406735,  0.08600036, -0.15990555,  0.2627431 , -0.24365442,\n",
       "         0.11023632,  0.22913255,  0.1558889 ,  0.00619129, -0.12025087,\n",
       "        -0.01097542, -0.06235079, -0.29929844, -0.39217082, -0.05159894,\n",
       "         0.1990247 ,  0.04604813,  0.01713781,  0.03506705,  0.2729882 ,\n",
       "         0.22476657,  0.11462524,  0.08663779,  0.14318123, -0.22458945,\n",
       "         0.09226895,  0.04244044,  0.08679111, -0.04058819, -0.08248167,\n",
       "         0.11282873,  0.03457158,  0.02841936,  0.15924223, -0.03044853,\n",
       "        -0.04331911, -0.01036069,  0.03343745, -0.27172017,  0.25005853,\n",
       "        -0.14149702, -0.11453225, -0.05556515,  0.14194451, -0.12296493,\n",
       "         0.15785651,  0.08931453, -0.09815424, -0.05333896,  0.19139148,\n",
       "        -0.08366345, -0.076538  , -0.2862995 ,  0.25661966, -0.21095009,\n",
       "        -0.260496  ,  0.04864914,  0.24348177, -0.17865263, -0.07173239,\n",
       "        -0.18911536,  0.14615066, -0.36536086, -0.13583885, -0.19691674,\n",
       "         0.1790855 ,  0.32437384, -0.00124844,  0.00504012, -0.04898984,\n",
       "         0.26463398,  0.02615215, -0.05594924, -0.14729081, -0.23283689,\n",
       "        -0.06433292, -0.13291094,  0.15390031, -0.1921874 , -0.17993575,\n",
       "        -0.0623581 , -0.2408097 , -0.3055176 ]], dtype=float32)"
      ]
     },
     "execution_count": 35,
     "metadata": {},
     "output_type": "execute_result"
    }
   ],
   "source": [
    "weights[0]"
   ]
  },
  {
   "cell_type": "code",
   "execution_count": 24,
   "metadata": {},
   "outputs": [],
   "source": [
    "aa=tf.constant([1, 2, 3, 4, 5, 6, 7,8])\n",
    "bb,cc = tf.split(aa,2,0)"
   ]
  },
  {
   "cell_type": "code",
   "execution_count": 25,
   "metadata": {},
   "outputs": [],
   "source": [
    "with tf.Session() as sess:\n",
    "    a,b,c=sess.run([aa,bb,cc])\n",
    "    "
   ]
  },
  {
   "cell_type": "code",
   "execution_count": 28,
   "metadata": {},
   "outputs": [
    {
     "name": "stdout",
     "output_type": "stream",
     "text": [
      "[5 6 7 8]\n"
     ]
    }
   ],
   "source": [
    "print(c)"
   ]
  },
  {
   "cell_type": "code",
   "execution_count": 4,
   "metadata": {},
   "outputs": [
    {
     "ename": "AttributeError",
     "evalue": "module 'tensorflow' has no attribute '__version__'",
     "output_type": "error",
     "traceback": [
      "\u001b[1;31m---------------------------------------------------------------------------\u001b[0m",
      "\u001b[1;31mAttributeError\u001b[0m                            Traceback (most recent call last)",
      "\u001b[1;32m<ipython-input-4-65f07e81e169>\u001b[0m in \u001b[0;36m<module>\u001b[1;34m\u001b[0m\n\u001b[1;32m----> 1\u001b[1;33m \u001b[0mprint\u001b[0m\u001b[1;33m(\u001b[0m\u001b[0mtf\u001b[0m\u001b[1;33m.\u001b[0m\u001b[0m__version__\u001b[0m\u001b[1;33m)\u001b[0m\u001b[1;33m\u001b[0m\u001b[1;33m\u001b[0m\u001b[0m\n\u001b[0m",
      "\u001b[1;31mAttributeError\u001b[0m: module 'tensorflow' has no attribute '__version__'"
     ]
    }
   ],
   "source": [
    "print(tf.__version__)"
   ]
  }
 ],
 "metadata": {
  "kernelspec": {
   "display_name": "Python 3",
   "language": "python",
   "name": "python3"
  },
  "language_info": {
   "codemirror_mode": {
    "name": "ipython",
    "version": 3
   },
   "file_extension": ".py",
   "mimetype": "text/x-python",
   "name": "python",
   "nbconvert_exporter": "python",
   "pygments_lexer": "ipython3",
   "version": "3.6.8"
  }
 },
 "nbformat": 4,
 "nbformat_minor": 2
}
