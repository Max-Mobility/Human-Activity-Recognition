{
 "cells": [
  {
   "cell_type": "code",
   "execution_count": 6,
   "metadata": {},
   "outputs": [],
   "source": [
    "import keras\n",
    "from keras.layers import Input, Conv1D,Activation,MaxPooling1D,Dense,Flatten,UpSampling1D,LSTM,RepeatVector\n",
    "from keras.layers.normalization import BatchNormalization\n",
    "from keras.models import Model,load_model\n",
    "import tensorflow as tf\n",
    "import numpy as np\n",
    "from matplotlib.pyplot import plot\n",
    "import matplotlib.pyplot as plt"
   ]
  },
  {
   "cell_type": "code",
   "execution_count": 11,
   "metadata": {},
   "outputs": [],
   "source": [
    "def build_model(channel=12,sensors=1,multi=1):\n",
    "    \n",
    "    inputs = Input(shape=(128, channel))\n",
    "    x0=Conv1D(filters =8*sensors*multi, kernel_size=5,strides = 2, padding = 'same')(inputs)\n",
    "    \n",
    "    x1=LSTM(768, activation='relu')(x0)\n",
    "    \n",
    "    x2=RepeatVector(64)(x1)\n",
    "    \n",
    "    x3=LSTM(768, activation='relu', return_sequences=True)(x2)\n",
    "    x4 = UpSampling1D(2)(x3)\n",
    "    x5=Conv1D(filters=channel,kernel_size=5,strides=1,padding = 'same')(x4)\n",
    "        \n",
    "    model = Model(inputs=inputs, outputs=x5)\n",
    "    return model\n"
   ]
  },
  {
   "cell_type": "code",
   "execution_count": 16,
   "metadata": {},
   "outputs": [],
   "source": [
    "def build_model(channel=12,sensors=4,multi=3):\n",
    "    \n",
    "    inputs = Input(shape=(128, channel))\n",
    "    x0=Conv1D(filters =8*sensors*multi, kernel_size=5,strides = 1, padding = 'same')(inputs)\n",
    "    x0     = BatchNormalization()(x0) \n",
    "    x0     = Activation('relu')(x0)\n",
    "    x0     = MaxPooling1D(pool_size=3,strides = 2,padding='same')(x0)\n",
    "    \n",
    "    x0     = Conv1D(filters =12*sensors*multi, kernel_size=3,strides = 1, padding = 'same')(x0)\n",
    "    x0     = BatchNormalization()(x0) \n",
    "    x0     = Activation('relu')(x0)\n",
    "    x0     = MaxPooling1D(pool_size=2,strides = 2,padding='same')(x0)\n",
    "    \n",
    "    x1=LSTM(768, activation='relu')(x0)\n",
    "    \n",
    "    x2=RepeatVector(32)(x1)\n",
    "    \n",
    "    x3=LSTM(768, activation='relu', return_sequences=True)(x2)\n",
    "        \n",
    "    x4 = UpSampling1D(2)(x3)\n",
    "    x5     = Conv1D(filters =8*sensors*multi, kernel_size=3,strides = 1, padding = 'same')(x4)\n",
    "    x5     = BatchNormalization()(x5) \n",
    "    x5     = Activation('relu')(x5)\n",
    "    x5     = UpSampling1D(2)(x5)\n",
    "    \n",
    "    x6=Conv1D(filters=channel,kernel_size=5,strides=1,padding = 'same')(x5)\n",
    "        \n",
    "    model = Model(inputs=inputs, outputs=x6)\n",
    "    return model"
   ]
  },
  {
   "cell_type": "code",
   "execution_count": 17,
   "metadata": {},
   "outputs": [
    {
     "name": "stdout",
     "output_type": "stream",
     "text": [
      "_________________________________________________________________\n",
      "Layer (type)                 Output Shape              Param #   \n",
      "=================================================================\n",
      "input_9 (InputLayer)         (None, 128, 12)           0         \n",
      "_________________________________________________________________\n",
      "conv1d_19 (Conv1D)           (None, 128, 96)           5856      \n",
      "_________________________________________________________________\n",
      "batch_normalization_7 (Batch (None, 128, 96)           384       \n",
      "_________________________________________________________________\n",
      "activation_7 (Activation)    (None, 128, 96)           0         \n",
      "_________________________________________________________________\n",
      "max_pooling1d_5 (MaxPooling1 (None, 64, 96)            0         \n",
      "_________________________________________________________________\n",
      "conv1d_20 (Conv1D)           (None, 64, 144)           41616     \n",
      "_________________________________________________________________\n",
      "batch_normalization_8 (Batch (None, 64, 144)           576       \n",
      "_________________________________________________________________\n",
      "activation_8 (Activation)    (None, 64, 144)           0         \n",
      "_________________________________________________________________\n",
      "max_pooling1d_6 (MaxPooling1 (None, 32, 144)           0         \n",
      "_________________________________________________________________\n",
      "lstm_14 (LSTM)               (None, 768)               2804736   \n",
      "_________________________________________________________________\n",
      "repeat_vector_7 (RepeatVecto (None, 32, 768)           0         \n",
      "_________________________________________________________________\n",
      "lstm_15 (LSTM)               (None, 32, 768)           4721664   \n",
      "_________________________________________________________________\n",
      "up_sampling1d_8 (UpSampling1 (None, 64, 768)           0         \n",
      "_________________________________________________________________\n",
      "conv1d_21 (Conv1D)           (None, 64, 96)            221280    \n",
      "_________________________________________________________________\n",
      "batch_normalization_9 (Batch (None, 64, 96)            384       \n",
      "_________________________________________________________________\n",
      "activation_9 (Activation)    (None, 64, 96)            0         \n",
      "_________________________________________________________________\n",
      "up_sampling1d_9 (UpSampling1 (None, 128, 96)           0         \n",
      "_________________________________________________________________\n",
      "conv1d_22 (Conv1D)           (None, 128, 12)           5772      \n",
      "=================================================================\n",
      "Total params: 7,802,268\n",
      "Trainable params: 7,801,596\n",
      "Non-trainable params: 672\n",
      "_________________________________________________________________\n"
     ]
    }
   ],
   "source": [
    "myModel=build_model(sensors=4)\n",
    "myModel.summary()"
   ]
  },
  {
   "cell_type": "code",
   "execution_count": 18,
   "metadata": {},
   "outputs": [],
   "source": [
    "data=np.load('watch.npy')"
   ]
  },
  {
   "cell_type": "code",
   "execution_count": 21,
   "metadata": {},
   "outputs": [],
   "source": [
    "np.savetxt(\"watch.csv\", data[:,0,:], delimiter=\",\")"
   ]
  }
 ],
 "metadata": {
  "kernelspec": {
   "display_name": "Python 3",
   "language": "python",
   "name": "python3"
  },
  "language_info": {
   "codemirror_mode": {
    "name": "ipython",
    "version": 3
   },
   "file_extension": ".py",
   "mimetype": "text/x-python",
   "name": "python",
   "nbconvert_exporter": "python",
   "pygments_lexer": "ipython3",
   "version": "3.6.8"
  }
 },
 "nbformat": 4,
 "nbformat_minor": 2
}
