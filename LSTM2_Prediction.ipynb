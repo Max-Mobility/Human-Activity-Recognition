{
 "cells": [
  {
   "cell_type": "code",
   "execution_count": 9,
   "metadata": {},
   "outputs": [],
   "source": [
    "import tensorflow as tf\n",
    "import keras\n",
    "import numpy as np"
   ]
  },
  {
   "cell_type": "code",
   "execution_count": 10,
   "metadata": {},
   "outputs": [],
   "source": [
    "Datax = np.loadtxt('PSDSData (17_20)_raw.csv',delimiter=',')\n",
    "Datax = Datax[:,3:9].reshape(Datax.shape[0],1,6)"
   ]
  },
  {
   "cell_type": "code",
   "execution_count": 11,
   "metadata": {},
   "outputs": [
    {
     "data": {
      "text/plain": [
       "(135131,)"
      ]
     },
     "execution_count": 11,
     "metadata": {},
     "output_type": "execute_result"
    }
   ],
   "source": [
    "prediction = np.zeros(len(Datax))\n",
    "prediction.shape"
   ]
  },
  {
   "cell_type": "code",
   "execution_count": 70,
   "metadata": {},
   "outputs": [
    {
     "name": "stdout",
     "output_type": "stream",
     "text": [
      "135131/135131 [==============================] - 65s 484us/step\n"
     ]
    }
   ],
   "source": [
    "i = 291\n",
    "lstm_model = keras.models.load_model('./models/25hz/Keras_model/keras_LSTM'+str(64)+'_i'+str(i)+'.hdf5')\n",
    "\n",
    "predict = lstm_model.predict(Datax,batch_size=1,verbose=1)\n",
    "    \n",
    "\n",
    "np.savetxt(\"LSTM2_model_\"+str(i)+\"_prediction.csv\",predict)"
   ]
  },
  {
   "cell_type": "code",
   "execution_count": 46,
   "metadata": {},
   "outputs": [],
   "source": [
    "weights=lstm_model.get_weights()"
   ]
  },
  {
   "cell_type": "code",
   "execution_count": 65,
   "metadata": {},
   "outputs": [],
   "source": [
    "np.save(\"LSTM_model_weight_99.npz\",weights)"
   ]
  },
  {
   "cell_type": "code",
   "execution_count": 67,
   "metadata": {},
   "outputs": [
    {
     "name": "stdout",
     "output_type": "stream",
     "text": [
      "_________________________________________________________________\n",
      "Layer (type)                 Output Shape              Param #   \n",
      "=================================================================\n",
      "lstm_16 (LSTM)               (1, 64)                   18176     \n",
      "_________________________________________________________________\n",
      "dense_31 (Dense)             (1, 16)                   1040      \n",
      "_________________________________________________________________\n",
      "dense_32 (Dense)             (1, 1)                    17        \n",
      "=================================================================\n",
      "Total params: 19,233\n",
      "Trainable params: 19,233\n",
      "Non-trainable params: 0\n",
      "_________________________________________________________________\n"
     ]
    }
   ],
   "source": [
    "lstm_model.summary()"
   ]
  }
 ],
 "metadata": {
  "kernelspec": {
   "display_name": "Python 3",
   "language": "python",
   "name": "python3"
  },
  "language_info": {
   "codemirror_mode": {
    "name": "ipython",
    "version": 3
   },
   "file_extension": ".py",
   "mimetype": "text/x-python",
   "name": "python",
   "nbconvert_exporter": "python",
   "pygments_lexer": "ipython3",
   "version": "3.6.8"
  }
 },
 "nbformat": 4,
 "nbformat_minor": 2
}
