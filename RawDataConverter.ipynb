{
 "cells": [
  {
   "cell_type": "code",
   "execution_count": 15,
   "metadata": {},
   "outputs": [
    {
     "name": "stdout",
     "output_type": "stream",
     "text": [
      "maxGyro: 16.129043579101562  minGyro: -13.754364013671875 range: 29.883407592773438\n",
      "maxLin: 30.75705337524414  minLin: -23.534732818603516 range: 54.291786193847656\n",
      "maxGrav: 9.80533218383789  minGrav: -9.803351402282715 range: 19.608683586120605\n",
      "maxGame: 0.9864153861999512  minGame: -0.9937034249305725 range: 1.9801188111305237\n",
      "counter: 1747\n",
      "unvalid:920\n",
      "maxGyro: 14.478485107421875  minGyro: -10.4471435546875 range: 24.925628662109375\n",
      "maxLin: 19.994844436645508  minLin: -13.428689002990723 range: 33.42353343963623\n",
      "maxGrav: 9.660650253295898  minGrav: -9.767040252685547 range: 19.427690505981445\n",
      "maxGame: 0.9909073710441589  minGame: -0.9891846776008606 range: 1.9800920486450195\n",
      "counter: 1061\n",
      "unvalid:254\n",
      "maxGyro: 13.352066040039062  minGyro: -10.507003784179688 range: 23.85906982421875\n",
      "maxLin: 38.63266372680664  minLin: -26.882694244384766 range: 65.5153579711914\n",
      "maxGrav: 9.801264762878418  minGrav: -9.313580513000488 range: 19.114845275878906\n",
      "maxGame: 0.8322150707244873  minGame: -0.9982373118400574 range: 1.8304523825645447\n",
      "counter: 1025\n",
      "unvalid:609\n",
      "maxGyro: 10.933029174804688  minGyro: -9.888809204101562 range: 20.82183837890625\n",
      "maxLin: 40.798160552978516  minLin: -31.12057876586914 range: 71.91873931884766\n",
      "maxGrav: 9.762398719787598  minGrav: -9.37795352935791 range: 19.140352249145508\n",
      "maxGame: 0.8242365717887878  minGame: -0.9253066182136536 range: 1.7495431900024414\n",
      "counter: 582\n",
      "unvalid:550\n",
      "maxGyro: 13.332504272460938  minGyro: -11.789825439453125 range: 25.122329711914062\n",
      "maxLin: 39.91865539550781  minLin: -15.850444793701172 range: 55.769100189208984\n",
      "maxGrav: 9.806628227233887  minGrav: -9.795539855957031 range: 19.602168083190918\n",
      "maxGame: 0.8669030070304871  minGame: -0.8707365989685059 range: 1.737639605998993\n",
      "counter: 1205\n",
      "unvalid:635\n",
      "maxGyro: 9.619674682617188  minGyro: -7.7691192626953125 range: 17.3887939453125\n",
      "maxLin: 15.956417083740234  minLin: -12.488357543945312 range: 28.444774627685547\n",
      "maxGrav: 9.800761222839355  minGrav: -8.797658920288086 range: 18.59842014312744\n",
      "maxGame: 0.9851502776145935  minGame: -0.6807857155799866 range: 1.66593599319458\n",
      "counter: 1356\n",
      "unvalid:487\n",
      "maxGyro: 13.925048828125  minGyro: -11.568695068359375 range: 25.493743896484375\n",
      "maxLin: 27.1578311920166  minLin: -16.712749481201172 range: 43.87058067321777\n",
      "maxGrav: 9.76739501953125  minGrav: -9.79648494720459 range: 19.56387996673584\n",
      "maxGame: 0.615554928779602  minGame: -0.7960731983184814 range: 1.4116281270980835\n",
      "counter: 1702\n",
      "unvalid:381\n",
      "maxGyro: 11.476715087890625  minGyro: -10.103836059570312 range: 21.580551147460938\n",
      "maxLin: 21.22257423400879  minLin: -22.12275505065918 range: 43.34532928466797\n",
      "maxGrav: 9.796844482421875  minGrav: -9.579469680786133 range: 19.376314163208008\n",
      "maxGame: 0.9340971112251282  minGame: -0.892554521560669 range: 1.8266516327857971\n",
      "counter: 788\n",
      "unvalid:169\n",
      "maxGyro: 11.893325805664062  minGyro: -11.324325561523438 range: 23.2176513671875\n",
      "maxLin: 20.95838737487793  minLin: -22.08004379272461 range: 43.03843116760254\n",
      "maxGrav: 9.79997444152832  minGrav: -9.802404403686523 range: 19.602378845214844\n",
      "maxGame: 0.9680060744285583  minGame: -0.9469963908195496 range: 1.915002465248108\n",
      "counter: 1523\n",
      "unvalid:730\n",
      "maxGyro: 10.36004638671875  minGyro: -8.34210205078125 range: 18.7021484375\n",
      "maxLin: 11.101665496826172  minLin: -20.521406173706055 range: 31.623071670532227\n",
      "maxGrav: 9.78215217590332  minGrav: -9.1400146484375 range: 18.92216682434082\n",
      "maxGame: 0.9371174573898315  minGame: -0.8719660043716431 range: 1.8090834617614746\n",
      "counter: 207\n",
      "unvalid:185\n"
     ]
    }
   ],
   "source": [
    "import json\n",
    "import numpy as np\n",
    "\n",
    "with open(r'C:\\Users\\Guo\\Downloads\\WatchData (1).json') as w:\n",
    "    data = json.load(w)\n",
    "\n",
    "DATA=np.empty((0,128,26))\n",
    "\n",
    "for dat in data:\n",
    "    gyro_x=[]\n",
    "    gyro_y=[]\n",
    "    gyro_z=[]\n",
    "    gyro_time=[]\n",
    "    lin_x=[]\n",
    "    lin_y=[]\n",
    "    lin_z=[]\n",
    "    lin_time=[]\n",
    "    game_x=[]\n",
    "    game_y=[]\n",
    "    game_z=[]\n",
    "    game_cos=[]\n",
    "    game_time=[]\n",
    "    grav_x=[]\n",
    "    grav_y=[]\n",
    "    grav_z=[]\n",
    "    grav_time=[]\n",
    "    \n",
    "    sdata=dat['sensor_data']\n",
    "    n=len(sdata)\n",
    "    \n",
    "    for i in range(0,n,1):\n",
    "        if sdata[i]['sensor'] == 'GYROSCOPE':\n",
    "            x=sdata[i]['data']['x']\n",
    "            y=sdata[i]['data']['y']\n",
    "            z=sdata[i]['data']['z']\n",
    "            time=sdata[i]['timestamp']\n",
    "\n",
    "            gyro_x.append(x)\n",
    "            gyro_y.append(y)\n",
    "            gyro_z.append(z)\n",
    "            gyro_time.append(time)\n",
    "        if sdata[i]['sensor'] == 'LINEAR_ACCELERATION':\n",
    "            x=sdata[i]['data']['x']\n",
    "            y=sdata[i]['data']['y']\n",
    "            z=sdata[i]['data']['z']\n",
    "            time=sdata[i]['timestamp']\n",
    "\n",
    "            lin_x.append(x)\n",
    "            lin_y.append(y)\n",
    "            lin_z.append(z)\n",
    "            lin_time.append(time)\n",
    "        if sdata[i]['sensor'] == 'GRAVITY':\n",
    "            x=sdata[i]['data']['x']\n",
    "            y=sdata[i]['data']['y']\n",
    "            z=sdata[i]['data']['z']\n",
    "            time=sdata[i]['timestamp']\n",
    "\n",
    "            grav_x.append(x)\n",
    "            grav_y.append(y)\n",
    "            grav_z.append(z)\n",
    "            grav_time.append(time)\n",
    "        if sdata[i]['sensor'] == 'GAME_ROTATION_VECTOR':\n",
    "            x=sdata[i]['data']['x']\n",
    "            y=sdata[i]['data']['y']\n",
    "            z=sdata[i]['data']['z']\n",
    "            cos=sdata[i]['data']['cos']\n",
    "            time=sdata[i]['timestamp']\n",
    "\n",
    "            game_x.append(x)\n",
    "            game_y.append(y)\n",
    "            game_z.append(z)\n",
    "            game_cos.append(cos)\n",
    "            game_time.append(time)\n",
    "    \n",
    "    maxGyro=max(max(gyro_x),max(gyro_y),max(gyro_z))\n",
    "    minGyro=min(min(gyro_x),min(gyro_y),min(gyro_z))\n",
    "    print('maxGyro: '+str(maxGyro)+'  minGyro: '+str(minGyro)+ ' range: '+str(maxGyro-minGyro))\n",
    "    \n",
    "    maxLin=max(max(lin_x),max(lin_y),max(lin_z))\n",
    "    minLin=min(min(lin_x),min(lin_y),min(lin_z))\n",
    "    print('maxLin: '+str(maxLin)+'  minLin: '+str(minLin)+ ' range: '+str(maxLin-minLin))\n",
    "\n",
    "    maxGrav=max(max(grav_x),max(grav_y),max(grav_z))\n",
    "    minGrav=min(min(grav_x),min(grav_y),min(grav_z))\n",
    "    print('maxGrav: '+str(maxGrav)+'  minGrav: '+str(minGrav) + ' range: '+str(maxGrav-minGrav))\n",
    "          \n",
    "    maxGame=max(max(game_x),max(game_y),max(game_z))\n",
    "    minGame=min(min(game_x),min(game_y),min(game_z))\n",
    "    print('maxGame: '+str(maxGame)+'  minGame: '+str(minGame) + ' range: '+str(maxGame-minGame))\n",
    "    \n",
    "    len_array=[len(gyro_time), len(lin_time), len(grav_time), len(game_time)]\n",
    "    length=min(len_array)\n",
    "    \n",
    "    \n",
    "    len_new=0\n",
    "    gyrox=[]\n",
    "    gyroy=[]\n",
    "    gyroz=[]\n",
    "\n",
    "    linx=[]\n",
    "    liny=[]\n",
    "    linz=[]\n",
    "\n",
    "    gravx=[]\n",
    "    gravy=[]\n",
    "    gravz=[]\n",
    "\n",
    "    gamex=[]\n",
    "    gamey=[]\n",
    "    gamez=[]\n",
    "    gamecos=[]\n",
    "    validTime=[]\n",
    "\n",
    "    for linind in range(0, length,1):\n",
    "        time=lin_time[linind]\n",
    "\n",
    "        if (time in gyro_time) & (time in grav_time) & (time in game_time):\n",
    "\n",
    "            gyroind=gyro_time.index(time)\n",
    "            gravind=grav_time.index(time)\n",
    "            gameind=game_time.index(time)\n",
    "\n",
    "            gyrox.append(gyro_x[gyroind])\n",
    "            gyroy.append(gyro_y[gyroind])\n",
    "            gyroz.append(gyro_z[gyroind])\n",
    "\n",
    "            linx.append(lin_x[linind])\n",
    "            liny.append(lin_y[linind])\n",
    "            linz.append(lin_z[linind])\n",
    "\n",
    "            gravx.append(grav_x[gravind])\n",
    "            gravy.append(grav_y[gravind])\n",
    "            gravz.append(grav_z[gravind])\n",
    "\n",
    "            gamex.append(game_x[gameind])\n",
    "            gamey.append(game_y[gameind])\n",
    "            gamez.append(game_z[gameind])\n",
    "            gamecos.append(game_cos[gameind])\n",
    "            validTime.append(time)\n",
    "\n",
    "            len_new+=1\n",
    "        #else:\n",
    "            #print(linind, time)\n",
    "    \n",
    "    X=np.zeros(shape=(len_new,13), dtype=float)\n",
    "    X[:,0]=np.asarray(gyrox[:len_new])\n",
    "    X[:,1]=np.asarray(gyroy[:len_new])\n",
    "    X[:,2]=np.asarray(gyroz[:len_new])\n",
    "    X[:,3]=np.asarray(linx[:len_new])\n",
    "    X[:,4]=np.asarray(liny[:len_new])\n",
    "    X[:,5]=np.asarray(linz[:len_new])\n",
    "    X[:,6]=np.asarray(gravx[:len_new])\n",
    "    X[:,7]=np.asarray(gravy[:len_new])\n",
    "    X[:,8]=np.asarray(gravz[:len_new])\n",
    "    X[:,9]=np.asarray(gamex[:len_new])\n",
    "    X[:,10]=np.asarray(gamey[:len_new])\n",
    "    X[:,11]=np.asarray(gamez[:len_new])\n",
    "    X[:,12]=np.asarray(gamecos[:len_new])\n",
    "\n",
    "    window=128\n",
    "    XX=np.empty(shape=(len_new-window+1, window, 26))\n",
    "    counter=0\n",
    "    uncounter=0\n",
    "\n",
    "    for i in range(0,len_new-window+1,1):\n",
    "        if(validTime[i+window-1]-validTime[i]<0.02*1000000000*130):\n",
    "            XX[counter,:, :13] = X[i : i+window, :]\n",
    "            counter+=1\n",
    "        else:\n",
    "            uncounter+=1\n",
    "    print(\"counter: \"+str(counter))\n",
    "    print(\"unvalid:\"+str(uncounter))\n",
    "\n",
    "    for j in range(0,counter,1):\n",
    "        for k in range(0,13,1):\n",
    "            fft=np.fft.fft(XX[j,:,k]-np.mean(XX[j,:,k]))\n",
    "            XX[j,:,k+13]=abs(fft)\n",
    "    DATA=np.append(DATA,XX[:counter,:,:],axis=0)\n",
    "\n",
    "np.save('./watch.npy', DATA)"
   ]
  },
  {
   "cell_type": "code",
   "execution_count": 2,
   "metadata": {},
   "outputs": [
    {
     "data": {
      "text/plain": [
       "(11196, 128, 26)"
      ]
     },
     "execution_count": 2,
     "metadata": {},
     "output_type": "execute_result"
    }
   ],
   "source": [
    "DATA.shape"
   ]
  },
  {
   "cell_type": "code",
   "execution_count": 12,
   "metadata": {},
   "outputs": [
    {
     "data": {
      "text/plain": [
       "4.477081298828125"
      ]
     },
     "execution_count": 12,
     "metadata": {},
     "output_type": "execute_result"
    }
   ],
   "source": []
  },
  {
   "cell_type": "code",
   "execution_count": 14,
   "metadata": {},
   "outputs": [
    {
     "data": {
      "text/plain": [
       "4310716565"
      ]
     },
     "execution_count": 14,
     "metadata": {},
     "output_type": "execute_result"
    }
   ],
   "source": [
    "(validTime[i+window-1]-validTime[i])"
   ]
  },
  {
   "cell_type": "code",
   "execution_count": 20,
   "metadata": {},
   "outputs": [
    {
     "data": {
      "text/plain": [
       "2600000000.0"
      ]
     },
     "execution_count": 20,
     "metadata": {},
     "output_type": "execute_result"
    }
   ],
   "source": [
    "0.02*1000000000*130"
   ]
  },
  {
   "cell_type": "code",
   "execution_count": 2,
   "metadata": {},
   "outputs": [
    {
     "data": {
      "text/plain": [
       "10"
      ]
     },
     "execution_count": 2,
     "metadata": {},
     "output_type": "execute_result"
    }
   ],
   "source": [
    "len(DATA)"
   ]
  },
  {
   "cell_type": "code",
   "execution_count": 27,
   "metadata": {},
   "outputs": [
    {
     "name": "stderr",
     "output_type": "stream",
     "text": [
      "/home/xing/.conda/envs/tf_cpu/lib/python3.6/site-packages/numpy/core/numeric.py:538: ComplexWarning: Casting complex values to real discards the imaginary part\n",
      "  return array(a, dtype, copy=False, order=order)\n"
     ]
    },
    {
     "data": {
      "text/plain": [
       "[<matplotlib.lines.Line2D at 0x7fc9802a8e48>]"
      ]
     },
     "execution_count": 27,
     "metadata": {},
     "output_type": "execute_result"
    },
    {
     "data": {
      "image/png": "[encoded data removed]",
      "text/plain": [
       "<Figure size 432x288 with 1 Axes>"
      ]
     },
     "metadata": {
      "needs_background": "light"
     },
     "output_type": "display_data"
    }
   ],
   "source": [
    "import matplotlib.pyplot as plt\n",
    "a=[1,2,3,4,5,0,0,0,0,0]\n",
    "b=np.fft.fft(a)\n",
    "plt.plot(b)"
   ]
  },
  {
   "cell_type": "code",
   "execution_count": null,
   "metadata": {},
   "outputs": [],
   "source": []
  }
 ],
 "metadata": {
  "kernelspec": {
   "display_name": "Python 3",
   "language": "python",
   "name": "python3"
  },
  "language_info": {
   "codemirror_mode": {
    "name": "ipython",
    "version": 3
   },
   "file_extension": ".py",
   "mimetype": "text/x-python",
   "name": "python",
   "nbconvert_exporter": "python",
   "pygments_lexer": "ipython3",
   "version": "3.6.8"
  }
 },
 "nbformat": 4,
 "nbformat_minor": 2
}
