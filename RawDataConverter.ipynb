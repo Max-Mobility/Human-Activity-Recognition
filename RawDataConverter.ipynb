{
 "cells": [
  {
   "cell_type": "code",
   "execution_count": 174,
   "metadata": {},
   "outputs": [],
   "source": [
    "import json\n",
    "import numpy as np\n",
    "from matplotlib.pyplot import plot\n",
    "import matplotlib.pyplot as plt\n",
    "\n",
    "def interp(xp,fp):\n",
    "    x=np.zeros(shape=(int(xp[-1]/20)+1,13), dtype=float)\n",
    "    new_time=np.arange(0,xp[-1],20)\n",
    "    for i in range(13):\n",
    "        x[:,i]=np.interp(new_time,xp,fp[:,i])\n",
    "    return new_time,x\n",
    "\n",
    "class sensorData:\n",
    "    def __init__(self,data,uuid,window=32,channel=9,frq=25):\n",
    "        self.uuid=uuid\n",
    "        self.frq  =frq\n",
    "        self.window=window\n",
    "        self.channel=channel\n",
    "        \n",
    "        self.gyro_x=[]\n",
    "        self.gyro_y=[]\n",
    "        self.gyro_z=[]\n",
    "        self.gyro_time=[]\n",
    "        self.lin_x=[]\n",
    "        self.lin_y=[]\n",
    "        self.lin_z=[]\n",
    "        self.lin_time=[]\n",
    "        self.grav_x=[]\n",
    "        self.grav_y=[]\n",
    "        self.grav_z=[]\n",
    "        self.grav_time=[]\n",
    "        self.valid=np.empty((0,9))\n",
    "        self.validTime=[]\n",
    "        self.fullData=np.empty((0,self.window,self.channel))\n",
    "        self.fullData_norm=np.empty((0,self.window,self.channel*2))\n",
    "        \n",
    "        self.get_rawData(data)\n",
    "        self.get_validData()\n",
    "        self.get_fullData()\n",
    "        self.data_len=self.fullData_norm.shape[0]\n",
    "    def get_rawData(self,data):\n",
    "        for i in range(len(data)):\n",
    "            if data[i][\"device_uuid\"]==self.uuid:\n",
    "                sdata=data[i]['sensor_data']\n",
    "                for j in reversed(range(len(sdata))):\n",
    "                    \n",
    "                    sensor = sdata[j]['s']\n",
    "                    if sensor==4 or sensor ==10 or sensor ==9:\n",
    "                        x=sdata[j]['d']['x']\n",
    "                        y=sdata[j]['d']['y']\n",
    "                        z=sdata[j]['d']['z']\n",
    "                        time=np.rint(sdata[j]['ts']/1000000)\n",
    "                    if sensor==4:\n",
    "                        self.gyro_x.append(x)\n",
    "                        self.gyro_y.append(y)\n",
    "                        self.gyro_z.append(z)\n",
    "                        self.gyro_time.append(time)\n",
    "                    if sensor==10:\n",
    "                        self.lin_x.append(x)\n",
    "                        self.lin_y.append(y)\n",
    "                        self.lin_z.append(z)\n",
    "                        self.lin_time.append(time)\n",
    "                    if sensor==9:\n",
    "                        self.grav_x.append(x)\n",
    "                        self.grav_y.append(y)\n",
    "                        self.grav_z.append(z)\n",
    "                        self.grav_time.append(time)\n",
    "       \n",
    "        print(len(self.gyro_x),len(self.lin_x),len(self.grav_x))\n",
    "        sortIndex = np.argsort(self.gyro_time)\n",
    "        self.gyro_time=[self.gyro_time[i] for i in sortIndex]\n",
    "        self.gyro_x=[self.gyro_x[i] for i in sortIndex]\n",
    "        self.gyro_y=[self.gyro_y[i] for i in sortIndex]\n",
    "        self.gyro_z=[self.gyro_z[i] for i in sortIndex]\n",
    "        \n",
    "        sortIndex = np.argsort(self.lin_time)\n",
    "        self.lin_time = [self.lin_time[i] for i in sortIndex]\n",
    "        self.lin_x = [self.lin_x[i] for i in sortIndex]\n",
    "        self.lin_y = [self.lin_y[i] for i in sortIndex]\n",
    "        self.lin_z = [self.lin_z[i] for i in sortIndex]\n",
    "        \n",
    "        sortIndex = np.argsort(self.grav_time)\n",
    "        self.grav_time = [self.grav_time[i] for i in sortIndex]\n",
    "        self.grav_x = [self.grav_x[i] for i in sortIndex]\n",
    "        self.grav_y = [self.grav_y[i] for i in sortIndex]\n",
    "        self.grav_z = [self.grav_z[i] for i in sortIndex]\n",
    "        \n",
    "        self.gyro_time,self.gyro_x,self.gyro_y,self.gyro_z=self.remove_duplicateData(self.gyro_time,self.gyro_x,self.gyro_y,self.gyro_z)\n",
    "        self.lin_time,self.lin_x,self.lin_y,self.lin_z=self.remove_duplicateData(self.lin_time,self.lin_x,self.lin_y,self.lin_z)\n",
    "        self.grav_time,self.grav_x,self.grav_y,self.grav_z=self.remove_duplicateData(self.grav_time,self.grav_x,self.grav_y,self.grav_z)\n",
    "        \n",
    "    def remove_duplicateData(self,time,x,y,z):\n",
    "        index=[]\n",
    "        for i in range(1,len(time)-1):\n",
    "            if time[i]==time[i+1]:\n",
    "                index.append(i+1)\n",
    "        index.reverse()\n",
    "        for i in range(len(index)):\n",
    "            time.pop(index[i])\n",
    "            x.pop(index[i])\n",
    "            y.pop(index[i])\n",
    "            z.pop(index[i])\n",
    "        return time,x,y,z\n",
    "        \n",
    "    def get_validData(self):\n",
    "        for i in range(len(self.lin_time)):\n",
    "            time = self.lin_time[i]\n",
    "            if (time in self.gyro_time) & (time in self.grav_time):\n",
    "                gyroIndex=self.gyro_time.index(time)\n",
    "                gravIndex=self.grav_time.index(time)\n",
    "                data=[[self.gyro_x[gyroIndex],\n",
    "                      self.gyro_y[gyroIndex],\n",
    "                      self.gyro_z[gyroIndex],\n",
    "                      self.lin_x[i],\n",
    "                      self.lin_y[i],\n",
    "                      self.lin_z[i],\n",
    "                      self.grav_x[gravIndex],\n",
    "                      self.grav_y[gravIndex],\n",
    "                      self.grav_z[gravIndex]\n",
    "                     ]]\n",
    "                self.valid=np.append(self.valid,data,axis=0)\n",
    "                self.validTime.append(time)\n",
    "        \n",
    "    def get_fullData(self):\n",
    "        window=self.window\n",
    "        channel=self.channel\n",
    "        length=len(self.validTime)\n",
    "        X=np.empty(shape=(length-window+1, window, channel))\n",
    "        counter = 0\n",
    "        unvalid_counter=0\n",
    "        for i in range(0,length-window+1):\n",
    "            if (self.validTime[i+window-1]-self.validTime[i]<window*1000/self.frq*1.1):\n",
    "                X[counter,:,:channel] = self.valid[i:i+window,:]\n",
    "                counter +=1\n",
    "            else:\n",
    "                #print(self.validTime[i+window-1]-self.validTime[i])\n",
    "                unvalid_counter+=1\n",
    "        #print(unvalid_counter)\n",
    "        self.fullData=np.append(self.fullData,X[:counter,:,:],axis=0)\n",
    "        self.fullData=self.scale(self.fullData)\n",
    "        fullDataFFT = np.zeros(self.fullData.shape)\n",
    "        for j in range(0,self.fullData.shape[0]):\n",
    "            for k in range(0,self.channel):\n",
    "                fft=np.fft.fft(self.fullData[j,:,k])\n",
    "                fullDataFFT[j,:,k]=abs(fft)\n",
    "        fullDataFFT=self.scale(fullDataFFT)\n",
    "        print(fullDataFFT.shape)\n",
    "        self.fullData_norm=np.append(self.fullData,fullDataFFT,axis=2)\n",
    "    \n",
    "    def scale(self,X):\n",
    "        channel = (X.shape)[-1]\n",
    "        for i in range(channel):\n",
    "            mean = np.mean(X[:,:,i])\n",
    "            std  = np.std(X[:,:,i])\n",
    "            X[:,:,i]=np.tanh((X[:,:,i]-mean)/std)\n",
    "\n",
    "        return X\n",
    "    \n",
    "    def save(self,url):\n",
    "        url_raw = url+'_'+str(self.uuid)+'_raw.npy'\n",
    "        np.save(url_raw,self.valid)\n",
    "        url_raw_csv = url+'_'+str(self.uuid)+'_raw.csv'\n",
    "        np.savetxt(url_raw_csv,self.valid,delimiter=\",\")\n",
    "        url_norm = url+'_'+str(self.uuid)+'_norm.npy'\n",
    "        np.save(url_norm,self.fullData_norm)\n",
    "\n",
    "\n",
    "class sensorDatas:\n",
    "    def __init__(self,data_url,window=32,channel=9):\n",
    "        with open(data_url) as w:\n",
    "            self.data = json.load(w)\n",
    "        \n",
    "        self.uuids=self.get_uuid(self.data)\n",
    "        self.sensorDatas=[]\n",
    "        self.data_len=0\n",
    "        self.fullDatas=np.empty((0,window,channel*2))\n",
    "        fileName = data_url.split('.json')[0]\n",
    "        for i in range(len(self.uuids)):\n",
    "            self.sensorDatas.append(sensorData(data=self.data,uuid=self.uuids[i]))\n",
    "            self.fullDatas=np.append(self.fullDatas,self.sensorDatas[i].fullData_norm,axis=0)\n",
    "            self.sensorDatas[i].save(fileName)\n",
    "        \n",
    "        np.save(fileName+'.npy',self.fullDatas)\n",
    "            \n",
    "        \n",
    "    def get_uuid(self,data):\n",
    "        uuid=[]\n",
    "        for i in range(len(data)):\n",
    "            if data[i]['device_uuid'] not in uuid:\n",
    "                uuid.append(data[i]['device_uuid'])\n",
    "        return uuid"
   ]
  },
  {
   "cell_type": "code",
   "execution_count": 150,
   "metadata": {},
   "outputs": [],
   "source": [
    "data_url=r'C:\\Users\\Guo\\Downloads\\WatchData (28).json'"
   ]
  },
  {
   "cell_type": "code",
   "execution_count": 175,
   "metadata": {},
   "outputs": [
    {
     "name": "stdout",
     "output_type": "stream",
     "text": [
      "27088 27100 27100\n",
      "(4487, 32, 9)\n",
      "30076 30062 30060\n",
      "(14928, 32, 9)\n"
     ]
    }
   ],
   "source": [
    "datas=sensorDatas(data_url)"
   ]
  },
  {
   "cell_type": "code",
   "execution_count": 176,
   "metadata": {},
   "outputs": [
    {
     "name": "stdout",
     "output_type": "stream",
     "text": [
      "bf7ff952e4163201\n"
     ]
    },
    {
     "data": {
      "text/plain": [
       "[<matplotlib.lines.Line2D at 0x20e2c06e898>]"
      ]
     },
     "execution_count": 176,
     "metadata": {},
     "output_type": "execute_result"
    },
    {
     "data": {
      "image/png": "[encoded data removed]",
      "text/plain": [
       "<Figure size 432x288 with 1 Axes>"
      ]
     },
     "metadata": {
      "needs_background": "light"
     },
     "output_type": "display_data"
    }
   ],
   "source": [
    "print(datas.sensorDatas[0].uuid)\n",
    "plot(datas.sensorDatas[0].validTime)"
   ]
  },
  {
   "cell_type": "code",
   "execution_count": 129,
   "metadata": {},
   "outputs": [
    {
     "data": {
      "text/plain": [
       "[<matplotlib.lines.Line2D at 0x20e3f54b518>]"
      ]
     },
     "execution_count": 129,
     "metadata": {},
     "output_type": "execute_result"
    },
    {
     "data": {
      "image/png": "[encoded data removed]",
      "text/plain": [
       "<Figure size 432x288 with 1 Axes>"
      ]
     },
     "metadata": {
      "needs_background": "light"
     },
     "output_type": "display_data"
    }
   ],
   "source": [
    "plot(datas.sensorDatas[1].validTime)"
   ]
  }
 ],
 "metadata": {
  "kernelspec": {
   "display_name": "Python 3",
   "language": "python",
   "name": "python3"
  },
  "language_info": {
   "codemirror_mode": {
    "name": "ipython",
    "version": 3
   },
   "file_extension": ".py",
   "mimetype": "text/x-python",
   "name": "python",
   "nbconvert_exporter": "python",
   "pygments_lexer": "ipython3",
   "version": "3.6.8"
  }
 },
 "nbformat": 4,
 "nbformat_minor": 2
}
