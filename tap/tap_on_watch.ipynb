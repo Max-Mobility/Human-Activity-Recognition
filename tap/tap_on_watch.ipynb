{
 "cells": [
  {
   "cell_type": "code",
   "execution_count": 1,
   "metadata": {},
   "outputs": [],
   "source": [
    "import tensorflow as tf\n",
    "#import tensorflow.nn.rnn_cell as rnn\n",
    "import numpy as np\n",
    "#import tensorflow.keras as keras\n",
    "#from tensorflow.keras.initializers import Constant\n",
    "import tensorflow.keras.backend as K\n",
    "\n",
    "\n",
    "from tqdm import tqdm\n",
    "import os"
   ]
  },
  {
   "cell_type": "code",
   "execution_count": 2,
   "metadata": {},
   "outputs": [
    {
     "data": {
      "text/plain": [
       "((6048, 9), (6048,))"
      ]
     },
     "execution_count": 2,
     "metadata": {},
     "output_type": "execute_result"
    }
   ],
   "source": [
    "#load 100hz data\n",
    "data_x=np.loadtxt('./PSDSData (24)_raw.csv',delimiter=\",\",dtype=np.float32)\n",
    "data_y=np.loadtxt('./Tap(24)_y_100Hz.csv',delimiter=\",\",dtype=np.float32)\n",
    "preY = np.loadtxt('./Tap(24)_y_100Hz.csv',delimiter=\",\",dtype=np.float32)\n",
    "#data_x=data_x[:,3:9];\n",
    "#data_y=np.zeros(len(data_x))\n",
    "#preY=data_y\n",
    "data_x.shape,data_y.shape"
   ]
  },
  {
   "cell_type": "code",
   "execution_count": 3,
   "metadata": {},
   "outputs": [
    {
     "data": {
      "text/plain": [
       "((1512, 3), (1, 128), (1512,))"
      ]
     },
     "execution_count": 3,
     "metadata": {},
     "output_type": "execute_result"
    }
   ],
   "source": [
    "#reduce from 100hz to 25hz\n",
    "new_x=np.zeros_like(data_x[0:1])\n",
    "new_y=np.zeros_like(data_y[0:1])\n",
    "for i in range(int(len(data_x)/4)):\n",
    "    temp=data_x[ i*4 : (i+1)*4 ].mean(axis=0)\n",
    "    for j in range(len(temp)):\n",
    "        if temp[j] >= 0:\n",
    "            temp[j]=data_x[ i*4 : (i+1)*4 ].max(axis=0)[j]\n",
    "        else:\n",
    "            temp[j]=data_x[ i*4 : (i+1)*4 ].min(axis=0)[j]\n",
    "    new_x=np.append(new_x,[temp],axis=0)\n",
    "    new_y=np.append(new_y,data_y[i*4:(i+1)*4].max())\n",
    "new_x=np.delete(new_x,0,axis=0)\n",
    "new_y=np.delete(new_y,0,axis=0)\n",
    "\n",
    "new_x.shape,new_y.shape\n",
    "\n",
    "input_data=new_x[:,3:6]\n",
    "x_states=np.zeros([1,128],dtype=np.float32)\n",
    "output_data=np.zeros(len(input_data))\n",
    "\n",
    "input_data.shape,x_states.shape,output_data.shape"
   ]
  },
  {
   "cell_type": "code",
   "execution_count": 4,
   "metadata": {},
   "outputs": [],
   "source": [
    "interpreter=tf.lite.Interpreter(model_path=\"tapDetectorLSTM.tflite\")\n",
    "#interpreter=tf.lite.Interpreter(model_path=\"tap_9_24.tflite\")\n",
    "interpreter.allocate_tensors()\n",
    "input_details=interpreter.get_input_details()\n",
    "output_details=interpreter.get_output_details()"
   ]
  },
  {
   "cell_type": "code",
   "execution_count": 5,
   "metadata": {},
   "outputs": [],
   "source": [
    "def updateInputHistory(input):\n",
    "    for i in range(InputHistorySize-1,0,-1):\n",
    "        inputHistory[i]=inputHistory[i-1]\n",
    "    inputHistory[0]=input\n",
    "        \n",
    "def updatePredictions(pred):\n",
    "    for i in range(PredictionHistorySize-1,0,-1):\n",
    "        predictionHistory[i]=predictionHistory[i-1]\n",
    "    predictionHistory[0]=pred\n",
    "\n",
    "def updateInputRawHistory(input1):\n",
    "    for i in range(InputRawHistorySize-1,0,-1):\n",
    "        inputRawHistory[i]=inputRawHistory[i-1]\n",
    "    inputRawHistory[0]=input1\n",
    "    \n",
    "def updateJerkHistory(input1):\n",
    "    for i in range(JerkHistorySize-1,0,-1):\n",
    "        jerkHistory[i]=jerkHistory[i-1]\n",
    "    jerkHistory[0]=input1\n",
    "\n",
    "def didTap(i,lastTap,tapGap):\n",
    "    if lastTap != -1:\n",
    "        timeDiff=i-lastTap\n",
    "        if timeDiff < TimeDiffThreshold:\n",
    "            tap=0\n",
    "            return tap,lastTap,0\n",
    "    \n",
    "    if (inputHistory[InputHistorySize-1] is None) or (predictionHistory[PredictionHistorySize-1] is None):\n",
    "        tap=0\n",
    "        return tap,lastTap,0\n",
    "    \n",
    "    #raw data max-min > jerkThreshold\n",
    "    minZ=np.array(inputRawHistory).min(axis=0)[2]\n",
    "    maxZ=np.array(inputRawHistory).max(axis=0)[2]\n",
    "    jerk=maxZ-minZ\n",
    "    \n",
    "    updateJerkHistory(jerk)\n",
    "    \n",
    "    maxJerk=np.array(jerkHistory).max()\n",
    "\n",
    "    if (maxJerk>jerkThreshold) & all(pred > predictionThreshold for pred in predictionHistory) & tapGap:\n",
    "        tap=1\n",
    "        lastTap=i\n",
    "    else:\n",
    "        tap=0\n",
    "    return tap,lastTap,jerk\n",
    "\n",
    "def verify(taps,label_taps):\n",
    "    False_positive= np.zeros_like(taps)\n",
    "    False_negtive = np.zeros_like(taps)\n",
    "    True_positive = np.zeros_like(taps)\n",
    "    window=5\n",
    "    #taps=np.append(np.zeros([1]),taps)\n",
    "    #taps=np.append(taps,np.zeros([1]))\n",
    "    #label_taps=np.append(np.zeros([1]),label_taps)\n",
    "    #label_taps=np.append(label_taps,np.zeros([1]))\n",
    "    for i in range(len(taps)):\n",
    "        if label_taps[i] ==1:\n",
    "            if taps[i-window:i+window].sum()==0:\n",
    "                False_negtive[i]=1\n",
    "            else:\n",
    "                True_positive[i]=1\n",
    "\n",
    "        if taps[i] ==1:\n",
    "            if label_taps[i-window:i+window].sum()==0:\n",
    "                False_positive[i]=1\n",
    "                #raw_buff=raw[i-4:i+1,2]# only z acc\n",
    "                #diff=abs(raw_buff.max()-raw_buff.min())\n",
    "                #print(i,raw_buff,diff)\n",
    "            \n",
    "    return [False_positive,  False_negtive ,    True_positive ]"
   ]
  },
  {
   "cell_type": "code",
   "execution_count": 10,
   "metadata": {},
   "outputs": [],
   "source": [
    "TimeDiffThreshold=5\n",
    "jerkThreshold=17.0\n",
    "predictionThreshold=0.5\n",
    "\n",
    "InputHistorySize=4\n",
    "inputHistory=[None]*InputHistorySize\n",
    "PredictionHistorySize=2\n",
    "predictionHistory=[None]*PredictionHistorySize\n",
    "output_tap=[None]*len(input_data)\n",
    "InputRawHistorySize=6\n",
    "inputRawHistory=[None]*InputRawHistorySize\n",
    "jerk=[None]*len(input_data)\n",
    "JerkHistorySize=3\n",
    "jerkHistory=np.zeros(JerkHistorySize)"
   ]
  },
  {
   "cell_type": "code",
   "execution_count": 11,
   "metadata": {},
   "outputs": [
    {
     "name": "stderr",
     "output_type": "stream",
     "text": [
      "100%|██████████| 1512/1512 [00:00<00:00, 24594.87it/s]\n"
     ]
    }
   ],
   "source": [
    "lastTap=-1\n",
    "tapGap=True\n",
    "for i in tqdm(range(len(input_data))):\n",
    "    input_x=input_data[i,:].reshape([1,3])\n",
    "    updateInputHistory(input_x)\n",
    "    for j in range(4):\n",
    "        updateInputRawHistory(data_x[i*4+j,3:6])\n",
    "    \n",
    "    interpreter.set_tensor(input_details[0]['index'],x_states)\n",
    "    interpreter.set_tensor(input_details[1]['index'],input_x)\n",
    "    interpreter.invoke()\n",
    "    \n",
    "    output_data[i]=interpreter.get_tensor(output_details[1]['index'])\n",
    "    x_states=interpreter.get_tensor(output_details[0]['index'])\n",
    "    \n",
    "    updatePredictions(output_data[i])\n",
    "     \n",
    "    output_tap[i],lastTap,jerk[i]=didTap(i,lastTap,tapGap)\n",
    "    \n",
    "    if (lastTap >-1 ) & (output_data[i]<predictionThreshold):\n",
    "        tapGap=True\n",
    "    else:\n",
    "        if lastTap==i:\n",
    "            tapGap=False"
   ]
  },
  {
   "cell_type": "code",
   "execution_count": 12,
   "metadata": {},
   "outputs": [
    {
     "data": {
      "text/plain": [
       "(2, 0, 0)"
      ]
     },
     "execution_count": 12,
     "metadata": {},
     "output_type": "execute_result"
    }
   ],
   "source": [
    "False_positive,  False_negtive ,    True_positive=verify(np.array(output_tap),new_y)\n",
    "\n",
    "False_positive.sum(),  False_negtive.sum() ,    True_positive.sum()"
   ]
  },
  {
   "cell_type": "code",
   "execution_count": 13,
   "metadata": {},
   "outputs": [],
   "source": [
    "np.savetxt('output_tap.csv',output_tap)\n",
    "\n",
    "np.savetxt('jerk.csv',jerk)\n",
    "\n",
    "np.savetxt('fp.csv',False_positive)\n",
    "\n",
    "np.savetxt('fn.csv',False_negtive)\n",
    "\n",
    "np.savetxt('tp.csv',True_positive)\n",
    "\n",
    "np.savetxt('output_data.csv',output_data)"
   ]
  },
  {
   "cell_type": "code",
   "execution_count": null,
   "metadata": {},
   "outputs": [],
   "source": [
    "def detect(predicts,raw,windows=16,threshold=0.8,raw_threshold=-10):\n",
    "     taps=np.zeros_like(predicts)\n",
    "     windows_count=0\n",
    "     buff_size=25\n",
    "     \n",
    "     for i in np.arange(buff_size,len(taps)):\n",
    "         raw_buff=raw[i-buff_size:i+1,2]# only z acc\n",
    "         #print(raw_buff.min())\n",
    "         diff=abs(raw_buff.max()-raw_buff.min())\n",
    "         buff_sum = 0\n",
    "         for x in raw_buff:\n",
    "             if x <0:\n",
    "                 buff_sum+= x*-1\n",
    "         \n",
    "         if predicts[i]>threshold and windows_count==0  and buff_sum>raw_threshold:# and diff>6:# and predicts[i-1]>threshold:\n",
    "             #print(diff)\n",
    "             taps[i]=1\n",
    "             windows_count=windows\n",
    "             #print(buff_sum)\n",
    "         else:\n",
    "             windows_count=max(windows_count-1,0)\n",
    "     return taps"
   ]
  },
  {
   "cell_type": "code",
   "execution_count": 16,
   "metadata": {},
   "outputs": [
    {
     "data": {
      "text/plain": [
       "array([0., 0., 0., 0., 0., 0., 0., 0., 0., 0.])"
      ]
     },
     "execution_count": 16,
     "metadata": {},
     "output_type": "execute_result"
    }
   ],
   "source": [
    "np.zeros(JerkHistorySize)"
   ]
  },
  {
   "cell_type": "code",
   "execution_count": 77,
   "metadata": {},
   "outputs": [
    {
     "data": {
      "text/plain": [
       "-6.614979"
      ]
     },
     "execution_count": 77,
     "metadata": {},
     "output_type": "execute_result"
    }
   ],
   "source": [
    "np.array(inputRawHistory).min(axis=0)[2]"
   ]
  },
  {
   "cell_type": "code",
   "execution_count": 78,
   "metadata": {},
   "outputs": [
    {
     "data": {
      "text/plain": [
       "38.293545"
      ]
     },
     "execution_count": 78,
     "metadata": {},
     "output_type": "execute_result"
    }
   ],
   "source": [
    "np.array(inputRawHistory).max(axis=0)[2]"
   ]
  },
  {
   "cell_type": "code",
   "execution_count": 17,
   "metadata": {},
   "outputs": [
    {
     "data": {
      "text/plain": [
       "44.908524"
      ]
     },
     "execution_count": 17,
     "metadata": {},
     "output_type": "execute_result"
    }
   ],
   "source": [
    "jerk[i]"
   ]
  },
  {
   "cell_type": "code",
   "execution_count": 85,
   "metadata": {},
   "outputs": [
    {
     "data": {
      "text/plain": [
       "29704"
      ]
     },
     "execution_count": 85,
     "metadata": {},
     "output_type": "execute_result"
    }
   ],
   "source": [
    "lastTap"
   ]
  }
 ],
 "metadata": {
  "kernelspec": {
   "display_name": "Python 3",
   "language": "python",
   "name": "python3"
  },
  "language_info": {
   "codemirror_mode": {
    "name": "ipython",
    "version": 3
   },
   "file_extension": ".py",
   "mimetype": "text/x-python",
   "name": "python",
   "nbconvert_exporter": "python",
   "pygments_lexer": "ipython3",
   "version": "3.6.9"
  }
 },
 "nbformat": 4,
 "nbformat_minor": 2
}
