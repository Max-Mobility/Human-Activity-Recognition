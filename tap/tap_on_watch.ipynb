{
 "cells": [
  {
   "cell_type": "code",
   "execution_count": 1,
   "metadata": {},
   "outputs": [],
   "source": [
    "import tensorflow as tf\n",
    "#import tensorflow.nn.rnn_cell as rnn\n",
    "import numpy as np\n",
    "#import tensorflow.keras as keras\n",
    "#from tensorflow.keras.initializers import Constant\n",
    "import tensorflow.keras.backend as K\n",
    "\n",
    "\n",
    "from tqdm import tqdm\n",
    "import os"
   ]
  },
  {
   "cell_type": "code",
   "execution_count": 2,
   "metadata": {},
   "outputs": [
    {
     "data": {
      "text/plain": [
       "((120088, 9), (120088,))"
      ]
     },
     "execution_count": 2,
     "metadata": {},
     "output_type": "execute_result"
    }
   ],
   "source": [
    "#load 100hz data\n",
    "data_x=np.loadtxt('./PSDSData (24)_raw.csv',delimiter=\",\",dtype=np.float32)\n",
    "data_y=np.loadtxt('./Tap(24)_y_100Hz.csv',delimiter=\",\",dtype=np.float32)\n",
    "preY = np.loadtxt('./Tap(24)_y_100Hz.csv',delimiter=\",\",dtype=np.float32)\n",
    "#data_x=data_x[:,3:9];\n",
    "#data_y=np.zeros(len(data_x))\n",
    "#preY=data_y\n",
    "data_x.shape,data_y.shape"
   ]
  },
  {
   "cell_type": "code",
   "execution_count": 3,
   "metadata": {},
   "outputs": [
    {
     "name": "stdout",
     "output_type": "stream",
     "text": [
      "(30022, 9) (30022,)\n"
     ]
    },
    {
     "data": {
      "text/plain": [
       "((30022, 3), (1, 128), (30022,))"
      ]
     },
     "execution_count": 3,
     "metadata": {},
     "output_type": "execute_result"
    }
   ],
   "source": [
    "#reduce from 100hz to 25hz\n",
    "new_x=np.zeros_like(data_x[0:1])\n",
    "new_y=np.zeros_like(data_y[0:1])\n",
    "for i in range(int(len(data_x)/4)):\n",
    "    temp=data_x[ i*4 : (i+1)*4 ].mean(axis=0)\n",
    "    for j in range(len(temp)):\n",
    "        if temp[j] >= 0:\n",
    "            temp[j]=data_x[ i*4 : (i+1)*4 ].max(axis=0)[j]\n",
    "        else:\n",
    "            temp[j]=data_x[ i*4 : (i+1)*4 ].min(axis=0)[j]\n",
    "    new_x=np.append(new_x,[temp],axis=0)\n",
    "    new_y=np.append(new_y,data_y[i*4:(i+1)*4].max())\n",
    "new_x=np.delete(new_x,0,axis=0)\n",
    "new_y=np.delete(new_y,0,axis=0)\n",
    "\n",
    "print(new_x.shape,new_y.shape)\n",
    "\n",
    "input_data=new_x[:,3:6]\n",
    "x_states=np.zeros([1,128],dtype=np.float32)\n",
    "output_data=np.zeros(len(input_data))\n",
    "\n",
    "input_data.shape,x_states.shape,output_data.shape"
   ]
  },
  {
   "cell_type": "code",
   "execution_count": 4,
   "metadata": {},
   "outputs": [],
   "source": [
    "interpreter=tf.lite.Interpreter(model_path=\"tapDetectorLSTM.tflite\")\n",
    "#interpreter=tf.lite.Interpreter(model_path=\"tap_9_24.tflite\")\n",
    "interpreter.allocate_tensors()\n",
    "input_details=interpreter.get_input_details()\n",
    "output_details=interpreter.get_output_details()"
   ]
  },
  {
   "cell_type": "code",
   "execution_count": 5,
   "metadata": {},
   "outputs": [],
   "source": [
    "TimeDiffThreshold=3  # TapLockoutTimeMs=100ms\n",
    "\n",
    "jerkThresholdDynamic=30.0 # no use\n",
    "jerkThresholdOnOffDiff=10.0 # no use\n",
    "\n",
    "jerkThreshold=30.0  # 17.0\n",
    "maxJerkThreshold=70.0\n",
    "minJerkThreshold=30.0\n",
    "systemVersionJerkFactor=3.5\n",
    "\n",
    "predictionThreshold=0.5\n",
    "minPredictionThreshold=0.5\n",
    "maxPredictionThreshold=1.0\n",
    "predictionThresholdOnOffDiff=0.2 # no use\n",
    "predictionThresholdDynamic=0.5 # no use\n",
    "\n",
    "InputHistorySize=4\n",
    "inputHistory=[None]*InputHistorySize\n",
    "\n",
    "PredictionHistorySize=2\n",
    "predictionHistory=[None]*PredictionHistorySize\n",
    "\n",
    "output_tap=[None]*len(input_data)\n",
    "\n",
    "InputRawHistorySize=6\n",
    "inputRawHistory=[None]*InputRawHistorySize\n",
    "\n",
    "jerk=[None]*len(input_data)\n",
    "JerkHistorySize=2\n",
    "jerkHistory=np.zeros(JerkHistorySize)"
   ]
  },
  {
   "cell_type": "code",
   "execution_count": 6,
   "metadata": {},
   "outputs": [],
   "source": [
    "def updateInputHistory(input1):\n",
    "    for i in range(InputHistorySize-1,0,-1):\n",
    "        inputHistory[i]=inputHistory[i-1]\n",
    "    inputHistory[0]=input1\n",
    "        \n",
    "def updatePredictions(pred):\n",
    "    for i in range(PredictionHistorySize-1,0,-1):\n",
    "        predictionHistory[i]=predictionHistory[i-1]\n",
    "    predictionHistory[0]=pred\n",
    "\n",
    "def updateInputRawHistory(input1):\n",
    "    for i in range(InputRawHistorySize-1,0,-1):\n",
    "        inputRawHistory[i]=inputRawHistory[i-1]\n",
    "    inputRawHistory[0]=input1\n",
    "    \n",
    "def updateJerkHistory(input1):\n",
    "    for i in range(JerkHistorySize-1,0,-1):\n",
    "        jerkHistory[i]=jerkHistory[i-1]\n",
    "    jerkHistory[0]=input1\n",
    "\n",
    "def didTap(i,lastTap,tapGap):\n",
    "    if lastTap != -1:\n",
    "        timeDiff=i-lastTap\n",
    "        if timeDiff < TimeDiffThreshold:\n",
    "            tap=0\n",
    "            return tap,lastTap,0\n",
    "    \n",
    "    if (inputHistory[InputHistorySize-1] is None) or (predictionHistory[PredictionHistorySize-1] is None):\n",
    "        tap=0\n",
    "        return tap,lastTap,0\n",
    "    \n",
    "    #raw data max-min > jerkThreshold\n",
    "    minZ=np.array(inputRawHistory).min(axis=0)[2]\n",
    "    maxZ=np.array(inputRawHistory).max(axis=0)[2]\n",
    "    jerk=maxZ-minZ\n",
    "    \n",
    "    updateJerkHistory(jerk)\n",
    "    \n",
    "    maxJerk=np.array(jerkHistory).max()\n",
    "\n",
    "    if (maxJerk>jerkThreshold) & all(pred > predictionThreshold for pred in predictionHistory) & tapGap:\n",
    "        tap=1\n",
    "        lastTap=i\n",
    "    elif(maxJerk>maxJerkThreshold)&all(pred>minPredictionThreshold for pred in predictionHistory)&tapGap:\n",
    "        tap=1\n",
    "        lastTap=i\n",
    "    else:\n",
    "        tap=0\n",
    "    \n",
    "    #print(jerk,predictionHistory[0])\n",
    "    return tap,lastTap,jerk\n",
    "\n",
    "def calJerkThresholdDynamic():\n",
    "    _maxJerk=maxJerkThreshold;\n",
    "    _minJerk=minJerkThreshold;\n",
    "    _maxPrediction=maxPredictionThreshold;\n",
    "    _minPrediction=minPredictionThreshold;\n",
    "    \n",
    "    # old system\n",
    "    if(systemUpToDate==False):\n",
    "        _maxJerk = maxJerkThreshold / systemVersionJerkFactor\n",
    "        _minJerk = minJerkThreshold / systemVersionJerkFactor\n",
    "    \n",
    "    jerkThreshold = _maxJerk - (_maxJerk - _minJerk) * scaleFactor\n",
    "    predictionThrehold = _maxPrediction - (_maxPrediction - _minPrediction) * scaleFactor\n",
    "    print(jerkThreshold,predictionThrehold)\n",
    "    \n",
    "\n",
    "def verify(taps,label_taps):\n",
    "    False_positive= np.zeros_like(taps)\n",
    "    False_negtive = np.zeros_like(taps)\n",
    "    True_positive = np.zeros_like(taps)\n",
    "    window=5\n",
    "    #taps=np.append(np.zeros([1]),taps)\n",
    "    #taps=np.append(taps,np.zeros([1]))\n",
    "    #label_taps=np.append(np.zeros([1]),label_taps)\n",
    "    #label_taps=np.append(label_taps,np.zeros([1]))\n",
    "    for i in range(len(taps)):\n",
    "        if label_taps[i] ==1:\n",
    "            if taps[i-window:i+window].sum()==0:\n",
    "                False_negtive[i]=1\n",
    "            else:\n",
    "                True_positive[i]=1\n",
    "\n",
    "        if taps[i] ==1:\n",
    "            if label_taps[i-window:i+window].sum()==0:\n",
    "                False_positive[i]=1\n",
    "                #raw_buff=raw[i-4:i+1,2]# only z acc\n",
    "                #diff=abs(raw_buff.max()-raw_buff.min())\n",
    "                #print(i,raw_buff,diff)\n",
    "            \n",
    "    return [False_positive,  False_negtive ,    True_positive ]"
   ]
  },
  {
   "cell_type": "code",
   "execution_count": 7,
   "metadata": {},
   "outputs": [
    {
     "name": "stderr",
     "output_type": "stream",
     "text": [
      "  8%|▊         | 2347/30022 [00:00<00:01, 23463.87it/s]"
     ]
    },
    {
     "name": "stdout",
     "output_type": "stream",
     "text": [
      "38.0 0.6\n"
     ]
    },
    {
     "name": "stderr",
     "output_type": "stream",
     "text": [
      "100%|██████████| 30022/30022 [00:01<00:00, 25177.39it/s]\n"
     ]
    }
   ],
   "source": [
    "lastTap=-1\n",
    "tapGap=True\n",
    "systemUpToDate=True\n",
    "scaleFactor = 0.8\n",
    "calJerkThresholdDynamic()\n",
    "\n",
    "for i in tqdm(range(len(input_data))):\n",
    "    # input_data: 25hz\n",
    "    input_x=input_data[i,:].reshape([1,3])\n",
    "    updateInputHistory(input_x)\n",
    "    for j in range(4):\n",
    "        # data_x: 100hz\n",
    "        updateInputRawHistory(data_x[i*4+j,3:6])\n",
    "    \n",
    "    interpreter.set_tensor(input_details[0]['index'],x_states)\n",
    "    interpreter.set_tensor(input_details[1]['index'],input_x)\n",
    "    interpreter.invoke()\n",
    "    \n",
    "    output_data[i]=interpreter.get_tensor(output_details[1]['index'])\n",
    "    x_states=interpreter.get_tensor(output_details[0]['index'])\n",
    "    \n",
    "    updatePredictions(output_data[i])    \n",
    "     \n",
    "    output_tap[i],lastTap,jerk[i]=didTap(i,lastTap,tapGap)\n",
    "    \n",
    "    if (lastTap > -1) & all(pred < predictionThreshold for pred in predictionHistory):\n",
    "        tapGap=True\n",
    "    elif lastTap==i:\n",
    "        tapGap=False"
   ]
  },
  {
   "cell_type": "code",
   "execution_count": 8,
   "metadata": {},
   "outputs": [
    {
     "data": {
      "text/plain": [
       "(0, 88, 847)"
      ]
     },
     "execution_count": 8,
     "metadata": {},
     "output_type": "execute_result"
    }
   ],
   "source": [
    "False_positive,  False_negtive ,    True_positive=verify(np.array(output_tap),new_y)\n",
    "\n",
    "False_positive.sum(),  False_negtive.sum() ,    True_positive.sum()"
   ]
  },
  {
   "cell_type": "code",
   "execution_count": 13,
   "metadata": {},
   "outputs": [],
   "source": [
    "np.savetxt('output_tap.csv',output_tap)\n",
    "\n",
    "np.savetxt('jerk.csv',jerk)\n",
    "\n",
    "np.savetxt('fp.csv',False_positive)\n",
    "\n",
    "np.savetxt('fn.csv',False_negtive)\n",
    "\n",
    "np.savetxt('tp.csv',True_positive)\n",
    "\n",
    "np.savetxt('output_data.csv',output_data)"
   ]
  },
  {
   "cell_type": "code",
   "execution_count": null,
   "metadata": {},
   "outputs": [],
   "source": []
  },
  {
   "cell_type": "code",
   "execution_count": null,
   "metadata": {},
   "outputs": [],
   "source": []
  },
  {
   "cell_type": "code",
   "execution_count": null,
   "metadata": {},
   "outputs": [],
   "source": []
  },
  {
   "cell_type": "code",
   "execution_count": null,
   "metadata": {},
   "outputs": [],
   "source": []
  },
  {
   "cell_type": "code",
   "execution_count": null,
   "metadata": {},
   "outputs": [],
   "source": []
  },
  {
   "cell_type": "code",
   "execution_count": null,
   "metadata": {},
   "outputs": [],
   "source": []
  },
  {
   "cell_type": "code",
   "execution_count": 10,
   "metadata": {},
   "outputs": [
    {
     "data": {
      "text/plain": [
       "41"
      ]
     },
     "execution_count": 10,
     "metadata": {},
     "output_type": "execute_result"
    }
   ],
   "source": [
    "sum(1 for i in jerk if i >60)"
   ]
  },
  {
   "cell_type": "code",
   "execution_count": 9,
   "metadata": {},
   "outputs": [
    {
     "data": {
      "text/plain": [
       "484"
      ]
     },
     "execution_count": 9,
     "metadata": {},
     "output_type": "execute_result"
    }
   ],
   "source": [
    "sum(1 for i in jerk if i >30)"
   ]
  },
  {
   "cell_type": "code",
   "execution_count": 11,
   "metadata": {},
   "outputs": [
    {
     "data": {
      "text/plain": [
       "671"
      ]
     },
     "execution_count": 11,
     "metadata": {},
     "output_type": "execute_result"
    }
   ],
   "source": [
    "sum(1 for i in jerk if i >10)"
   ]
  },
  {
   "cell_type": "code",
   "execution_count": null,
   "metadata": {},
   "outputs": [],
   "source": []
  }
 ],
 "metadata": {
  "kernelspec": {
   "display_name": "Python 3",
   "language": "python",
   "name": "python3"
  },
  "language_info": {
   "codemirror_mode": {
    "name": "ipython",
    "version": 3
   },
   "file_extension": ".py",
   "mimetype": "text/x-python",
   "name": "python",
   "nbconvert_exporter": "python",
   "pygments_lexer": "ipython3",
   "version": "3.6.9"
  }
 },
 "nbformat": 4,
 "nbformat_minor": 2
}
