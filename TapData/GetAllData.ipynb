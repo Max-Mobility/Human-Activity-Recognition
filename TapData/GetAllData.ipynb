{
 "cells": [
  {
   "cell_type": "code",
   "execution_count": 1,
   "metadata": {},
   "outputs": [],
   "source": [
    "import numpy as np\n",
    "from matplotlib.pyplot import plot\n"
   ]
  },
  {
   "cell_type": "code",
   "execution_count": 2,
   "metadata": {},
   "outputs": [],
   "source": [
    "P1=np.loadtxt(\"PSDSData (10)_762d984b56548c52_raw.csv\",delimiter=\",\")\n",
    "P2=np.loadtxt(\"PSDSData (10)_ee4c2f1426cbf203_raw.csv\",delimiter=\",\")"
   ]
  },
  {
   "cell_type": "code",
   "execution_count": 5,
   "metadata": {},
   "outputs": [],
   "source": [
    "Pdata=np.empty([0,9])\n",
    "Pdata=np.append(Pdata,P1,axis=0)\n",
    "Pdata=np.append(Pdata,P2,axis=0)"
   ]
  },
  {
   "cell_type": "code",
   "execution_count": 7,
   "metadata": {},
   "outputs": [],
   "source": [
    "np.savetxt('data_raw_100Hz.csv',Pdata,delimiter=',')"
   ]
  },
  {
   "cell_type": "code",
   "execution_count": 6,
   "metadata": {},
   "outputs": [
    {
     "data": {
      "text/plain": [
       "(512141, 9)"
      ]
     },
     "execution_count": 6,
     "metadata": {},
     "output_type": "execute_result"
    }
   ],
   "source": [
    "Pdata.shape"
   ]
  },
  {
   "cell_type": "code",
   "execution_count": null,
   "metadata": {},
   "outputs": [],
   "source": []
  },
  {
   "cell_type": "code",
   "execution_count": 3,
   "metadata": {},
   "outputs": [
    {
     "data": {
      "text/plain": [
       "(462239, 9)"
      ]
     },
     "execution_count": 3,
     "metadata": {},
     "output_type": "execute_result"
    }
   ],
   "source": [
    "P1.shape"
   ]
  },
  {
   "cell_type": "code",
   "execution_count": 4,
   "metadata": {},
   "outputs": [
    {
     "data": {
      "text/plain": [
       "(49902, 9)"
      ]
     },
     "execution_count": 4,
     "metadata": {},
     "output_type": "execute_result"
    }
   ],
   "source": [
    "P2.shape"
   ]
  },
  {
   "cell_type": "code",
   "execution_count": 5,
   "metadata": {},
   "outputs": [],
   "source": [
    "watch_39_raw = np.loadtxt('WatchData (39)_3b9d2af8cebfb9d8_raw.csv',delimiter=\",\")\n",
    "watch_39_raw = watch_39_raw [16000:,:]\n",
    "watch_36_raw = np.loadtxt('WatchData (36)_raw.csv',delimiter=\",\")\n",
    "watch_34_raw = np.loadtxt('WatchData (34)_raw.csv',delimiter=\",\")\n",
    "watch_33_raw = np.loadtxt('watch_33_raw.csv',delimiter=\",\")"
   ]
  },
  {
   "cell_type": "code",
   "execution_count": 8,
   "metadata": {},
   "outputs": [],
   "source": [
    "watch_33_y = np.loadtxt('watch_33_y.csv',delimiter=',')\n",
    "watch_34_y = np.loadtxt('watch_34_y.csv',delimiter=',')\n",
    "watch_36_y = np.loadtxt('watch_36_y.csv',delimiter=',')\n",
    "watch_39_y = np.zeros([len(watch_39_raw )])"
   ]
  },
  {
   "cell_type": "code",
   "execution_count": 7,
   "metadata": {},
   "outputs": [
    {
     "data": {
      "text/plain": [
       "(1492339, 9)"
      ]
     },
     "execution_count": 7,
     "metadata": {},
     "output_type": "execute_result"
    }
   ],
   "source": [
    "watch_39_raw = watch_39_raw [16000:,:]\n",
    "watch_39_raw.shape"
   ]
  },
  {
   "cell_type": "code",
   "execution_count": 9,
   "metadata": {},
   "outputs": [
    {
     "data": {
      "text/plain": [
       "(1492339,)"
      ]
     },
     "execution_count": 9,
     "metadata": {},
     "output_type": "execute_result"
    }
   ],
   "source": [
    "watch_39_y.shape"
   ]
  },
  {
   "cell_type": "code",
   "execution_count": 11,
   "metadata": {},
   "outputs": [
    {
     "data": {
      "text/plain": [
       "(1656856, 9)"
      ]
     },
     "execution_count": 11,
     "metadata": {},
     "output_type": "execute_result"
    }
   ],
   "source": [
    "data_raw=np.empty([0,9])\n",
    "data_raw=np.append(data_raw,watch_33_raw,axis=0)\n",
    "data_raw=np.append(data_raw,watch_34_raw,axis=0)\n",
    "data_raw=np.append(data_raw,watch_36_raw,axis=0)\n",
    "data_raw=np.append(data_raw,watch_39_raw,axis=0)\n",
    "data_raw.shape"
   ]
  },
  {
   "cell_type": "code",
   "execution_count": 12,
   "metadata": {},
   "outputs": [
    {
     "data": {
      "text/plain": [
       "(1656856,)"
      ]
     },
     "execution_count": 12,
     "metadata": {},
     "output_type": "execute_result"
    }
   ],
   "source": [
    "data_y=np.empty([0])\n",
    "data_y = np.append(data_y,watch_33_y,axis=0)\n",
    "data_y = np.append(data_y,watch_34_y,axis=0)\n",
    "data_y = np.append(data_y,watch_36_y,axis=0)\n",
    "data_y = np.append(data_y,watch_39_y,axis=0)\n",
    "data_y.shape"
   ]
  },
  {
   "cell_type": "code",
   "execution_count": 13,
   "metadata": {},
   "outputs": [],
   "source": [
    "np.savetxt('data_raw_v2.csv',data_raw,delimiter=',')\n",
    "np.savetxt('data_y_v2.csv',data_y,delimiter=',')"
   ]
  },
  {
   "cell_type": "markdown",
   "metadata": {},
   "source": [
    "Remove none activity data from the raw data"
   ]
  },
  {
   "cell_type": "code",
   "execution_count": 19,
   "metadata": {},
   "outputs": [
    {
     "name": "stdout",
     "output_type": "stream",
     "text": [
      "15\n"
     ]
    }
   ],
   "source": [
    "text_file = open(\"NoActivityForFullData.annotation~\", \"r\")\n",
    "lines = text_file.readlines()\n",
    "text_file.close()\n",
    "print (len(lines))"
   ]
  },
  {
   "cell_type": "code",
   "execution_count": 20,
   "metadata": {},
   "outputs": [],
   "source": [
    "NoAct=[]\n",
    "for i in range(len(lines)):\n",
    "    NoAct.append([int(float(lines[i].split(';')[0])*25),int(float(lines[i].split(';')[1])*25)])\n",
    "NoAct=np.asarray(NoAct)    "
   ]
  },
  {
   "cell_type": "code",
   "execution_count": 21,
   "metadata": {},
   "outputs": [
    {
     "data": {
      "text/plain": [
       "(15, 2)"
      ]
     },
     "execution_count": 21,
     "metadata": {},
     "output_type": "execute_result"
    }
   ],
   "source": [
    "NoAct.shape"
   ]
  },
  {
   "cell_type": "code",
   "execution_count": 39,
   "metadata": {},
   "outputs": [
    {
     "data": {
      "text/plain": [
       "(68138,)"
      ]
     },
     "execution_count": 39,
     "metadata": {},
     "output_type": "execute_result"
    }
   ],
   "source": [
    "NoActIndex=np.empty((0),dtype='int')\n",
    "for i in range(len(NoAct)):\n",
    "    for j in np.arange(NoAct[i][0],NoAct[i][1]):\n",
    "        NoActIndex = np.append(NoActIndex,int(j))\n",
    "NoActIndex.shape"
   ]
  },
  {
   "cell_type": "code",
   "execution_count": 54,
   "metadata": {},
   "outputs": [],
   "source": [
    "AllDataIndex = np.arange(len(data_raw)).tolist()"
   ]
  },
  {
   "cell_type": "code",
   "execution_count": 56,
   "metadata": {},
   "outputs": [],
   "source": [
    "for x in NoActIndex.tolist():\n",
    "    AllDataIndex.remove(x)"
   ]
  },
  {
   "cell_type": "code",
   "execution_count": 58,
   "metadata": {},
   "outputs": [
    {
     "data": {
      "text/plain": [
       "96379"
      ]
     },
     "execution_count": 58,
     "metadata": {},
     "output_type": "execute_result"
    }
   ],
   "source": [
    "len(AllDataIndex)"
   ]
  },
  {
   "cell_type": "code",
   "execution_count": 62,
   "metadata": {},
   "outputs": [],
   "source": [
    "NoActData=data_raw[NoActIndex.tolist()]\n",
    "NoActDataY = data_y[NoActIndex.tolist()]"
   ]
  },
  {
   "cell_type": "code",
   "execution_count": 42,
   "metadata": {},
   "outputs": [
    {
     "data": {
      "text/plain": [
       "(68138, 9)"
      ]
     },
     "execution_count": 42,
     "metadata": {},
     "output_type": "execute_result"
    }
   ],
   "source": [
    "NoActData.shape"
   ]
  },
  {
   "cell_type": "code",
   "execution_count": 64,
   "metadata": {},
   "outputs": [],
   "source": [
    "activateData = data_raw[AllDataIndex]\n",
    "activateDataY = data_y[AllDataIndex]"
   ]
  },
  {
   "cell_type": "code",
   "execution_count": 75,
   "metadata": {},
   "outputs": [],
   "source": [
    "np.savetxt('data_raw_active.csv',activateData,delimiter=',')\n",
    "np.savetxt('data_y_active.csv',activateDataY,delimiter=',')"
   ]
  },
  {
   "cell_type": "code",
   "execution_count": 60,
   "metadata": {},
   "outputs": [
    {
     "data": {
      "text/plain": [
       "(96379, 9)"
      ]
     },
     "execution_count": 60,
     "metadata": {},
     "output_type": "execute_result"
    }
   ],
   "source": [
    "activateData.shape"
   ]
  },
  {
   "cell_type": "code",
   "execution_count": 74,
   "metadata": {},
   "outputs": [
    {
     "data": {
      "text/plain": [
       "[<matplotlib.lines.Line2D at 0x2614d57e160>]"
      ]
     },
     "execution_count": 74,
     "metadata": {},
     "output_type": "execute_result"
    },
    {
     "data": {
      "image/png": "[encoded data removed]",
      "text/plain": [
       "<Figure size 432x288 with 1 Axes>"
      ]
     },
     "metadata": {
      "needs_background": "light"
     },
     "output_type": "display_data"
    }
   ],
   "source": [
    "plot(activateData[:,5])"
   ]
  }
 ],
 "metadata": {
  "kernelspec": {
   "display_name": "Python 3",
   "language": "python",
   "name": "python3"
  },
  "language_info": {
   "codemirror_mode": {
    "name": "ipython",
    "version": 3
   },
   "file_extension": ".py",
   "mimetype": "text/x-python",
   "name": "python",
   "nbconvert_exporter": "python",
   "pygments_lexer": "ipython3",
   "version": "3.6.8"
  }
 },
 "nbformat": 4,
 "nbformat_minor": 2
}
