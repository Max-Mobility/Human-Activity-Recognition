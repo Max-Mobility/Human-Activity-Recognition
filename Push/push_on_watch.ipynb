{
 "cells": [
  {
   "cell_type": "code",
   "execution_count": 1,
   "metadata": {},
   "outputs": [],
   "source": [
    "import tensorflow as tf\n",
    "#import tensorflow.nn.rnn_cell as rnn\n",
    "import numpy as np\n",
    "#import tensorflow.keras as keras\n",
    "#from tensorflow.keras.initializers import Constant\n",
    "import tensorflow.keras.backend as K\n",
    "\n",
    "\n",
    "from tqdm import tqdm\n",
    "import os"
   ]
  },
  {
   "cell_type": "code",
   "execution_count": 2,
   "metadata": {},
   "outputs": [
    {
     "data": {
      "text/plain": [
       "((3582, 13), (3582,))"
      ]
     },
     "execution_count": 2,
     "metadata": {},
     "output_type": "execute_result"
    }
   ],
   "source": [
    "#load 100hz data\n",
    "data_x=np.loadtxt('./PSDSData (35)_raw.csv',delimiter=\",\",dtype=np.float32)\n",
    "#data_y=np.loadtxt('./Tap(24)_y_100Hz.csv',delimiter=\",\",dtype=np.float32)\n",
    "#preY = np.loadtxt('./Tap(24)_y_100Hz.csv',delimiter=\",\",dtype=np.float32)\n",
    "#data_x=data_x[:,3:9];\n",
    "data_y=np.zeros(len(data_x))\n",
    "data_x.shape,data_y.shape"
   ]
  },
  {
   "cell_type": "code",
   "execution_count": 3,
   "metadata": {},
   "outputs": [
    {
     "data": {
      "text/plain": [
       "((3582, 6), (1, 128), (3582,))"
      ]
     },
     "execution_count": 3,
     "metadata": {},
     "output_type": "execute_result"
    }
   ],
   "source": [
    "#reduce from 100hz to 25hz\n",
    "# new_x=np.zeros_like(data_x[0:1])\n",
    "# new_y=np.zeros_like(data_y[0:1])\n",
    "# for i in range(int(len(data_x)/4)):\n",
    "#     temp=data_x[ i*4 : (i+1)*4 ].mean(axis=0)\n",
    "#     for j in range(len(temp)):\n",
    "#         if temp[j] >= 0:\n",
    "#             temp[j]=data_x[ i*4 : (i+1)*4 ].max(axis=0)[j]\n",
    "#         else:\n",
    "#             temp[j]=data_x[ i*4 : (i+1)*4 ].min(axis=0)[j]\n",
    "#     new_x=np.append(new_x,[temp],axis=0)\n",
    "#     new_y=np.append(new_y,data_y[i*4:(i+1)*4].max())\n",
    "# new_x=np.delete(new_x,0,axis=0)\n",
    "# new_y=np.delete(new_y,0,axis=0)\n",
    "\n",
    "\n",
    "input_data=data_x[:,3:9]\n",
    "input_data[:,3:6]=np.arccos(input_data[:,3:6]/10)\n",
    "x_states=np.zeros([1,128],dtype=np.float32)\n",
    "output_data=np.zeros(len(input_data))\n",
    "\n",
    "input_data.shape,x_states.shape,output_data.shape"
   ]
  },
  {
   "cell_type": "code",
   "execution_count": 4,
   "metadata": {},
   "outputs": [],
   "source": [
    "interpreter=tf.lite.Interpreter(model_path=\"keras_acos_1024.tflite\")\n",
    "#interpreter=tf.lite.Interpreter(model_path=\"tap_9_24.tflite\")\n",
    "interpreter.allocate_tensors()\n",
    "input_details=interpreter.get_input_details()\n",
    "output_details=interpreter.get_output_details()"
   ]
  },
  {
   "cell_type": "code",
   "execution_count": 5,
   "metadata": {},
   "outputs": [],
   "source": [
    "def updateInputHistory(input):\n",
    "    for i in range(InputHistorySize-1,0,-1):\n",
    "        inputHistory[i]=inputHistory[i-1]\n",
    "    inputHistory[0]=input\n",
    "        \n",
    "def updatePredictions(pred):\n",
    "    for i in range(PredictionHistorySize-1,0,-1):\n",
    "        predictionHistory[i]=predictionHistory[i-1]\n",
    "    predictionHistory[0]=pred\n"
   ]
  },
  {
   "cell_type": "code",
   "execution_count": 6,
   "metadata": {},
   "outputs": [],
   "source": [
    "def verify(taps,label_taps):\n",
    "    False_positive= np.zeros_like(taps)\n",
    "    False_negtive = np.zeros_like(taps)\n",
    "    True_positive = np.zeros_like(taps)\n",
    "    window=5\n",
    "    #taps=np.append(np.zeros([1]),taps)\n",
    "    #taps=np.append(taps,np.zeros([1]))\n",
    "    #label_taps=np.append(np.zeros([1]),label_taps)\n",
    "    #label_taps=np.append(label_taps,np.zeros([1]))\n",
    "    for i in range(len(taps)):\n",
    "        if label_taps[i] ==1:\n",
    "            if taps[i-window:i+window].sum()==0:\n",
    "                False_negtive[i]=1\n",
    "            else:\n",
    "                True_positive[i]=1\n",
    "\n",
    "        if taps[i] ==1:\n",
    "            if label_taps[i-window:i+window].sum()==0:\n",
    "                False_positive[i]=1\n",
    "                #raw_buff=raw[i-4:i+1,2]# only z acc\n",
    "                #diff=abs(raw_buff.max()-raw_buff.min())\n",
    "                #print(i,raw_buff,diff)\n",
    "            \n",
    "    return [False_positive,  False_negtive ,    True_positive ]"
   ]
  },
  {
   "cell_type": "code",
   "execution_count": 7,
   "metadata": {},
   "outputs": [],
   "source": [
    "def didPush(i,lastPush,pushGap):\n",
    "    if lastPush != -1:\n",
    "        timeDiff=i-lastPush\n",
    "        if timeDiff < TimeDiffThreshold:\n",
    "            push=0\n",
    "            return push,lastPush\n",
    "    \n",
    "    if (inputHistory[InputHistorySize-1] is None) or (predictionHistory[PredictionHistorySize-1] is None):\n",
    "        push=0\n",
    "        return push,lastPush\n",
    "\n",
    "    if all(pred > predictionThreshold for pred in predictionHistory) & pushGap:\n",
    "        push=1\n",
    "        lastPush=i\n",
    "    else:\n",
    "        push=0\n",
    "    return push,lastPush"
   ]
  },
  {
   "cell_type": "code",
   "execution_count": 11,
   "metadata": {},
   "outputs": [],
   "source": [
    "TimeDiffThreshold=15\n",
    "predictionThreshold=0.2\n",
    "\n",
    "InputHistorySize=4\n",
    "inputHistory=[None]*InputHistorySize\n",
    "PredictionHistorySize=1\n",
    "predictionHistory=[None]*PredictionHistorySize\n",
    "output_push=[None]*len(input_data)"
   ]
  },
  {
   "cell_type": "code",
   "execution_count": 12,
   "metadata": {},
   "outputs": [
    {
     "name": "stderr",
     "output_type": "stream",
     "text": [
      "100%|██████████| 3582/3582 [00:00<00:00, 55814.15it/s]\n"
     ]
    }
   ],
   "source": [
    "lastPush=-1\n",
    "pushGap=True\n",
    "for i in tqdm(range(len(input_data))):\n",
    "    input_x=input_data[i,:].reshape([1,6])\n",
    "    updateInputHistory(input_x)\n",
    "    \n",
    "    interpreter.set_tensor(input_details[1]['index'],x_states)\n",
    "    interpreter.set_tensor(input_details[0]['index'],input_x)\n",
    "    interpreter.invoke()\n",
    "    \n",
    "    output_data[i]=interpreter.get_tensor(output_details[0]['index'])\n",
    "    x_states=interpreter.get_tensor(output_details[1]['index'])\n",
    "    \n",
    "    updatePredictions(output_data[i])\n",
    "     \n",
    "    output_push[i],lastPush=didPush(i,lastPush,pushGap)\n",
    "    \n",
    "    if (lastPush >-1 ) & (output_data[i]<predictionThreshold):\n",
    "        pushGap=True\n",
    "    else:\n",
    "        if lastPush==i:\n",
    "            pushGap=False"
   ]
  },
  {
   "cell_type": "code",
   "execution_count": 20,
   "metadata": {},
   "outputs": [
    {
     "data": {
      "text/plain": [
       "5.497448392808438"
      ]
     },
     "execution_count": 20,
     "metadata": {},
     "output_type": "execute_result"
    }
   ],
   "source": [
    "output_data.sum()/50"
   ]
  },
  {
   "cell_type": "code",
   "execution_count": 18,
   "metadata": {},
   "outputs": [
    {
     "data": {
      "text/plain": [
       "3582"
      ]
     },
     "execution_count": 18,
     "metadata": {},
     "output_type": "execute_result"
    }
   ],
   "source": [
    "len(output_push)"
   ]
  },
  {
   "cell_type": "code",
   "execution_count": 19,
   "metadata": {},
   "outputs": [
    {
     "data": {
      "text/plain": [
       "50"
      ]
     },
     "execution_count": 19,
     "metadata": {},
     "output_type": "execute_result"
    }
   ],
   "source": [
    "sum(output_push)"
   ]
  },
  {
   "cell_type": "code",
   "execution_count": 10,
   "metadata": {},
   "outputs": [
    {
     "data": {
      "text/plain": [
       "(1139, 0, 0)"
      ]
     },
     "execution_count": 10,
     "metadata": {},
     "output_type": "execute_result"
    }
   ],
   "source": [
    "False_positive,  False_negtive ,    True_positive=verify(np.array(output_push),data_y)\n",
    "\n",
    "False_positive.sum(),  False_negtive.sum() ,    True_positive.sum()"
   ]
  },
  {
   "cell_type": "code",
   "execution_count": 16,
   "metadata": {},
   "outputs": [],
   "source": [
    "np.savetxt('output_push.csv',output_push)\n",
    "\n",
    "np.savetxt('fp.csv',False_positive)\n",
    "\n",
    "np.savetxt('fn.csv',False_negtive)\n",
    "\n",
    "np.savetxt('tp.csv',True_positive)\n",
    "\n",
    "np.savetxt('output_data.csv',output_data)"
   ]
  },
  {
   "cell_type": "code",
   "execution_count": 13,
   "metadata": {},
   "outputs": [],
   "source": [
    "np.savetxt('push_35_keras.csv',output_push)\n",
    "np.savetxt('predict_35_keras.csv',output_data)"
   ]
  },
  {
   "cell_type": "raw",
   "metadata": {},
   "source": []
  }
 ],
 "metadata": {
  "kernelspec": {
   "display_name": "Python 3",
   "language": "python",
   "name": "python3"
  },
  "language_info": {
   "codemirror_mode": {
    "name": "ipython",
    "version": 3
   },
   "file_extension": ".py",
   "mimetype": "text/x-python",
   "name": "python",
   "nbconvert_exporter": "python",
   "pygments_lexer": "ipython3",
   "version": "3.6.9"
  }
 },
 "nbformat": 4,
 "nbformat_minor": 2
}
