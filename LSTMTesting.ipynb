{
 "cells": [
  {
   "cell_type": "code",
   "execution_count": 11,
   "metadata": {},
   "outputs": [],
   "source": [
    "import numpy as np\n",
    "import tensorflow.keras.backend as K"
   ]
  },
  {
   "cell_type": "code",
   "execution_count": 2,
   "metadata": {},
   "outputs": [],
   "source": [
    "data_state = np.array([[-0.09490553,  0.01206422,  0.10296744, -0.09917992,  0.07588826,\n",
    "       -0.07795104,  0.02191551, -0.13767721, -0.04881138, -0.06123666,\n",
    "        0.05877448,  0.30867592, -0.19316114, -0.29431283, -0.2440839 ,\n",
    "       -0.04894308, -0.52115715,  0.02771688,  0.03202315,  0.03136631,\n",
    "       -0.16800883, -0.15039466, -0.08229536, -0.02807628,  0.09979199,\n",
    "       -0.11563709, -0.03285349, -0.08969718,  0.02577355, -0.2774055 ,\n",
    "        0.13139752, -0.3810906 , -0.21444742,  0.02582763,  0.2033777 ,\n",
    "       -0.23192653,  0.16177502, -0.24736127,  0.04738998, -0.21546632,\n",
    "       -0.08460043, -0.14324403,  0.09372416,  0.52963114, -0.49540657,\n",
    "       -0.5108493 , -0.5829645 , -0.12721801, -1.3014983 ,  0.07168403,\n",
    "        0.06727508,  0.06958196, -0.31567806, -0.34007278, -0.20917237,\n",
    "       -0.05022753,  0.1695506 , -0.24195157, -0.08364195, -0.1422    ,\n",
    "        0.06042047, -0.51047385,  0.29956988, -0.8082298 ]])"
   ]
  },
  {
   "cell_type": "code",
   "execution_count": 4,
   "metadata": {},
   "outputs": [],
   "source": [
    "state_h = data_state[:,0:32]\n",
    "state_c = data_state[:,32:]"
   ]
  },
  {
   "cell_type": "code",
   "execution_count": 8,
   "metadata": {},
   "outputs": [],
   "source": [
    "wts=np.load('weight.npz')\n",
    "weights=wts[wts.files[0]]"
   ]
  },
  {
   "cell_type": "code",
   "execution_count": 14,
   "metadata": {},
   "outputs": [],
   "source": [
    "re_train=False\n",
    "time_steps=1\n",
    "n_input =3\n",
    "num_units=32\n",
    "n_classes=1\n",
    "lr =0.0001\n",
    "\n",
    "wi=weights[0][:,0:num_units]\n",
    "wf=weights[0][:,num_units:num_units*2]\n",
    "wc=weights[0][:,num_units*2:num_units*3]\n",
    "wo=weights[0][:,num_units*3:num_units*4]\n",
    "ui=weights[1][:,0:num_units]\n",
    "uf=weights[1][:,num_units:num_units*2]\n",
    "uc=weights[1][:,num_units*2:num_units*3]\n",
    "uo=weights[1][:,num_units*3:num_units*4]\n",
    "\n",
    "bi=weights[2][0:num_units]\n",
    "bf=weights[2][num_units:num_units*2]\n",
    "\n",
    "bc=weights[2][num_units*2:num_units*3]\n",
    "bo=weights[2][num_units*3:num_units*4]\n",
    "\n",
    "out_weights=weights[3]\n",
    "out_bias=weights[4]"
   ]
  },
  {
   "cell_type": "code",
   "execution_count": 15,
   "metadata": {},
   "outputs": [],
   "source": [
    "data_x=np.loadtxt('./TapData/data_raw_active.csv',delimiter=\",\")\n",
    "data_y=np.loadtxt('./TapData/data_y_active.csv',delimiter=\",\")\n",
    "data_y=data_y.reshape(len(data_y),1)\n",
    "data_x=data_x[:,(6-n_input):6].reshape((len(data_x),3))\n",
    "data_state = np.zeros([1,num_units*2],dtype='float')"
   ]
  },
  {
   "cell_type": "code",
   "execution_count": 16,
   "metadata": {},
   "outputs": [],
   "source": [
    "x = data_x[1:2]"
   ]
  },
  {
   "cell_type": "code",
   "execution_count": 34,
   "metadata": {},
   "outputs": [
    {
     "name": "stdout",
     "output_type": "stream",
     "text": [
      "(1, 3)\n",
      "(3, 32)\n",
      "[[ 0.3389908   0.14714303  0.22978129 -0.12240854  0.03300347 -0.12367892\n",
      "  -0.29690865 -0.13991258  0.33921028 -0.00242702 -0.17130661  0.16864227\n",
      "   0.07261963 -0.10791417 -0.1986124  -0.06764315  0.21648077  0.01510706\n",
      "   0.21877632 -0.02098285 -0.2419152   0.04788535 -0.00678408  0.06928057\n",
      "   0.10669614 -0.18228838  0.1606234   0.12960549  0.02567338  0.36402938\n",
      "   0.00940556 -0.01852135]]\n"
     ]
    }
   ],
   "source": [
    "print(x.shape)\n",
    "print(wi.shape)\n",
    "print(np.dot(x,wi))"
   ]
  },
  {
   "cell_type": "code",
   "execution_count": 36,
   "metadata": {},
   "outputs": [
    {
     "name": "stdout",
     "output_type": "stream",
     "text": [
      "[[ 0.3389908   0.14714303  0.22978129 -0.12240854  0.03300347 -0.12367892\n",
      "  -0.29690865 -0.13991258  0.33921028 -0.00242702 -0.17130661  0.16864227\n",
      "   0.07261963 -0.10791417 -0.1986124  -0.06764315  0.21648077  0.01510706\n",
      "   0.21877632 -0.02098285 -0.2419152   0.04788535 -0.00678408  0.06928057\n",
      "   0.10669614 -0.18228838  0.1606234   0.12960549  0.02567338  0.36402938\n",
      "   0.00940556 -0.01852135]]\n"
     ]
    }
   ],
   "source": [
    "print(np.transpose(np.dot(np.transpose(wi),np.transpose(x))))"
   ]
  },
  {
   "cell_type": "code",
   "execution_count": 26,
   "metadata": {},
   "outputs": [],
   "source": [
    "def hard_sigmoid(x):\n",
    "    y=0.2 * x + 0.5\n",
    "    y = np.clip(y,a_min=0,a_max=1)\n",
    "    return y\n",
    "    "
   ]
  },
  {
   "cell_type": "code",
   "execution_count": 29,
   "metadata": {},
   "outputs": [],
   "source": [
    "x_i = (np.dot(x,wi)+bi)\n",
    "x_f = (np.dot(x,wf)+bf)\n",
    "x_c = (np.dot(x,wc)+bc)\n",
    "x_o = (np.dot(x,wo)+bo)\n",
    "\n",
    "i = hard_sigmoid(x_i+np.dot(state_h,ui))\n",
    "f = hard_sigmoid(x_f+np.dot(state_h,uf))\n",
    "c = f*state_c+np.tanh(x_c+np.dot(state_h,uc))\n",
    "#tf.add(tf.multiply(f,state_c),K.tanh(tf.add(tf.add(x_c,bc),K.dot(state_h,uc))),name='output_c')\n",
    "o = hard_sigmoid(x_o+np.dot(state_h,uo))\n",
    "h = o*np.tanh(c)\n",
    "\n",
    "#prediction=tf.nn.relu(tf.add(tf.matmul(h,out_weights), out_bias,name='output_forRelu'), name=\"output\")\n",
    "#state_out = tf.concat([h,c],axis=1,name='output_state')"
   ]
  },
  {
   "cell_type": "code",
   "execution_count": 30,
   "metadata": {},
   "outputs": [
    {
     "data": {
      "text/plain": [
       "array([[-0.26087013, -0.07923196,  0.10833303, -0.08073158,  0.02192846,\n",
       "        -0.09816514, -0.00919418, -0.16754107, -0.27055097, -0.14367393,\n",
       "         0.22230024,  0.35295213, -0.39103546, -0.34847275, -0.33515684,\n",
       "        -0.0527762 , -0.5351516 ,  0.16447165,  0.07066188,  0.07050963,\n",
       "        -0.19926658, -0.24653296, -0.21245113, -0.05774761,  0.1163515 ,\n",
       "        -0.01639742, -0.14043776,  0.01351559,  0.17662127, -0.24192186,\n",
       "         0.21953565, -0.46437971]])"
      ]
     },
     "execution_count": 30,
     "metadata": {},
     "output_type": "execute_result"
    }
   ],
   "source": [
    "h"
   ]
  }
 ],
 "metadata": {
  "kernelspec": {
   "display_name": "Python 3",
   "language": "python",
   "name": "python3"
  },
  "language_info": {
   "codemirror_mode": {
    "name": "ipython",
    "version": 3
   },
   "file_extension": ".py",
   "mimetype": "text/x-python",
   "name": "python",
   "nbconvert_exporter": "python",
   "pygments_lexer": "ipython3",
   "version": "3.6.8"
  }
 },
 "nbformat": 4,
 "nbformat_minor": 2
}
