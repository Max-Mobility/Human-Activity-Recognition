{
 "cells": [
  {
   "cell_type": "code",
   "execution_count": 1,
   "metadata": {},
   "outputs": [],
   "source": [
    "import tensorflow as tf\n",
    "#import tensorflow.nn.rnn_cell as rnn\n",
    "import numpy as np\n",
    "#import tensorflow.keras as keras\n",
    "#from tensorflow.keras.initializers import Constant\n",
    "import tensorflow.keras.backend as K\n",
    "from tensorflow.python.platform import gfile\n",
    "\n",
    "from tqdm import tqdm\n",
    "import os\n"
   ]
  },
  {
   "cell_type": "code",
   "execution_count": 5,
   "metadata": {},
   "outputs": [],
   "source": [
    "model_dir = './models/100hz/data_shuffle_7_30_19/realLSTM_data_shuffle_U256_i199_mse1.52_524.69.pb'"
   ]
  },
  {
   "cell_type": "code",
   "execution_count": 11,
   "metadata": {},
   "outputs": [
    {
     "name": "stdout",
     "output_type": "stream",
     "text": [
      "load graph\n",
      "['input_tensor', 'input_state', 'wf', 'wf/read', 'wc', 'wc/read', 'wo', 'wo/read', 'uf', 'uf/read', 'uc', 'uc/read', 'uo', 'uo/read', 'bf', 'bf/read', 'bc', 'bc/read', 'bo', 'bo/read', 'weights1', 'weights1/read', 'weights2', 'weights2/read', 'bias1', 'bias1/read', 'bias2', 'bias2/read', 'split/split_dim', 'split', 'MatMul_1', 'MatMul_2', 'MatMul_3', 'Add_3', 'MatMul_5', 'Add_4', 'Const_3', 'Const_4', 'Mul_1', 'Add_5', 'clip_by_value_1/Minimum/y', 'clip_by_value_1/Minimum', 'clip_by_value_1/y', 'clip_by_value_1', 'Mul_2', 'Add_6', 'MatMul_6', 'Add_7', 'Tanh', 'output_c', 'Add_8', 'MatMul_7', 'Add_9', 'Const_5', 'Const_6', 'Mul_3', 'Add_10', 'clip_by_value_2/Minimum/y', 'clip_by_value_2/Minimum', 'clip_by_value_2/y', 'clip_by_value_2', 'Tanh_1', 'output_h', 'MatMul_8', 'Add_11', 'Relu', 'MatMul_9', 'output_forRelu', 'output', 'output_state/axis', 'output_state']\n",
      "graph loaded.\n"
     ]
    }
   ],
   "source": [
    "sess = tf.Session()\n",
    "print(\"load graph\")\n",
    "with gfile.FastGFile(model_dir,'rb') as f:\n",
    "    graph_def = tf.GraphDef()\n",
    "graph_def.ParseFromString(f.read())\n",
    "sess.graph.as_default()\n",
    "tf.import_graph_def(graph_def, name='')\n",
    "graph_nodes=[n for n in graph_def.node]\n",
    "names = []\n",
    "for t in graph_nodes:\n",
    "    names.append(t.name)\n",
    "print(names)\n",
    "print('graph loaded.')"
   ]
  },
  {
   "cell_type": "code",
   "execution_count": 22,
   "metadata": {},
   "outputs": [],
   "source": [
    "data_x=np.loadtxt('./TapData/data_raw_100Hz.csv',delimiter=\",\")\n",
    "data_x=data_x[:,(6-3):6].reshape((len(data_x),3))"
   ]
  },
  {
   "cell_type": "code",
   "execution_count": 27,
   "metadata": {},
   "outputs": [],
   "source": [
    "data_x=np.loadtxt('./TapData/data_100Hz_shuffle.csv',delimiter=\",\")\n",
    "data_x=data_x[:,(6-3):6].reshape((len(data_x),3))"
   ]
  },
  {
   "cell_type": "code",
   "execution_count": 28,
   "metadata": {},
   "outputs": [],
   "source": [
    "num_units=256\n",
    "data_state = np.zeros([1,num_units*2],dtype='float')\n",
    "predictY=np.zeros([len(data_x)])\n",
    "\n",
    "for i in tqdm(range(len(data_x))):\n",
    "    feed={'input_tensor:0':data_x[i:i+1],\n",
    "          'input_state:0':data_state,\n",
    "            #y:data_y[i:i+1],\n",
    "          #loss_weight_in:loss_weight[i:i+1]\n",
    "           }\n",
    "\n",
    "    data_state,_predictY = sess.run(['output_state:0','output:0'],feed_dict=feed)\n",
    "    #print(data_h.shape)\n",
    "    #data_c = sess.run(c,feed_dict=feed)\n",
    "    predictY[i]=_predictY[0]"
   ]
  },
  {
   "cell_type": "code",
   "execution_count": 30,
   "metadata": {},
   "outputs": [],
   "source": [
    "np.savetxt('TF_predictY_100hz_shuffle.csv',predictY)"
   ]
  },
  {
   "cell_type": "code",
   "execution_count": 26,
   "metadata": {},
   "outputs": [],
   "source": [
    "np.savetxt('TF_predictY_100hz_None_shuffle.csv',predictY)"
   ]
  }
 ],
 "metadata": {
  "kernelspec": {
   "display_name": "Python 3",
   "language": "python",
   "name": "python3"
  },
  "language_info": {
   "codemirror_mode": {
    "name": "ipython",
    "version": 3
   },
   "file_extension": ".py",
   "mimetype": "text/x-python",
   "name": "python",
   "nbconvert_exporter": "python",
   "pygments_lexer": "ipython3",
   "version": "3.6.8"
  }
 },
 "nbformat": 4,
 "nbformat_minor": 2
}
