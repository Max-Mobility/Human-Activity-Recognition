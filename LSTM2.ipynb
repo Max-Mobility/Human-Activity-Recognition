{
 "cells": [
  {
   "cell_type": "code",
   "execution_count": 1,
   "metadata": {},
   "outputs": [
    {
     "name": "stderr",
     "output_type": "stream",
     "text": [
      "Using TensorFlow backend.\n"
     ]
    }
   ],
   "source": [
    "from keras.models import Sequential\n",
    "from keras.layers import Dense\n",
    "from keras.layers import LSTM\n",
    "import keras\n",
    "from math import sqrt\n",
    "from matplotlib import pyplot\n",
    "import numpy as np\n",
    "import pandas as pd\n",
    "import tensorflow as tf"
   ]
  },
  {
   "cell_type": "code",
   "execution_count": 2,
   "metadata": {},
   "outputs": [],
   "source": [
    "def fit_lstm(Dx,Dy, nb_epoch, neurons,load_dir=None,load_old_model=False,lr=0.000001,start_epoch=0):\n",
    "    if (load_old_model):\n",
    "        print(\"loading old model.\")\n",
    "        model=keras.models.load_model(load_dir)\n",
    "    else:\n",
    "        model = Sequential()\n",
    "        model.add(LSTM(neurons, batch_input_shape=(1, 1,Dx.shape[2]), stateful=True))\n",
    "        model.add(Dense(units=16,activation = 'relu'))\n",
    "        model.add(Dense(units=1,activation = 'relu'))    \n",
    "    \n",
    "    \n",
    "    opt = keras.optimizers.Adam(lr = lr)\n",
    "    model.compile(loss='mean_squared_error', optimizer=opt,metrics=['accuracy'])\n",
    "    \n",
    "    X,y = data_shuffle(Dx,Dy)\n",
    "    sample_weight = y*len(y)/y.sum()+1\n",
    "    for i in range(start_epoch,start_epoch+nb_epoch):\n",
    "        print(\"epoch\"+str(i))\n",
    "        model.fit(X, y, epochs=1, batch_size=1, verbose=1, shuffle=False,sample_weight=sample_weight)\n",
    "        model.reset_states()\n",
    "        saveStr = './models/25hz/Keras_model/keras_LSTM_combinedData_'+str(neurons)+'_i'+str(i)+'.hdf5'\n",
    "        model.save(saveStr)\n",
    "        if (i%10==0):\n",
    "            X,y = data_shuffle(Dx,Dy)\n",
    "            predict = model.predict(X,batch_size=1,verbose=1)\n",
    "            sample_weight = y*len(y)/y.sum()+1 + y*len(predict)/predict.sum()\n",
    "        \n",
    "    return model"
   ]
  },
  {
   "cell_type": "code",
   "execution_count": 4,
   "metadata": {},
   "outputs": [],
   "source": [
    "Dx1 = np.loadtxt('./PushData/PSDSData (17_20)_raw.csv',delimiter=',')\n",
    "Dy1 = np.loadtxt('./PushData/push_(17_20).csv',delimiter=',')\n",
    "Dx2 = np.loadtxt('./PushData/PSDSData (30)_raw.csv',delimiter=',')\n",
    "Dy2 = np.loadtxt('./PushData/push_30.csv',delimiter=',')\n",
    "DataNonAct = np.loadtxt('./PushData/NonActivityData.csv',delimiter=',')\n",
    "DataNonActY = np.zeros_like(DataNonAct[:,1])"
   ]
  },
  {
   "cell_type": "code",
   "execution_count": 5,
   "metadata": {},
   "outputs": [],
   "source": [
    "Datax = np.empty([0,9])\n",
    "Datax = np.append(Datax,Dx1,axis=0)\n",
    "Datax = np.append(Datax,Dx2,axis=0)\n",
    "Datax = np.append(Datax,DataNonAct,axis=0)\n",
    "\n",
    "Datay = np.empty([0])\n",
    "Datay = np.append(Datay,Dy1,axis=0)\n",
    "Datay = np.append(Datay,Dy2,axis=0)\n",
    "Datay = np.append(Datay,DataNonActY,axis=0)\n",
    "\n",
    "np.savetxt('./PushData/CombineDataX.csv',Datax,delimiter=',')\n",
    "np.savetxt('./PushData/CombineDatay.csv',Datay,delimiter=',')"
   ]
  },
  {
   "cell_type": "code",
   "execution_count": 6,
   "metadata": {},
   "outputs": [],
   "source": [
    "Datax=np.loadtxt('./PushData/combineDatax.csv',delimiter=',')\n",
    "Datay=np.loadtxt('./PushData/combineDatay.csv',delimiter=',')"
   ]
  },
  {
   "cell_type": "code",
   "execution_count": 7,
   "metadata": {},
   "outputs": [
    {
     "data": {
      "text/plain": [
       "(1788937,)"
      ]
     },
     "execution_count": 7,
     "metadata": {},
     "output_type": "execute_result"
    }
   ],
   "source": [
    "Datay.shape"
   ]
  },
  {
   "cell_type": "code",
   "execution_count": 8,
   "metadata": {},
   "outputs": [
    {
     "data": {
      "text/plain": [
       "(1788937, 9)"
      ]
     },
     "execution_count": 8,
     "metadata": {},
     "output_type": "execute_result"
    }
   ],
   "source": [
    "Datax.shape"
   ]
  },
  {
   "cell_type": "code",
   "execution_count": 10,
   "metadata": {},
   "outputs": [],
   "source": [
    "Datax = Datax[:,3:9].reshape(Datax.shape[0],1,6)\n",
    "Datax[:,:,3:6] = np.arccos(Datax[:,:,3:6]/10.0)"
   ]
  },
  {
   "cell_type": "code",
   "execution_count": 11,
   "metadata": {},
   "outputs": [],
   "source": [
    "def data_shuffle(x,y,gap=150,nonActGap=500):\n",
    "    \n",
    "    label_index= np.where(y==1)[0]\n",
    "    label_index = np.append(label_index,[len(y)-1])\n",
    "    segments=np.zeros([0,2],dtype=int)\n",
    "    last_seg = 0\n",
    "\n",
    "    for i in range(len(label_index) -1):\n",
    "        if ((label_index[i+1]-label_index[i])>gap):\n",
    "            num_seg = int((label_index[i+1]-label_index[i])/nonActGap)+2\n",
    "            seg_gap = int((label_index[i+1]-label_index[i])/num_seg)\n",
    "            for j in range(num_seg):\n",
    "                if j == num_seg-1:  # last segment\n",
    "                    seg = label_index[i+1]\n",
    "                else:\n",
    "                    seg = seg_gap*(j+1)+label_index[i]\n",
    "                segments = np.append(segments,[[last_seg,seg]],axis=0)\n",
    "                last_seg=seg\n",
    "    \n",
    "    newSeg = np.arange(len(segments))\n",
    "    np.random.shuffle(newSeg)\n",
    "    newx = np.zeros([0,x.shape[1],x.shape[2]])\n",
    "    newy = np.zeros([0])\n",
    "    #print(\"number of segments:\"+str(len(newSeg)))\n",
    "    for i in range(len(newSeg)):\n",
    "        newx = np.append(newx,x[segments[newSeg[i]][0]:segments[newSeg[i]][1]],axis=0)\n",
    "        newy = np.append(newy,y[segments[newSeg[i]][0]:segments[newSeg[i]][1]],axis=0)\n",
    "    return newx,newy"
   ]
  },
  {
   "cell_type": "code",
   "execution_count": null,
   "metadata": {},
   "outputs": [
    {
     "name": "stdout",
     "output_type": "stream",
     "text": [
      "loading old model.\n",
      "WARNING:tensorflow:From C:\\Users\\Guo\\Anaconda3\\envs\\tf_1_13_cpu\\lib\\site-packages\\tensorflow\\python\\framework\\op_def_library.py:263: colocate_with (from tensorflow.python.framework.ops) is deprecated and will be removed in a future version.\n",
      "Instructions for updating:\n",
      "Colocations handled automatically by placer.\n",
      "WARNING:tensorflow:From C:\\Users\\Guo\\Anaconda3\\envs\\tf_1_13_cpu\\lib\\site-packages\\tensorflow\\python\\ops\\math_ops.py:3066: to_int32 (from tensorflow.python.ops.math_ops) is deprecated and will be removed in a future version.\n",
      "Instructions for updating:\n",
      "Use tf.cast instead.\n",
      "epoch100\n",
      "Epoch 1/1\n",
      "1788936/1788936 [==============================] - 2124s 1ms/step - loss: 1.0121 - acc: 0.9879\n",
      "1098092/1788936 [=================>............] - ETA: 3:39"
     ]
    }
   ],
   "source": [
    "start_epoch=100\n",
    "model_dir = './models/25hz/Keras_model/keras_LSTM'+str(64)+'_i'+str(start_epoch)+'.hdf5'\n",
    "\n",
    "lstm_model=fit_lstm(Datax,Datay,500,64,load_dir=model_dir,load_old_model=True,lr=0.000001,start_epoch=start_epoch)"
   ]
  }
 ],
 "metadata": {
  "kernelspec": {
   "display_name": "Python 3",
   "language": "python",
   "name": "python3"
  },
  "language_info": {
   "codemirror_mode": {
    "name": "ipython",
    "version": 3
   },
   "file_extension": ".py",
   "mimetype": "text/x-python",
   "name": "python",
   "nbconvert_exporter": "python",
   "pygments_lexer": "ipython3",
   "version": "3.6.8"
  }
 },
 "nbformat": 4,
 "nbformat_minor": 2
}
