{
 "cells": [
  {
   "cell_type": "code",
   "execution_count": 1,
   "metadata": {},
   "outputs": [],
   "source": [
    "from tensorflow.python.platform import gfile\n",
    "import tensorflow as tf\n",
    "import numpy as np\n",
    "from tqdm import tqdm"
   ]
  },
  {
   "cell_type": "code",
   "execution_count": 2,
   "metadata": {},
   "outputs": [],
   "source": [
    "wts=np.load('weight.npz')\n",
    "weights=wts[wts.files[0]]\n",
    "re_train=True\n",
    "time_steps=1\n",
    "n_input =3\n",
    "num_units=64\n",
    "n_classes=1\n",
    "lr =0.0001"
   ]
  },
  {
   "cell_type": "code",
   "execution_count": 3,
   "metadata": {},
   "outputs": [],
   "source": [
    "#data_x=np.loadtxt('./TapData/data_raw_active.csv',delimiter=\",\")\n",
    "data_x=np.loadtxt('./TapData/validation_raw.csv',delimiter=\",\")\n",
    "#data_y=np.loadtxt('./TapData/data_y_active.csv',delimiter=\",\")\n",
    "data_y=np.loadtxt('./TapData/validation_y.csv',delimiter=\",\")\n",
    "preY = np.loadtxt('./TapData/data_preY_3C_fullData.active.csv',delimiter=\",\")\n",
    "datay=data_y\n",
    "data_y=data_y.reshape(len(data_y),1)\n",
    "data_x=data_x[:,(6-n_input):6].reshape((len(data_x),3))\n",
    "data_state = np.zeros([1,num_units*2],dtype='float')\n",
    "\n",
    "#loss_weight = preY*len(preY)/preY.sum()+datay*len(datay)/datay.sum()+1\n",
    "#loss_weight = loss_weight.reshape([len(loss_weight),1])"
   ]
  },
  {
   "cell_type": "code",
   "execution_count": 4,
   "metadata": {},
   "outputs": [
    {
     "data": {
      "text/plain": [
       "(1, 128)"
      ]
     },
     "execution_count": 4,
     "metadata": {},
     "output_type": "execute_result"
    }
   ],
   "source": [
    "data_state.shape"
   ]
  },
  {
   "cell_type": "code",
   "execution_count": 5,
   "metadata": {},
   "outputs": [
    {
     "name": "stdout",
     "output_type": "stream",
     "text": [
      "load graph\n",
      "WARNING:tensorflow:From <ipython-input-5-58aa8ed908db>:7: FastGFile.__init__ (from tensorflow.python.platform.gfile) is deprecated and will be removed in a future version.\n",
      "Instructions for updating:\n",
      "Use tf.gfile.GFile.\n"
     ]
    },
    {
     "name": "stderr",
     "output_type": "stream",
     "text": [
      "100%|████████████████████████████████████████████████████████████████████████████| 4643/4643 [00:01<00:00, 4383.69it/s]\n"
     ]
    }
   ],
   "source": [
    "data_state = np.zeros([1,num_units*2],dtype='float')\n",
    "predictY=np.zeros([len(data_x)])\n",
    "GRAPH_PB_PATH='./tmp/model/realLSTM_dataV2_U64_i32_mse0.01_61.12.pb'\n",
    "#GRAPH_PB_PATH='./realLSTM_dataV2_U64_i20_mse0.00_56.20.pb'\n",
    "with tf.Session() as sess:\n",
    "    print(\"load graph\")\n",
    "    with gfile.FastGFile(GRAPH_PB_PATH,'rb') as f:\n",
    "        graph_def = tf.GraphDef()\n",
    "    graph_def.ParseFromString(f.read())\n",
    "    sess.graph.as_default()\n",
    "    tf.import_graph_def(graph_def, name='')\n",
    "    graph_nodes=[n for n in graph_def.node]\n",
    "    '''names = []\n",
    "    for t in graph_nodes:\n",
    "        names.append(t.name)\n",
    "        #print(t.input)\n",
    "    print(names)'''\n",
    "    for i in tqdm(range(len(data_x))):\n",
    "        feed={'input_tensor:0':data_x[i:i+1],\n",
    "              'input_state:0':data_state,\n",
    "                     \n",
    "               }\n",
    "    \n",
    "        data_state,_predictY = sess.run(['output_state:0','output:0'],feed_dict=feed)\n",
    "        #print(data_h.shape)\n",
    "        #data_c = sess.run(c,feed_dict=feed)\n",
    "        #print(_predictY)\n",
    "        predictY[i]=_predictY[0]"
   ]
  },
  {
   "cell_type": "code",
   "execution_count": 6,
   "metadata": {},
   "outputs": [],
   "source": [
    "np.savetxt('validation_preY_V2.csv',predictY)"
   ]
  },
  {
   "cell_type": "code",
   "execution_count": null,
   "metadata": {},
   "outputs": [],
   "source": []
  }
 ],
 "metadata": {
  "kernelspec": {
   "display_name": "Python 3",
   "language": "python",
   "name": "python3"
  },
  "language_info": {
   "codemirror_mode": {
    "name": "ipython",
    "version": 3
   },
   "file_extension": ".py",
   "mimetype": "text/x-python",
   "name": "python",
   "nbconvert_exporter": "python",
   "pygments_lexer": "ipython3",
   "version": "3.6.8"
  }
 },
 "nbformat": 4,
 "nbformat_minor": 2
}
