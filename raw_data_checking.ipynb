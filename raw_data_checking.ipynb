{
 "cells": [
  {
   "cell_type": "code",
   "execution_count": 556,
   "metadata": {},
   "outputs": [],
   "source": [
    "import json\n",
    "from matplotlib.pyplot import plot\n",
    "import matplotlib.pyplot as plt\n",
    "import time"
   ]
  },
  {
   "cell_type": "code",
   "execution_count": 489,
   "metadata": {},
   "outputs": [],
   "source": [
    "with open(r'C:\\Users\\Guo\\Downloads\\WatchData (29).json') as f:\n",
    "    data=json.load(f)"
   ]
  },
  {
   "cell_type": "code",
   "execution_count": 490,
   "metadata": {},
   "outputs": [
    {
     "data": {
      "text/plain": [
       "22"
      ]
     },
     "execution_count": 490,
     "metadata": {},
     "output_type": "execute_result"
    }
   ],
   "source": [
    "len(data)"
   ]
  },
  {
   "cell_type": "code",
   "execution_count": 491,
   "metadata": {},
   "outputs": [],
   "source": [
    "d_data=[]\n",
    "for i in range(len(data)):\n",
    "    d_data.append(data[i]['sensor_data'])"
   ]
  },
  {
   "cell_type": "code",
   "execution_count": 558,
   "metadata": {},
   "outputs": [
    {
     "data": {
      "text/plain": [
       "'2019-04-16 16:36:31'"
      ]
     },
     "execution_count": 558,
     "metadata": {},
     "output_type": "execute_result"
    }
   ],
   "source": [
    "time.strftime('%Y-%m-%d %H:%M:%S', time.localtime(gravity_time[0]))"
   ]
  },
  {
   "cell_type": "code",
   "execution_count": 492,
   "metadata": {},
   "outputs": [
    {
     "name": "stdout",
     "output_type": "stream",
     "text": [
      "9e55ccd7f60770be  TicWatch E2\n",
      "1990\n",
      "sensors:['android.sensor.low_latency_offbody_detect', 'android.sensor.gravity', 'android.sensor.linear_acceleration', 'android.sensor.game_rotation_vector', 'android.sensor.gyroscope']\n",
      "c3f673ef851e96bb  TicWatch E2\n",
      "1947\n",
      "sensors:['android.sensor.low_latency_offbody_detect', 'android.sensor.gravity', 'android.sensor.linear_acceleration', 'android.sensor.game_rotation_vector', 'android.sensor.gyroscope']\n",
      "9fd1b5e937cf9793  TicWatch C2\n",
      "1997\n",
      "sensors:['android.sensor.low_latency_offbody_detect', 'android.sensor.gravity', 'android.sensor.game_rotation_vector', 'android.sensor.linear_acceleration', 'android.sensor.gyroscope']\n",
      "c3f673ef851e96bb  TicWatch E2\n",
      "6150\n",
      "sensors:['android.sensor.game_rotation_vector', 'android.sensor.gravity', 'android.sensor.linear_acceleration', 'android.sensor.gyroscope']\n",
      "9fd1b5e937cf9793  TicWatch C2\n",
      "6064\n",
      "sensors:['android.sensor.gyroscope', 'android.sensor.linear_acceleration', 'android.sensor.game_rotation_vector', 'android.sensor.gravity']\n",
      "c3f673ef851e96bb  TicWatch E2\n",
      "6169\n",
      "sensors:['android.sensor.gyroscope', 'android.sensor.linear_acceleration', 'android.sensor.gravity', 'android.sensor.game_rotation_vector', 'android.sensor.low_latency_offbody_detect']\n",
      "c3f673ef851e96bb  TicWatch E2\n",
      "6153\n",
      "sensors:['android.sensor.gravity', 'android.sensor.game_rotation_vector', 'android.sensor.linear_acceleration', 'android.sensor.gyroscope']\n",
      "9fd1b5e937cf9793  TicWatch C2\n",
      "1462\n",
      "sensors:['android.sensor.gyroscope', 'android.sensor.linear_acceleration', 'android.sensor.gravity', 'android.sensor.game_rotation_vector']\n",
      "c3f673ef851e96bb  TicWatch E2\n",
      "6156\n",
      "sensors:['android.sensor.gyroscope', 'android.sensor.game_rotation_vector', 'android.sensor.gravity', 'android.sensor.linear_acceleration']\n",
      "9fd1b5e937cf9793  TicWatch C2\n",
      "5950\n",
      "sensors:['android.sensor.gravity', 'android.sensor.linear_acceleration', 'android.sensor.game_rotation_vector', 'android.sensor.gyroscope']\n",
      "c3f673ef851e96bb  TicWatch E2\n",
      "6160\n",
      "sensors:['android.sensor.gyroscope', 'android.sensor.game_rotation_vector', 'android.sensor.gravity', 'android.sensor.linear_acceleration']\n",
      "9fd1b5e937cf9793  TicWatch C2\n",
      "5859\n",
      "sensors:['android.sensor.gyroscope', 'android.sensor.game_rotation_vector', 'android.sensor.linear_acceleration', 'android.sensor.gravity']\n",
      "c3f673ef851e96bb  TicWatch E2\n",
      "6160\n",
      "sensors:['android.sensor.gyroscope', 'android.sensor.gravity', 'android.sensor.game_rotation_vector', 'android.sensor.linear_acceleration']\n",
      "9fd1b5e937cf9793  TicWatch C2\n",
      "5273\n",
      "sensors:['android.sensor.linear_acceleration', 'android.sensor.gravity', 'android.sensor.game_rotation_vector', 'android.sensor.gyroscope']\n",
      "c3f673ef851e96bb  TicWatch E2\n",
      "6156\n",
      "sensors:['android.sensor.gyroscope', 'android.sensor.linear_acceleration', 'android.sensor.game_rotation_vector', 'android.sensor.gravity']\n",
      "c3f673ef851e96bb  TicWatch E2\n",
      "6160\n",
      "sensors:['android.sensor.game_rotation_vector', 'android.sensor.linear_acceleration', 'android.sensor.gyroscope', 'android.sensor.gravity']\n",
      "9fd1b5e937cf9793  TicWatch C2\n",
      "2411\n",
      "sensors:['android.sensor.gyroscope', 'android.sensor.game_rotation_vector', 'android.sensor.gravity', 'android.sensor.linear_acceleration']\n",
      "c3f673ef851e96bb  TicWatch E2\n",
      "6134\n",
      "sensors:['android.sensor.gyroscope', 'android.sensor.gravity', 'android.sensor.game_rotation_vector', 'android.sensor.linear_acceleration']\n",
      "c3f673ef851e96bb  TicWatch E2\n",
      "6134\n",
      "sensors:['android.sensor.game_rotation_vector', 'android.sensor.linear_acceleration', 'android.sensor.gyroscope', 'android.sensor.gravity']\n",
      "c3f673ef851e96bb  TicWatch E2\n",
      "6160\n",
      "sensors:['android.sensor.gyroscope', 'android.sensor.linear_acceleration', 'android.sensor.gravity', 'android.sensor.game_rotation_vector']\n",
      "c3f673ef851e96bb  TicWatch E2\n",
      "6156\n",
      "sensors:['android.sensor.linear_acceleration', 'android.sensor.gravity', 'android.sensor.game_rotation_vector', 'android.sensor.gyroscope']\n",
      "9fd1b5e937cf9793  TicWatch C2\n",
      "2583\n",
      "sensors:['android.sensor.linear_acceleration', 'android.sensor.gravity', 'android.sensor.game_rotation_vector', 'android.sensor.gyroscope']\n"
     ]
    }
   ],
   "source": [
    "for i in range(len(data)):\n",
    "    sensors=[]\n",
    "    dd_data=data[i]['sensor_data']\n",
    "    \n",
    "    for sensorData in dd_data:\n",
    "        if sensorData['sensor'] not in sensors:\n",
    "            sensors.append(sensorData['sensor'])\n",
    "    print(data[i][\"device_uuid\"]+\"  \"+data[i]['device_model'])\n",
    "    print(len(dd_data))\n",
    "    print(\"sensors:\"+str(sensors))"
   ]
  },
  {
   "cell_type": "code",
   "execution_count": 557,
   "metadata": {},
   "outputs": [
    {
     "data": {
      "text/plain": [
       "'2012-09-13 01:22:50'"
      ]
     },
     "execution_count": 557,
     "metadata": {},
     "output_type": "execute_result"
    }
   ],
   "source": [
    "\n"
   ]
  },
  {
   "cell_type": "code",
   "execution_count": 551,
   "metadata": {},
   "outputs": [
    {
     "name": "stdout",
     "output_type": "stream",
     "text": [
      "1319 1319 1316 1319 0\n"
     ]
    }
   ],
   "source": [
    "gravity_time=[]\n",
    "gravity_timestamp=[]\n",
    "gravity_x=[]\n",
    "gravity_y=[]\n",
    "gravity_z=[]\n",
    "lineAcc_time=[]\n",
    "lineAcc_timestamp=[]\n",
    "lineAcc_x=[]\n",
    "lineAcc_y=[]\n",
    "lineAcc_z=[]\n",
    "gyro_time=[]\n",
    "gyro_timestamp=[]\n",
    "gyro_x=[]\n",
    "gyro_y=[]\n",
    "gyro_z=[]\n",
    "RV_time=[]\n",
    "RV_timestamp=[]\n",
    "RV_x=[]\n",
    "RV_y=[]\n",
    "RV_z=[]\n",
    "GR_counter=0\n",
    "LA_counter=0\n",
    "MF_counter=0\n",
    "RV_counter=0\n",
    "HR_counter=0\n",
    "GY_counter=0\n",
    "for sensorData in d_data[13]:\n",
    "    if sensorData['sensor'] == 'android.sensor.gravity':\n",
    "        GR_counter+=1\n",
    "        gravity_time.append(sensorData['time'])\n",
    "        gravity_timestamp.append(sensorData['timestamp'])\n",
    "        gravity_x.append(sensorData['data']['x'])\n",
    "        gravity_y.append(sensorData['data']['y'])\n",
    "        gravity_z.append(sensorData['data']['z'])\n",
    "    if sensorData['sensor'] == 'android.sensor.linear_acceleration':\n",
    "        LA_counter+=1\n",
    "        lineAcc_time.append(sensorData['time'])\n",
    "        lineAcc_timestamp.append(sensorData['timestamp'])\n",
    "        lineAcc_x.append(sensorData['data']['x'])\n",
    "        lineAcc_y.append(sensorData['data']['y'])\n",
    "        lineAcc_z.append(sensorData['data']['z'])\n",
    "    if sensorData['sensor'] == 'android.sensor.gyroscope':\n",
    "        GY_counter +=1\n",
    "        gyro_time.append(sensorData['time'])\n",
    "        gyro_timestamp.append(sensorData['timestamp'])\n",
    "        gyro_x.append(sensorData['data']['x'])\n",
    "        gyro_y.append(sensorData['data']['y'])\n",
    "        gyro_z.append(sensorData['data']['z'])\n",
    "    if sensorData['sensor'] == 'android.sensor.game_rotation_vector':\n",
    "        RV_counter +=1\n",
    "        RV_x.append(sensorData['data']['x'])\n",
    "        RV_y.append(sensorData['data']['y'])\n",
    "        RV_z.append(sensorData['data']['z'])\n",
    "        RV_time.append(sensorData['time'])\n",
    "        RV_timestamp.append(sensorData['timestamp'])\n",
    "    if sensorData['sensor'] == 'android.sensor.heart_rate':\n",
    "        HR_counter+=1\n",
    "print(GR_counter,LA_counter,GY_counter,RV_counter,HR_counter)"
   ]
  },
  {
   "cell_type": "code",
   "execution_count": 552,
   "metadata": {},
   "outputs": [],
   "source": [
    "gravity_time_int=[]\n",
    "lineAcc_time_int=[]\n",
    "gyro_time_int=[]\n",
    "RV_time_int=[]\n",
    "gravity_timestamp_int=[]\n",
    "lineAcc_timestamp_int=[]\n",
    "gyro_timestamp_int=[]\n",
    "RV_timestamp_int=[]\n",
    "for i in range (1,GR_counter):\n",
    "    gravity_time_int.append((gravity_time[i]-gravity_time[i-1]))#/1000000000)\n",
    "    gravity_timestamp_int.append((gravity_timestamp[i]-gravity_timestamp[i-1])/1000000000)\n",
    "for i in range (LA_counter-1):\n",
    "    lineAcc_time_int.append((lineAcc_time[i+1]-lineAcc_time[i]))#/1000000000)\n",
    "    lineAcc_timestamp_int.append((lineAcc_timestamp[i+1]-lineAcc_timestamp[i])/1000000000)\n",
    "for i in range (GY_counter-1):\n",
    "    gyro_time_int.append((gyro_time[i+1]-gyro_time[i]))#/1000000000)\n",
    "    gyro_timestamp_int.append((gyro_timestamp[i+1]-gyro_timestamp[i])/1000000000)\n",
    "for i in range (RV_counter-1):\n",
    "    RV_time_int.append((RV_time[i+1]-RV_time[i]))#/1000000000)\n",
    "    RV_timestamp_int.append((RV_timestamp[i+1]-RV_timestamp[i])/1000000000)"
   ]
  },
  {
   "cell_type": "code",
   "execution_count": 553,
   "metadata": {},
   "outputs": [
    {
     "name": "stdout",
     "output_type": "stream",
     "text": [
      "gravity time 60\n",
      "gravity timestamp 60.02208896799996\n",
      "lineAcc time 59\n",
      "lineAcc timestamp 60.02208896799996\n",
      "gyro time 59\n",
      "gyro timestamp 59.886590919999946\n",
      "RV time 60\n",
      "RV timestamp 60.02208896799996\n"
     ]
    }
   ],
   "source": [
    "print(\"gravity time \"+str(sum(gravity_time_int)))\n",
    "print(\"gravity timestamp \"+str(sum(gravity_timestamp_int)))\n",
    "print(\"lineAcc time \"+str(sum(lineAcc_time_int)))\n",
    "print(\"lineAcc timestamp \"+str(sum(lineAcc_timestamp_int)))\n",
    "print(\"gyro time \"+str(sum(gyro_time_int)))\n",
    "print(\"gyro timestamp \"+str(sum(gyro_timestamp_int)))\n",
    "print(\"RV time \"+str(sum(RV_time_int)))\n",
    "print(\"RV timestamp \"+str(sum(RV_timestamp_int)))"
   ]
  },
  {
   "cell_type": "code",
   "execution_count": 554,
   "metadata": {
    "scrolled": true
   },
   "outputs": [
    {
     "data": {
      "text/plain": [
       "[<matplotlib.lines.Line2D at 0x1af216523c8>]"
      ]
     },
     "execution_count": 554,
     "metadata": {},
     "output_type": "execute_result"
    },
    {
     "data": {
      "image/png": "[encoded data removed]",
      "text/plain": [
       "<Figure size 720x360 with 2 Axes>"
      ]
     },
     "metadata": {
      "needs_background": "light"
     },
     "output_type": "display_data"
    }
   ],
   "source": [
    "fig=plt.figure(figsize=(10,5))\n",
    "plt.subplot(1,2,1)\n",
    "plot(RV_time_int,'y')\n",
    "plot(gravity_time_int,'r')\n",
    "plt.subplot(1,2,2)\n",
    "plot(lineAcc_time_int,'b')\n",
    "plot(gyro_time_int,'k')\n"
   ]
  },
  {
   "cell_type": "code",
   "execution_count": 555,
   "metadata": {},
   "outputs": [
    {
     "data": {
      "text/plain": [
       "[<matplotlib.lines.Line2D at 0x1af21704a58>]"
      ]
     },
     "execution_count": 555,
     "metadata": {},
     "output_type": "execute_result"
    },
    {
     "data": {
      "image/png": "[encoded data removed]",
      "text/plain": [
       "<Figure size 720x360 with 2 Axes>"
      ]
     },
     "metadata": {
      "needs_background": "light"
     },
     "output_type": "display_data"
    }
   ],
   "source": [
    "fig=plt.figure(figsize=(10,5))\n",
    "plt.subplot(1,2,1)\n",
    "plot(RV_timestamp_int,'y')\n",
    "plot(gravity_timestamp_int,'r')\n",
    "plt.subplot(1,2,2)\n",
    "plot(lineAcc_timestamp_int,'b')\n",
    "plot(gyro_timestamp_int,'k')"
   ]
  },
  {
   "cell_type": "code",
   "execution_count": null,
   "metadata": {},
   "outputs": [],
   "source": []
  }
 ],
 "metadata": {
  "kernelspec": {
   "display_name": "Python 3",
   "language": "python",
   "name": "python3"
  },
  "language_info": {
   "codemirror_mode": {
    "name": "ipython",
    "version": 3
   },
   "file_extension": ".py",
   "mimetype": "text/x-python",
   "name": "python",
   "nbconvert_exporter": "python",
   "pygments_lexer": "ipython3",
   "version": "3.6.8"
  }
 },
 "nbformat": 4,
 "nbformat_minor": 2
}
