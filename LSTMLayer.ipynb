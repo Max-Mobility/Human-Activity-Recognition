{
 "cells": [
  {
   "cell_type": "code",
   "execution_count": 11,
   "metadata": {},
   "outputs": [],
   "source": [
    "from pandas import DataFrame\n",
    "from pandas import concat\n",
    "from pandas import read_csv\n",
    "from pandas import datetime\n",
    "from sklearn.metrics import mean_squared_error\n",
    "from sklearn.preprocessing import MinMaxScaler\n",
    "from keras.models import Sequential,load_model,Model\n",
    "from keras.layers import LSTM,Dense,Input,Flatten,Concatenate\n",
    "from keras.layers import LSTMCell,RNN,Layer\n",
    "from math import sqrt\n",
    "from matplotlib import pyplot\n",
    "import numpy as np\n",
    "import pandas as pd\n",
    "import tensorflow as tf\n",
    "import keras.backend as K\n",
    "#sess =tf.Session()"
   ]
  },
  {
   "cell_type": "code",
   "execution_count": 13,
   "metadata": {},
   "outputs": [
    {
     "name": "stdout",
     "output_type": "stream",
     "text": [
      "WARNING:tensorflow:From C:\\Users\\Guo\\Anaconda3\\envs\\tf_1_13_cpu\\lib\\site-packages\\tensorflow\\python\\framework\\op_def_library.py:263: colocate_with (from tensorflow.python.framework.ops) is deprecated and will be removed in a future version.\n",
      "Instructions for updating:\n",
      "Colocations handled automatically by placer.\n",
      "WARNING:tensorflow:From C:\\Users\\Guo\\Anaconda3\\envs\\tf_1_13_cpu\\lib\\site-packages\\tensorflow\\python\\ops\\math_ops.py:3066: to_int32 (from tensorflow.python.ops.math_ops) is deprecated and will be removed in a future version.\n",
      "Instructions for updating:\n",
      "Use tf.cast instead.\n"
     ]
    }
   ],
   "source": [
    "LSTMModel = load_model('./models/25hz/realtime_LSTM_v2_Tap_32_3Cepoch_450loss_0.08.h5')"
   ]
  },
  {
   "cell_type": "code",
   "execution_count": 14,
   "metadata": {},
   "outputs": [],
   "source": [
    "weights=LSTMModel.get_weights()"
   ]
  },
  {
   "cell_type": "code",
   "execution_count": 7,
   "metadata": {},
   "outputs": [
    {
     "name": "stdout",
     "output_type": "stream",
     "text": [
      "(3, 128)\n",
      "(32, 128)\n",
      "(128,)\n",
      "(32, 1)\n",
      "(1,)\n"
     ]
    }
   ],
   "source": [
    "for i in range(len(weights)):\n",
    "    print(weights[i].shape)"
   ]
  },
  {
   "cell_type": "code",
   "execution_count": 23,
   "metadata": {},
   "outputs": [],
   "source": [
    "np.savez('weight.npz',weights)"
   ]
  },
  {
   "cell_type": "code",
   "execution_count": 25,
   "metadata": {},
   "outputs": [],
   "source": [
    "weights_load=np.load('weight.npz')"
   ]
  },
  {
   "cell_type": "code",
   "execution_count": 40,
   "metadata": {},
   "outputs": [
    {
     "data": {
      "text/plain": [
       "['arr_0']"
      ]
     },
     "execution_count": 40,
     "metadata": {},
     "output_type": "execute_result"
    }
   ],
   "source": [
    "weights_load.files"
   ]
  },
  {
   "cell_type": "code",
   "execution_count": 42,
   "metadata": {},
   "outputs": [
    {
     "name": "stdout",
     "output_type": "stream",
     "text": [
      "5\n"
     ]
    }
   ],
   "source": [
    "print(len(weights_load[weights_load.files[0]]))"
   ]
  },
  {
   "cell_type": "code",
   "execution_count": 39,
   "metadata": {},
   "outputs": [
    {
     "name": "stdout",
     "output_type": "stream",
     "text": [
      "(3, 128)\n",
      "(32, 128)\n",
      "(128,)\n",
      "(32, 1)\n",
      "(1,)\n"
     ]
    }
   ],
   "source": [
    "for i in range(len(weights_load['arr_0'])):\n",
    "    print(weights_load['arr_0'][i].shape)"
   ]
  },
  {
   "cell_type": "code",
   "execution_count": 8,
   "metadata": {},
   "outputs": [],
   "source": [
    "from keras.initializers import Constant"
   ]
  },
  {
   "cell_type": "code",
   "execution_count": 9,
   "metadata": {},
   "outputs": [
    {
     "ename": "SyntaxError",
     "evalue": "non-default argument follows default argument (<ipython-input-9-7de7b6314e9f>, line 2)",
     "output_type": "error",
     "traceback": [
      "\u001b[1;36m  File \u001b[1;32m\"<ipython-input-9-7de7b6314e9f>\"\u001b[1;36m, line \u001b[1;32m2\u001b[0m\n\u001b[1;33m    def __init__(self,units=32,weights):\u001b[0m\n\u001b[1;37m                ^\u001b[0m\n\u001b[1;31mSyntaxError\u001b[0m\u001b[1;31m:\u001b[0m non-default argument follows default argument\n"
     ]
    }
   ],
   "source": [
    "class LSTMLayer(Layer):\n",
    "    def __init__(self,units=32,weights):\n",
    "        self.units=units\n",
    "        self.weights=weights\n",
    "        \n",
    "        self.weight_b=weights[2]\n",
    "        self.weight_dw=weights[3]\n",
    "        self.weight_db=weights[4]\n",
    "        \n",
    "        super(LSTMLayer,self).__init__(**kwargs)\n",
    "    def build(self,input_shape):\n",
    "        self.wi=self.add_weight('wi',shape = (input_shape[-1],self.units)initializer=Constant(self.weights[0][:,0:self.units]))\n",
    "        self.wf=self.add_weight('wf',shape = (input_shape[-1],self.units)initializer=Constant(self.weights[0][:,self.units:self.units*2]))\n",
    "        self.wc=self.add_weight('wc',shape = (input_shape[-1],self.units)initializer=Constant(self.weights[0][:,self.units*2:self.units*3]))\n",
    "        self.wo=self.add_weight('wo',shape = (input_shape[-1],self.units)initializer=Constant(self.weights[0][:,self.units*3:self.units*4]))\n",
    "        self.ui=self.add_weight('ui',shape = (self.units,self.units)initializer=Constant(self.weights[1][:,0:self.units]))\n",
    "        self.uf=self.add_weight('uf',shape = (self.units,self.units)initializer=Constant(self.weights[1][:,self.units:self.units*2]))\n",
    "        self.uc=self.add_weight('uc',shape = (self.units,self.units)initializer=Constant(self.weights[1][:,self.units*2:self.units*3]))\n",
    "        self.uo=self.add_weight('uo',shape = (self.units,self.units)initializer=Constant(self.weights[1][:,self.units*3:self.units*4]))\n",
    "        \n",
    "        self.bi=self.add_weight('bi',shape = (self.units,)initializer=Constant(self.weights[2][0:self.units]))\n",
    "        self.bf=self.add_weight('bf',shape = (self.units,)initializer=Constant(self.weights[2][self.units:self.units*2]))\n",
    "        self.bc=self.add_weight('bc',shape = (self.units,)initializer=Constant(self.weights[2][self.units*2:self.units*3]))\n",
    "        self.bo=self.add_weight('bo',shape = (self.units,)initializer=Constant(self.weights[2][self.units*3:self.units*4]))\n",
    "        super(LSTMLayer, self).build(input_shape)\n",
    "        \n",
    "    def call(self,x):\n",
    "        \n",
    "        \n",
    "        \n",
    "        \n",
    "        \n",
    "        \n",
    "        return\n",
    "    def compute_output_shape(self,input_shape):\n",
    "        return(input_shape[0],1)\n",
    "        \n",
    "    "
   ]
  },
  {
   "cell_type": "code",
   "execution_count": 2,
   "metadata": {},
   "outputs": [],
   "source": [
    "class MyLayer(Layer):\n",
    "\n",
    "    def __init__(self, output_dim=(1), **kwargs):\n",
    "        self.output_dim = output_dim\n",
    "        super(MyLayer, self).__init__(**kwargs)\n",
    "\n",
    "    def build(self, input_shape):\n",
    "        # Create a trainable weight variable for this layer.\n",
    "        self.kernel = self.add_weight(name='kernel', \n",
    "                                      shape=(input_shape[-1], self.output_dim),\n",
    "                                      initializer='uniform',\n",
    "                                      trainable=True)\n",
    "        super(MyLayer, self).build(input_shape)  # Be sure to call this at the end\n",
    "\n",
    "    def call(self, x):\n",
    "        return K.dot(x, self.kernel)\n",
    "\n",
    "    def compute_output_shape(self, input_shape):\n",
    "        return (input_shape[0], self.output_dim)"
   ]
  },
  {
   "cell_type": "code",
   "execution_count": 3,
   "metadata": {},
   "outputs": [],
   "source": [
    "def build_model(units):\n",
    "    myInput = Input(shape=(1,13,))\n",
    "    output=MyLayer(output_dim = (1))(myInput)\n",
    "    return Model(inputs=myInput,outputs=output)"
   ]
  },
  {
   "cell_type": "code",
   "execution_count": 4,
   "metadata": {},
   "outputs": [
    {
     "name": "stdout",
     "output_type": "stream",
     "text": [
      "WARNING:tensorflow:From C:\\Users\\Guo\\Anaconda3\\envs\\tf_1_13_cpu\\lib\\site-packages\\tensorflow\\python\\framework\\op_def_library.py:263: colocate_with (from tensorflow.python.framework.ops) is deprecated and will be removed in a future version.\n",
      "Instructions for updating:\n",
      "Colocations handled automatically by placer.\n"
     ]
    }
   ],
   "source": [
    "myModel=build_model(16)"
   ]
  },
  {
   "cell_type": "code",
   "execution_count": 5,
   "metadata": {},
   "outputs": [],
   "source": [
    "myModel.save('myModel.h5')"
   ]
  },
  {
   "cell_type": "code",
   "execution_count": 6,
   "metadata": {},
   "outputs": [
    {
     "name": "stderr",
     "output_type": "stream",
     "text": [
      "C:\\Users\\Guo\\Anaconda3\\envs\\tf_1_13_cpu\\lib\\site-packages\\keras\\engine\\saving.py:292: UserWarning: No training configuration found in save file: the model was *not* compiled. Compile it manually.\n",
      "  warnings.warn('No training configuration found in save file: '\n"
     ]
    }
   ],
   "source": [
    "loaded_model=load_model('myModel.h5',custom_objects={'MyLayer':MyLayer})"
   ]
  },
  {
   "cell_type": "code",
   "execution_count": 9,
   "metadata": {},
   "outputs": [
    {
     "ename": "ConverterError",
     "evalue": "TOCO failed. See console for info.\n2019-06-25 11:14:14.583406: I tensorflow/lite/toco/import_tensorflow.cc:1324] Converting unsupported operation: TensorArrayV3\n2019-06-25 11:14:14.584064: E tensorflow/core/framework/op_kernel.cc:1325] OpKernel ('op: \"WrapDatasetVariant\" device_type: \"CPU\"') for unknown op: WrapDatasetVariant\n2019-06-25 11:14:14.584408: E tensorflow/core/framework/op_kernel.cc:1325] OpKernel ('op: \"WrapDatasetVariant\" device_type: \"GPU\" host_memory_arg: \"input_handle\" host_memory_arg: \"output_handle\"') for unknown op: WrapDatasetVariant\n2019-06-25 11:14:14.584874: E tensorflow/core/framework/op_kernel.cc:1325] OpKernel ('op: \"UnwrapDatasetVariant\" device_type: \"CPU\"') for unknown op: UnwrapDatasetVariant\n2019-06-25 11:14:14.585222: E tensorflow/core/framework/op_kernel.cc:1325] OpKernel ('op: \"UnwrapDatasetVariant\" device_type: \"GPU\" host_memory_arg: \"input_handle\" host_memory_arg: \"output_handle\"') for unknown op: UnwrapDatasetVariant\n2019-06-25 11:14:14.585771: I tensorflow/lite/toco/import_tensorflow.cc:1373] Unable to determine output type for op: TensorArrayV3\n2019-06-25 11:14:14.586138: I tensorflow/lite/toco/import_tensorflow.cc:1324] Converting unsupported operation: TensorArrayV3\n2019-06-25 11:14:14.586436: I tensorflow/lite/toco/import_tensorflow.cc:1373] Unable to determine output type for op: TensorArrayV3\n2019-06-25 11:14:14.586720: I tensorflow/lite/toco/import_tensorflow.cc:1324] Converting unsupported operation: TensorArrayScatterV3\n2019-06-25 11:14:14.586917: I tensorflow/lite/toco/import_tensorflow.cc:1373] Unable to determine output type for op: TensorArrayScatterV3\n2019-06-25 11:14:14.587123: I tensorflow/lite/toco/import_tensorflow.cc:1324] Converting unsupported operation: Enter\n2019-06-25 11:14:14.587344: I tensorflow/lite/toco/import_tensorflow.cc:1373] Unable to determine output type for op: Enter\n2019-06-25 11:14:14.587588: I tensorflow/lite/toco/import_tensorflow.cc:1324] Converting unsupported operation: Enter\n2019-06-25 11:14:14.587730: I tensorflow/lite/toco/import_tensorflow.cc:1373] Unable to determine output type for op: Enter\n2019-06-25 11:14:14.587975: I tensorflow/lite/toco/import_tensorflow.cc:1324] Converting unsupported operation: Enter\n2019-06-25 11:14:14.588169: I tensorflow/lite/toco/import_tensorflow.cc:1373] Unable to determine output type for op: Enter\n2019-06-25 11:14:14.588449: I tensorflow/lite/toco/import_tensorflow.cc:1324] Converting unsupported operation: Enter\n2019-06-25 11:14:14.588695: I tensorflow/lite/toco/import_tensorflow.cc:1373] Unable to determine output type for op: Enter\n2019-06-25 11:14:14.588962: I tensorflow/lite/toco/import_tensorflow.cc:1324] Converting unsupported operation: Enter\n2019-06-25 11:14:14.589082: I tensorflow/lite/toco/import_tensorflow.cc:1373] Unable to determine output type for op: Enter\n2019-06-25 11:14:14.589338: I tensorflow/lite/toco/import_tensorflow.cc:1324] Converting unsupported operation: Enter\n2019-06-25 11:14:14.589786: I tensorflow/lite/toco/import_tensorflow.cc:1373] Unable to determine output type for op: Enter\n2019-06-25 11:14:14.590108: I tensorflow/lite/toco/import_tensorflow.cc:1324] Converting unsupported operation: Enter\n2019-06-25 11:14:14.590436: I tensorflow/lite/toco/import_tensorflow.cc:1373] Unable to determine output type for op: Enter\n2019-06-25 11:14:14.590637: I tensorflow/lite/toco/import_tensorflow.cc:1324] Converting unsupported operation: LoopCond\n2019-06-25 11:14:14.590917: I tensorflow/lite/toco/import_tensorflow.cc:1373] Unable to determine output type for op: LoopCond\n2019-06-25 11:14:14.591204: I tensorflow/lite/toco/import_tensorflow.cc:1324] Converting unsupported operation: Enter\n2019-06-25 11:14:14.591434: I tensorflow/lite/toco/import_tensorflow.cc:1373] Unable to determine output type for op: Enter\n2019-06-25 11:14:14.591655: I tensorflow/lite/toco/import_tensorflow.cc:1324] Converting unsupported operation: Enter\n2019-06-25 11:14:14.591977: I tensorflow/lite/toco/import_tensorflow.cc:1373] Unable to determine output type for op: Enter\n2019-06-25 11:14:14.592281: I tensorflow/lite/toco/import_tensorflow.cc:1324] Converting unsupported operation: TensorArrayReadV3\n2019-06-25 11:14:14.592529: I tensorflow/lite/toco/import_tensorflow.cc:1373] Unable to determine output type for op: TensorArrayReadV3\n2019-06-25 11:14:14.592736: I tensorflow/lite/toco/import_tensorflow.cc:1324] Converting unsupported operation: Enter\n2019-06-25 11:14:14.592885: I tensorflow/lite/toco/import_tensorflow.cc:1373] Unable to determine output type for op: Enter\n2019-06-25 11:14:14.593277: I tensorflow/lite/toco/import_tensorflow.cc:1324] Converting unsupported operation: Enter\n2019-06-25 11:14:14.593571: I tensorflow/lite/toco/import_tensorflow.cc:1373] Unable to determine output type for op: Enter\n2019-06-25 11:14:14.593830: I tensorflow/lite/toco/import_tensorflow.cc:1324] Converting unsupported operation: Enter\n2019-06-25 11:14:14.594062: I tensorflow/lite/toco/import_tensorflow.cc:1373] Unable to determine output type for op: Enter\n2019-06-25 11:14:14.594304: I tensorflow/lite/toco/import_tensorflow.cc:1324] Converting unsupported operation: Enter\n2019-06-25 11:14:14.594550: I tensorflow/lite/toco/import_tensorflow.cc:1373] Unable to determine output type for op: Enter\n2019-06-25 11:14:14.594712: I tensorflow/lite/toco/import_tensorflow.cc:1324] Converting unsupported operation: Enter\n2019-06-25 11:14:14.594929: I tensorflow/lite/toco/import_tensorflow.cc:1373] Unable to determine output type for op: Enter\n2019-06-25 11:14:14.595099: I tensorflow/lite/toco/import_tensorflow.cc:1324] Converting unsupported operation: Enter\n2019-06-25 11:14:14.595313: I tensorflow/lite/toco/import_tensorflow.cc:1373] Unable to determine output type for op: Enter\n2019-06-25 11:14:14.595638: I tensorflow/lite/toco/import_tensorflow.cc:1324] Converting unsupported operation: Enter\n2019-06-25 11:14:14.595857: I tensorflow/lite/toco/import_tensorflow.cc:1373] Unable to determine output type for op: Enter\n2019-06-25 11:14:14.596119: I tensorflow/lite/toco/import_tensorflow.cc:1324] Converting unsupported operation: Enter\n2019-06-25 11:14:14.596303: I tensorflow/lite/toco/import_tensorflow.cc:1373] Unable to determine output type for op: Enter\n2019-06-25 11:14:14.596605: I tensorflow/lite/toco/import_tensorflow.cc:1324] Converting unsupported operation: Enter\n2019-06-25 11:14:14.596850: I tensorflow/lite/toco/import_tensorflow.cc:1373] Unable to determine output type for op: Enter\n2019-06-25 11:14:14.597161: I tensorflow/lite/toco/import_tensorflow.cc:1324] Converting unsupported operation: Enter\n2019-06-25 11:14:14.597348: I tensorflow/lite/toco/import_tensorflow.cc:1373] Unable to determine output type for op: Enter\n2019-06-25 11:14:14.597769: I tensorflow/lite/toco/import_tensorflow.cc:1324] Converting unsupported operation: Enter\n2019-06-25 11:14:14.597973: I tensorflow/lite/toco/import_tensorflow.cc:1373] Unable to determine output type for op: Enter\n2019-06-25 11:14:14.598240: I tensorflow/lite/toco/import_tensorflow.cc:1324] Converting unsupported operation: Enter\n2019-06-25 11:14:14.598389: I tensorflow/lite/toco/import_tensorflow.cc:1373] Unable to determine output type for op: Enter\n2019-06-25 11:14:14.598792: I tensorflow/lite/toco/import_tensorflow.cc:1324] Converting unsupported operation: Enter\n2019-06-25 11:14:14.598947: I tensorflow/lite/toco/import_tensorflow.cc:1373] Unable to determine output type for op: Enter\n2019-06-25 11:14:14.599070: I tensorflow/lite/toco/import_tensorflow.cc:1324] Converting unsupported operation: TensorArrayWriteV3\n2019-06-25 11:14:14.599214: I tensorflow/lite/toco/import_tensorflow.cc:1373] Unable to determine output type for op: TensorArrayWriteV3\n2019-06-25 11:14:14.599512: I tensorflow/lite/toco/import_tensorflow.cc:1324] Converting unsupported operation: Exit\n2019-06-25 11:14:14.599828: I tensorflow/lite/toco/import_tensorflow.cc:1373] Unable to determine output type for op: Exit\n2019-06-25 11:14:14.600003: I tensorflow/lite/toco/import_tensorflow.cc:1324] Converting unsupported operation: Exit\n2019-06-25 11:14:14.600231: I tensorflow/lite/toco/import_tensorflow.cc:1373] Unable to determine output type for op: Exit\n2019-06-25 11:14:14.600468: I tensorflow/lite/toco/import_tensorflow.cc:1324] Converting unsupported operation: TensorArrayReadV3\n2019-06-25 11:14:14.600656: I tensorflow/lite/toco/import_tensorflow.cc:1373] Unable to determine output type for op: TensorArrayReadV3\n2019-06-25 11:14:14.602478: I tensorflow/lite/toco/graph_transformations/graph_transformations.cc:39] Before Removing unused ops: 113 operators, 198 arrays (0 quantized)\n2019-06-25 11:14:14.603554: I tensorflow/lite/toco/graph_transformations/graph_transformations.cc:39] Before general graph transformations: 113 operators, 198 arrays (0 quantized)\n2019-06-25 11:14:14.606035: I tensorflow/lite/toco/graph_transformations/graph_transformations.cc:39] After general graph transformations pass 1: 90 operators, 147 arrays (0 quantized)\n2019-06-25 11:14:14.607865: I tensorflow/lite/toco/graph_transformations/graph_transformations.cc:39] Before dequantization graph transformations: 90 operators, 147 arrays (0 quantized)\n2019-06-25 11:14:14.608942: F tensorflow/lite/toco/tooling_util.cc:627] Check failed: dim >= 1 (0 vs. 1)\n\n\n",
     "output_type": "error",
     "traceback": [
      "\u001b[1;31m---------------------------------------------------------------------------\u001b[0m",
      "\u001b[1;31mConverterError\u001b[0m                            Traceback (most recent call last)",
      "\u001b[1;32m<ipython-input-9-696a1207519f>\u001b[0m in \u001b[0;36m<module>\u001b[1;34m\u001b[0m\n\u001b[0;32m      5\u001b[0m \u001b[1;31m#converter=tf.lite.TFLiteConverter.from_keras_model_file(model_file=saved_model_dir,custom_objects={'MyLayer':MyLayer})\u001b[0m\u001b[1;33m\u001b[0m\u001b[1;33m\u001b[0m\u001b[1;33m\u001b[0m\u001b[0m\n\u001b[0;32m      6\u001b[0m \u001b[0mconverter\u001b[0m\u001b[1;33m=\u001b[0m\u001b[0mtf\u001b[0m\u001b[1;33m.\u001b[0m\u001b[0mlite\u001b[0m\u001b[1;33m.\u001b[0m\u001b[0mTFLiteConverter\u001b[0m\u001b[1;33m.\u001b[0m\u001b[0mfrom_frozen_graph\u001b[0m\u001b[1;33m(\u001b[0m\u001b[0mfrozen_graph\u001b[0m\u001b[1;33m,\u001b[0m\u001b[0minput_arrays\u001b[0m\u001b[1;33m=\u001b[0m\u001b[1;33m{\u001b[0m\u001b[1;34m'input_1'\u001b[0m\u001b[1;33m}\u001b[0m\u001b[1;33m,\u001b[0m\u001b[0moutput_arrays\u001b[0m\u001b[1;33m=\u001b[0m\u001b[1;33m{\u001b[0m\u001b[1;34m'output_node0'\u001b[0m\u001b[1;33m}\u001b[0m\u001b[1;33m)\u001b[0m\u001b[1;33m\u001b[0m\u001b[1;33m\u001b[0m\u001b[0m\n\u001b[1;32m----> 7\u001b[1;33m \u001b[0mtflite_model\u001b[0m \u001b[1;33m=\u001b[0m \u001b[0mconverter\u001b[0m\u001b[1;33m.\u001b[0m\u001b[0mconvert\u001b[0m\u001b[1;33m(\u001b[0m\u001b[1;33m)\u001b[0m\u001b[1;33m\u001b[0m\u001b[1;33m\u001b[0m\u001b[0m\n\u001b[0m\u001b[0;32m      8\u001b[0m \u001b[0mopen\u001b[0m\u001b[1;33m(\u001b[0m\u001b[1;34m\"realLSTM32U3C.tflite\"\u001b[0m\u001b[1;33m,\u001b[0m \u001b[1;34m\"wb\"\u001b[0m\u001b[1;33m)\u001b[0m\u001b[1;33m.\u001b[0m\u001b[0mwrite\u001b[0m\u001b[1;33m(\u001b[0m\u001b[0mtflite_model\u001b[0m\u001b[1;33m)\u001b[0m\u001b[1;33m\u001b[0m\u001b[1;33m\u001b[0m\u001b[0m\n",
      "\u001b[1;32m~\\Anaconda3\\envs\\tf_1_13_cpu\\lib\\site-packages\\tensorflow\\lite\\python\\lite.py\u001b[0m in \u001b[0;36mconvert\u001b[1;34m(self)\u001b[0m\n\u001b[0;32m    453\u001b[0m           \u001b[0minput_tensors\u001b[0m\u001b[1;33m=\u001b[0m\u001b[0mself\u001b[0m\u001b[1;33m.\u001b[0m\u001b[0m_input_tensors\u001b[0m\u001b[1;33m,\u001b[0m\u001b[1;33m\u001b[0m\u001b[1;33m\u001b[0m\u001b[0m\n\u001b[0;32m    454\u001b[0m           \u001b[0moutput_tensors\u001b[0m\u001b[1;33m=\u001b[0m\u001b[0mself\u001b[0m\u001b[1;33m.\u001b[0m\u001b[0m_output_tensors\u001b[0m\u001b[1;33m,\u001b[0m\u001b[1;33m\u001b[0m\u001b[1;33m\u001b[0m\u001b[0m\n\u001b[1;32m--> 455\u001b[1;33m           **converter_kwargs)\n\u001b[0m\u001b[0;32m    456\u001b[0m     \u001b[1;32melse\u001b[0m\u001b[1;33m:\u001b[0m\u001b[1;33m\u001b[0m\u001b[1;33m\u001b[0m\u001b[0m\n\u001b[0;32m    457\u001b[0m       result = _toco_convert_graph_def(\n",
      "\u001b[1;32m~\\Anaconda3\\envs\\tf_1_13_cpu\\lib\\site-packages\\tensorflow\\lite\\python\\convert.py\u001b[0m in \u001b[0;36mtoco_convert_impl\u001b[1;34m(input_data, input_tensors, output_tensors, *args, **kwargs)\u001b[0m\n\u001b[0;32m    440\u001b[0m   data = toco_convert_protos(model_flags.SerializeToString(),\n\u001b[0;32m    441\u001b[0m                              \u001b[0mtoco_flags\u001b[0m\u001b[1;33m.\u001b[0m\u001b[0mSerializeToString\u001b[0m\u001b[1;33m(\u001b[0m\u001b[1;33m)\u001b[0m\u001b[1;33m,\u001b[0m\u001b[1;33m\u001b[0m\u001b[1;33m\u001b[0m\u001b[0m\n\u001b[1;32m--> 442\u001b[1;33m                              input_data.SerializeToString())\n\u001b[0m\u001b[0;32m    443\u001b[0m   \u001b[1;32mreturn\u001b[0m \u001b[0mdata\u001b[0m\u001b[1;33m\u001b[0m\u001b[1;33m\u001b[0m\u001b[0m\n\u001b[0;32m    444\u001b[0m \u001b[1;33m\u001b[0m\u001b[0m\n",
      "\u001b[1;32m~\\Anaconda3\\envs\\tf_1_13_cpu\\lib\\site-packages\\tensorflow\\lite\\python\\convert.py\u001b[0m in \u001b[0;36mtoco_convert_protos\u001b[1;34m(model_flags_str, toco_flags_str, input_data_str)\u001b[0m\n\u001b[0;32m    203\u001b[0m       \u001b[0mstderr\u001b[0m \u001b[1;33m=\u001b[0m \u001b[0m_try_convert_to_unicode\u001b[0m\u001b[1;33m(\u001b[0m\u001b[0mstderr\u001b[0m\u001b[1;33m)\u001b[0m\u001b[1;33m\u001b[0m\u001b[1;33m\u001b[0m\u001b[0m\n\u001b[0;32m    204\u001b[0m       raise ConverterError(\n\u001b[1;32m--> 205\u001b[1;33m           \"TOCO failed. See console for info.\\n%s\\n%s\\n\" % (stdout, stderr))\n\u001b[0m\u001b[0;32m    206\u001b[0m   \u001b[1;32mfinally\u001b[0m\u001b[1;33m:\u001b[0m\u001b[1;33m\u001b[0m\u001b[1;33m\u001b[0m\u001b[0m\n\u001b[0;32m    207\u001b[0m     \u001b[1;31m# Must manually cleanup files.\u001b[0m\u001b[1;33m\u001b[0m\u001b[1;33m\u001b[0m\u001b[1;33m\u001b[0m\u001b[0m\n",
      "\u001b[1;31mConverterError\u001b[0m: TOCO failed. See console for info.\n2019-06-25 11:14:14.583406: I tensorflow/lite/toco/import_tensorflow.cc:1324] Converting unsupported operation: TensorArrayV3\n2019-06-25 11:14:14.584064: E tensorflow/core/framework/op_kernel.cc:1325] OpKernel ('op: \"WrapDatasetVariant\" device_type: \"CPU\"') for unknown op: WrapDatasetVariant\n2019-06-25 11:14:14.584408: E tensorflow/core/framework/op_kernel.cc:1325] OpKernel ('op: \"WrapDatasetVariant\" device_type: \"GPU\" host_memory_arg: \"input_handle\" host_memory_arg: \"output_handle\"') for unknown op: WrapDatasetVariant\n2019-06-25 11:14:14.584874: E tensorflow/core/framework/op_kernel.cc:1325] OpKernel ('op: \"UnwrapDatasetVariant\" device_type: \"CPU\"') for unknown op: UnwrapDatasetVariant\n2019-06-25 11:14:14.585222: E tensorflow/core/framework/op_kernel.cc:1325] OpKernel ('op: \"UnwrapDatasetVariant\" device_type: \"GPU\" host_memory_arg: \"input_handle\" host_memory_arg: \"output_handle\"') for unknown op: UnwrapDatasetVariant\n2019-06-25 11:14:14.585771: I tensorflow/lite/toco/import_tensorflow.cc:1373] Unable to determine output type for op: TensorArrayV3\n2019-06-25 11:14:14.586138: I tensorflow/lite/toco/import_tensorflow.cc:1324] Converting unsupported operation: TensorArrayV3\n2019-06-25 11:14:14.586436: I tensorflow/lite/toco/import_tensorflow.cc:1373] Unable to determine output type for op: TensorArrayV3\n2019-06-25 11:14:14.586720: I tensorflow/lite/toco/import_tensorflow.cc:1324] Converting unsupported operation: TensorArrayScatterV3\n2019-06-25 11:14:14.586917: I tensorflow/lite/toco/import_tensorflow.cc:1373] Unable to determine output type for op: TensorArrayScatterV3\n2019-06-25 11:14:14.587123: I tensorflow/lite/toco/import_tensorflow.cc:1324] Converting unsupported operation: Enter\n2019-06-25 11:14:14.587344: I tensorflow/lite/toco/import_tensorflow.cc:1373] Unable to determine output type for op: Enter\n2019-06-25 11:14:14.587588: I tensorflow/lite/toco/import_tensorflow.cc:1324] Converting unsupported operation: Enter\n2019-06-25 11:14:14.587730: I tensorflow/lite/toco/import_tensorflow.cc:1373] Unable to determine output type for op: Enter\n2019-06-25 11:14:14.587975: I tensorflow/lite/toco/import_tensorflow.cc:1324] Converting unsupported operation: Enter\n2019-06-25 11:14:14.588169: I tensorflow/lite/toco/import_tensorflow.cc:1373] Unable to determine output type for op: Enter\n2019-06-25 11:14:14.588449: I tensorflow/lite/toco/import_tensorflow.cc:1324] Converting unsupported operation: Enter\n2019-06-25 11:14:14.588695: I tensorflow/lite/toco/import_tensorflow.cc:1373] Unable to determine output type for op: Enter\n2019-06-25 11:14:14.588962: I tensorflow/lite/toco/import_tensorflow.cc:1324] Converting unsupported operation: Enter\n2019-06-25 11:14:14.589082: I tensorflow/lite/toco/import_tensorflow.cc:1373] Unable to determine output type for op: Enter\n2019-06-25 11:14:14.589338: I tensorflow/lite/toco/import_tensorflow.cc:1324] Converting unsupported operation: Enter\n2019-06-25 11:14:14.589786: I tensorflow/lite/toco/import_tensorflow.cc:1373] Unable to determine output type for op: Enter\n2019-06-25 11:14:14.590108: I tensorflow/lite/toco/import_tensorflow.cc:1324] Converting unsupported operation: Enter\n2019-06-25 11:14:14.590436: I tensorflow/lite/toco/import_tensorflow.cc:1373] Unable to determine output type for op: Enter\n2019-06-25 11:14:14.590637: I tensorflow/lite/toco/import_tensorflow.cc:1324] Converting unsupported operation: LoopCond\n2019-06-25 11:14:14.590917: I tensorflow/lite/toco/import_tensorflow.cc:1373] Unable to determine output type for op: LoopCond\n2019-06-25 11:14:14.591204: I tensorflow/lite/toco/import_tensorflow.cc:1324] Converting unsupported operation: Enter\n2019-06-25 11:14:14.591434: I tensorflow/lite/toco/import_tensorflow.cc:1373] Unable to determine output type for op: Enter\n2019-06-25 11:14:14.591655: I tensorflow/lite/toco/import_tensorflow.cc:1324] Converting unsupported operation: Enter\n2019-06-25 11:14:14.591977: I tensorflow/lite/toco/import_tensorflow.cc:1373] Unable to determine output type for op: Enter\n2019-06-25 11:14:14.592281: I tensorflow/lite/toco/import_tensorflow.cc:1324] Converting unsupported operation: TensorArrayReadV3\n2019-06-25 11:14:14.592529: I tensorflow/lite/toco/import_tensorflow.cc:1373] Unable to determine output type for op: TensorArrayReadV3\n2019-06-25 11:14:14.592736: I tensorflow/lite/toco/import_tensorflow.cc:1324] Converting unsupported operation: Enter\n2019-06-25 11:14:14.592885: I tensorflow/lite/toco/import_tensorflow.cc:1373] Unable to determine output type for op: Enter\n2019-06-25 11:14:14.593277: I tensorflow/lite/toco/import_tensorflow.cc:1324] Converting unsupported operation: Enter\n2019-06-25 11:14:14.593571: I tensorflow/lite/toco/import_tensorflow.cc:1373] Unable to determine output type for op: Enter\n2019-06-25 11:14:14.593830: I tensorflow/lite/toco/import_tensorflow.cc:1324] Converting unsupported operation: Enter\n2019-06-25 11:14:14.594062: I tensorflow/lite/toco/import_tensorflow.cc:1373] Unable to determine output type for op: Enter\n2019-06-25 11:14:14.594304: I tensorflow/lite/toco/import_tensorflow.cc:1324] Converting unsupported operation: Enter\n2019-06-25 11:14:14.594550: I tensorflow/lite/toco/import_tensorflow.cc:1373] Unable to determine output type for op: Enter\n2019-06-25 11:14:14.594712: I tensorflow/lite/toco/import_tensorflow.cc:1324] Converting unsupported operation: Enter\n2019-06-25 11:14:14.594929: I tensorflow/lite/toco/import_tensorflow.cc:1373] Unable to determine output type for op: Enter\n2019-06-25 11:14:14.595099: I tensorflow/lite/toco/import_tensorflow.cc:1324] Converting unsupported operation: Enter\n2019-06-25 11:14:14.595313: I tensorflow/lite/toco/import_tensorflow.cc:1373] Unable to determine output type for op: Enter\n2019-06-25 11:14:14.595638: I tensorflow/lite/toco/import_tensorflow.cc:1324] Converting unsupported operation: Enter\n2019-06-25 11:14:14.595857: I tensorflow/lite/toco/import_tensorflow.cc:1373] Unable to determine output type for op: Enter\n2019-06-25 11:14:14.596119: I tensorflow/lite/toco/import_tensorflow.cc:1324] Converting unsupported operation: Enter\n2019-06-25 11:14:14.596303: I tensorflow/lite/toco/import_tensorflow.cc:1373] Unable to determine output type for op: Enter\n2019-06-25 11:14:14.596605: I tensorflow/lite/toco/import_tensorflow.cc:1324] Converting unsupported operation: Enter\n2019-06-25 11:14:14.596850: I tensorflow/lite/toco/import_tensorflow.cc:1373] Unable to determine output type for op: Enter\n2019-06-25 11:14:14.597161: I tensorflow/lite/toco/import_tensorflow.cc:1324] Converting unsupported operation: Enter\n2019-06-25 11:14:14.597348: I tensorflow/lite/toco/import_tensorflow.cc:1373] Unable to determine output type for op: Enter\n2019-06-25 11:14:14.597769: I tensorflow/lite/toco/import_tensorflow.cc:1324] Converting unsupported operation: Enter\n2019-06-25 11:14:14.597973: I tensorflow/lite/toco/import_tensorflow.cc:1373] Unable to determine output type for op: Enter\n2019-06-25 11:14:14.598240: I tensorflow/lite/toco/import_tensorflow.cc:1324] Converting unsupported operation: Enter\n2019-06-25 11:14:14.598389: I tensorflow/lite/toco/import_tensorflow.cc:1373] Unable to determine output type for op: Enter\n2019-06-25 11:14:14.598792: I tensorflow/lite/toco/import_tensorflow.cc:1324] Converting unsupported operation: Enter\n2019-06-25 11:14:14.598947: I tensorflow/lite/toco/import_tensorflow.cc:1373] Unable to determine output type for op: Enter\n2019-06-25 11:14:14.599070: I tensorflow/lite/toco/import_tensorflow.cc:1324] Converting unsupported operation: TensorArrayWriteV3\n2019-06-25 11:14:14.599214: I tensorflow/lite/toco/import_tensorflow.cc:1373] Unable to determine output type for op: TensorArrayWriteV3\n2019-06-25 11:14:14.599512: I tensorflow/lite/toco/import_tensorflow.cc:1324] Converting unsupported operation: Exit\n2019-06-25 11:14:14.599828: I tensorflow/lite/toco/import_tensorflow.cc:1373] Unable to determine output type for op: Exit\n2019-06-25 11:14:14.600003: I tensorflow/lite/toco/import_tensorflow.cc:1324] Converting unsupported operation: Exit\n2019-06-25 11:14:14.600231: I tensorflow/lite/toco/import_tensorflow.cc:1373] Unable to determine output type for op: Exit\n2019-06-25 11:14:14.600468: I tensorflow/lite/toco/import_tensorflow.cc:1324] Converting unsupported operation: TensorArrayReadV3\n2019-06-25 11:14:14.600656: I tensorflow/lite/toco/import_tensorflow.cc:1373] Unable to determine output type for op: TensorArrayReadV3\n2019-06-25 11:14:14.602478: I tensorflow/lite/toco/graph_transformations/graph_transformations.cc:39] Before Removing unused ops: 113 operators, 198 arrays (0 quantized)\n2019-06-25 11:14:14.603554: I tensorflow/lite/toco/graph_transformations/graph_transformations.cc:39] Before general graph transformations: 113 operators, 198 arrays (0 quantized)\n2019-06-25 11:14:14.606035: I tensorflow/lite/toco/graph_transformations/graph_transformations.cc:39] After general graph transformations pass 1: 90 operators, 147 arrays (0 quantized)\n2019-06-25 11:14:14.607865: I tensorflow/lite/toco/graph_transformations/graph_transformations.cc:39] Before dequantization graph transformations: 90 operators, 147 arrays (0 quantized)\n2019-06-25 11:14:14.608942: F tensorflow/lite/toco/tooling_util.cc:627] Check failed: dim >= 1 (0 vs. 1)\n\n\n"
     ]
    }
   ],
   "source": [
    "#saved_model_dir='realtime_LSTM_32U_3C.hdf5'\n",
    "saved_model_dir='myModel.h5'\n",
    "frozen_graph = \"realtime_LSTM_v2_Tap_32_3Cepoch_450loss_0.08.h5.pb\"\n",
    "#frozen_graph = \"blinknn_frozen_model.pb\"\n",
    "#converter=tf.lite.TFLiteConverter.from_keras_model_file(model_file=saved_model_dir,custom_objects={'MyLayer':MyLayer})\n",
    "converter=tf.lite.TFLiteConverter.from_frozen_graph(frozen_graph,input_arrays={'input_1'},output_arrays={'output_node0'})\n",
    "tflite_model = converter.convert()\n",
    "open(\"realLSTM32U3C.tflite\", \"wb\").write(tflite_model)"
   ]
  }
 ],
 "metadata": {
  "kernelspec": {
   "display_name": "Python 3",
   "language": "python",
   "name": "python3"
  },
  "language_info": {
   "codemirror_mode": {
    "name": "ipython",
    "version": 3
   },
   "file_extension": ".py",
   "mimetype": "text/x-python",
   "name": "python",
   "nbconvert_exporter": "python",
   "pygments_lexer": "ipython3",
   "version": "3.6.8"
  }
 },
 "nbformat": 4,
 "nbformat_minor": 2
}
