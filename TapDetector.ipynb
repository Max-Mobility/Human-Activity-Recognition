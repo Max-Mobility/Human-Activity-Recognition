{
 "cells": [
  {
   "cell_type": "code",
   "execution_count": 276,
   "metadata": {},
   "outputs": [],
   "source": [
    "import numpy as np\n",
    "from matplotlib.pyplot import plot"
   ]
  },
  {
   "cell_type": "code",
   "execution_count": 314,
   "metadata": {},
   "outputs": [],
   "source": [
    "def detect(predicts,raw,windows=26,threshold=0.8,raw_threshold=-10):\n",
    "    taps=np.zeros_like(predicts)\n",
    "    windows_count=0\n",
    "    buff_size=100\n",
    "    \n",
    "    for i in np.arange(buff_size,len(taps)):\n",
    "        raw_buff=raw[i-buff_size:i+1,2]# only z acc\n",
    "        #print(raw_buff.min())\n",
    "        #diff=abs(raw_buff.max()-raw_buff.min())\n",
    "        buff_sum = 0\n",
    "        for x in raw_buff:\n",
    "            if x <0:\n",
    "                buff_sum+= x*-1\n",
    "        \n",
    "        if predicts[i]>threshold and windows_count==0  and buff_sum>raw_threshold:# and diff>6:# and predicts[i-1]>threshold:\n",
    "            #print(diff)\n",
    "            taps[i]=1\n",
    "            windows_count=windows\n",
    "            #print(buff_sum)\n",
    "        else:\n",
    "            windows_count=max(windows_count-1,0)\n",
    "    return taps"
   ]
  },
  {
   "cell_type": "code",
   "execution_count": 326,
   "metadata": {},
   "outputs": [],
   "source": [
    "def verify(taps,label_taps,raw):\n",
    "    False_positive= np.zeros_like(taps)\n",
    "    False_negtive = np.zeros_like(taps)\n",
    "    True_positive = np.zeros_like(taps)\n",
    "    #taps=np.append(np.zeros([1]),taps)\n",
    "    #taps=np.append(taps,np.zeros([1]))\n",
    "    #label_taps=np.append(np.zeros([1]),label_taps)\n",
    "    #label_taps=np.append(label_taps,np.zeros([1]))\n",
    "    window=15\n",
    "    for i in range(len(taps)):\n",
    "        if label_taps[i] ==1:\n",
    "            if taps[i-window:i+window].sum()==0:\n",
    "                False_negtive[i]=1\n",
    "            else:\n",
    "                True_positive[i]=1\n",
    "\n",
    "        if taps[i] ==1:\n",
    "            if label_taps[i-window:i+window].sum()==0:\n",
    "                False_positive[i]=1\n",
    "                #raw_buff=raw[i-4:i+1,2]# only z acc\n",
    "                #diff=abs(raw_buff.max()-raw_buff.min())\n",
    "                #print(i,raw_buff,diff)\n",
    "            \n",
    "    return [False_positive,  False_negtive ,    True_positive ]"
   ]
  },
  {
   "cell_type": "code",
   "execution_count": 45,
   "metadata": {},
   "outputs": [
    {
     "data": {
      "text/plain": [
       "1081.0"
      ]
     },
     "execution_count": 45,
     "metadata": {},
     "output_type": "execute_result"
    }
   ],
   "source": [
    "label_taps.sum()"
   ]
  },
  {
   "cell_type": "code",
   "execution_count": 293,
   "metadata": {},
   "outputs": [
    {
     "data": {
      "text/plain": [
       "9216.0"
      ]
     },
     "execution_count": 293,
     "metadata": {},
     "output_type": "execute_result"
    }
   ],
   "source": [
    "labels_100hz =np.loadtxt('./TapData/data_100Hz_y.csv',delimiter=\",\")\n",
    "raw_data_100hz = np.loadtxt('./TapData/data_raw_100Hz.csv',delimiter=\",\")\n",
    "labels_100hz.sum()"
   ]
  },
  {
   "cell_type": "code",
   "execution_count": 311,
   "metadata": {},
   "outputs": [],
   "source": [
    "preY= np.loadtxt('./models/100hz/realLSTM_data_U64_i50_mse10.03_3.49_preY.csv',delimiter=\",\")"
   ]
  },
  {
   "cell_type": "code",
   "execution_count": 321,
   "metadata": {},
   "outputs": [],
   "source": [
    "taps_predict=detect(preY,raw=raw_data)\n",
    "np.savetxt('taps_predict_100hz.csv',taps_predict)"
   ]
  },
  {
   "cell_type": "code",
   "execution_count": 317,
   "metadata": {},
   "outputs": [
    {
     "data": {
      "text/plain": [
       "2532.0"
      ]
     },
     "execution_count": 317,
     "metadata": {},
     "output_type": "execute_result"
    }
   ],
   "source": [
    "taps_predict.sum()"
   ]
  },
  {
   "cell_type": "code",
   "execution_count": 327,
   "metadata": {},
   "outputs": [
    {
     "name": "stdout",
     "output_type": "stream",
     "text": [
      "1110.0 129.0 1407.0\n"
     ]
    }
   ],
   "source": [
    "FP,FN,TP = verify(taps_predict,taps_label,raw_data)\n",
    "print(FP.sum(),FN.sum(),TP.sum())\n",
    "np.savetxt('FP_vali.csv',FP)\n",
    "np.savetxt('FN_vali.csv',FN)\n",
    "np.savetxt('TP_vali.csv',TP)"
   ]
  },
  {
   "cell_type": "code",
   "execution_count": 308,
   "metadata": {},
   "outputs": [],
   "source": [
    "taps_label=detect(labels_100hz,raw=raw_data_100hz)"
   ]
  },
  {
   "cell_type": "code",
   "execution_count": 309,
   "metadata": {},
   "outputs": [
    {
     "data": {
      "text/plain": [
       "1536.0"
      ]
     },
     "execution_count": 309,
     "metadata": {},
     "output_type": "execute_result"
    }
   ],
   "source": [
    "taps_label.sum()"
   ]
  },
  {
   "cell_type": "code",
   "execution_count": 297,
   "metadata": {},
   "outputs": [],
   "source": [
    "np.savetxt('label_taps_100hz.csv',taps_label)"
   ]
  },
  {
   "cell_type": "code",
   "execution_count": 240,
   "metadata": {},
   "outputs": [
    {
     "data": {
      "text/plain": [
       "1107.3333333333333"
      ]
     },
     "execution_count": 240,
     "metadata": {},
     "output_type": "execute_result"
    }
   ],
   "source": [
    "predicts_92 = np.loadtxt('TF_predictY_64U3C_92.csv',delimiter=\",\")\n",
    "predicts_71 = np.loadtxt('TF_predictY_64U3C_71.csv',delimiter=\",\")\n",
    "predicts_V2_56 = np.loadtxt('TF_predictY_64U3C_dataV2_56.20.csv',delimiter=\",\")\n",
    "labels = np.loadtxt('./TapData/data_y_active.csv',delimiter=\",\")\n",
    "raw_data=np.loadtxt('./TapData/data_raw_active.csv',delimiter=',')\n",
    "raw_data=raw_data[:,3:6]\n",
    "labels.sum()/3"
   ]
  },
  {
   "cell_type": "code",
   "execution_count": 275,
   "metadata": {},
   "outputs": [
    {
     "data": {
      "text/plain": [
       "847.0"
      ]
     },
     "execution_count": 275,
     "metadata": {},
     "output_type": "execute_result"
    }
   ],
   "source": [
    "taps_92=detect(predicts_92,raw=raw_data)\n",
    "taps_71=detect(predicts_71,raw=raw_data)\n",
    "taps_V2_56=detect(predicts_V2_56,raw=raw_data)\n",
    "#taps_vali = detect(predicts_validate,raw=raw_data)\n",
    "label_taps=detect(labels,raw=raw_data)\n",
    "label_taps.sum()"
   ]
  },
  {
   "cell_type": "code",
   "execution_count": 234,
   "metadata": {},
   "outputs": [
    {
     "data": {
      "text/plain": [
       "87.66666666666667"
      ]
     },
     "execution_count": 234,
     "metadata": {},
     "output_type": "execute_result"
    }
   ],
   "source": [
    "predicts_validate = np.loadtxt('validation_preY.csv',delimiter=\",\")\n",
    "#predicts_71 = np.loadtxt('TF_predictY_64U3C_71.csv',delimiter=\",\")\n",
    "#predicts_V2_56 = np.loadtxt('TF_predictY_64U3C_dataV2_56.20.csv',delimiter=\",\")\n",
    "labels = np.loadtxt('./TapData/validation_y.csv',delimiter=\",\")\n",
    "raw_data=np.loadtxt('./TapData/validation_raw.csv',delimiter=',')\n",
    "raw_data=raw_data[:,3:6]\n",
    "labels.sum()/3"
   ]
  },
  {
   "cell_type": "code",
   "execution_count": 236,
   "metadata": {},
   "outputs": [
    {
     "data": {
      "text/plain": [
       "88.0"
      ]
     },
     "execution_count": 236,
     "metadata": {},
     "output_type": "execute_result"
    }
   ],
   "source": [
    "#taps_92=detect(predicts_92,raw=raw_data)\n",
    "#taps_71=detect(predicts_71,raw=raw_data)\n",
    "#taps_V2_56=detect(predicts_V2_56,raw=raw_data)\n",
    "taps_vali = detect(predicts_validate,raw=raw_data)\n",
    "label_taps=detect(labels,raw=raw_data)\n",
    "label_taps.sum()"
   ]
  },
  {
   "cell_type": "markdown",
   "metadata": {},
   "source": [
    "label_taps  = 1006 for raw_threshold = 13      \n",
    "label_taps  = 1050 for raw_threshold = 10"
   ]
  },
  {
   "cell_type": "code",
   "execution_count": 239,
   "metadata": {},
   "outputs": [
    {
     "name": "stdout",
     "output_type": "stream",
     "text": [
      "3.0 8.0 80.0\n"
     ]
    }
   ],
   "source": [
    "FP,FN,TP = verify(taps_vali,label_taps,raw_data)\n",
    "print(FP.sum(),FN.sum(),TP.sum())\n",
    "np.savetxt('label_taps.csv',label_taps)\n",
    "np.savetxt('FP_vali.csv',FP)\n",
    "np.savetxt('FN_vali.csv',FN)\n",
    "np.savetxt('TP_vali.csv',TP)"
   ]
  },
  {
   "cell_type": "markdown",
   "metadata": {},
   "source": [
    "30.0 78.0 972.0 for raw_threshold = 10        \n",
    "26.0 55.0 951.0 for raw_threshold = 13\n"
   ]
  },
  {
   "cell_type": "code",
   "execution_count": 271,
   "metadata": {},
   "outputs": [
    {
     "name": "stdout",
     "output_type": "stream",
     "text": [
      "50.0 59.0 979.0\n"
     ]
    }
   ],
   "source": [
    "FP,FN,TP = verify(taps_92,label_taps,raw_data)\n",
    "print(FP.sum(),FN.sum(),TP.sum())"
   ]
  },
  {
   "cell_type": "code",
   "execution_count": 98,
   "metadata": {},
   "outputs": [
    {
     "data": {
      "text/plain": [
       "(96379,)"
      ]
     },
     "execution_count": 98,
     "metadata": {},
     "output_type": "execute_result"
    }
   ],
   "source": [
    "FP.shape"
   ]
  },
  {
   "cell_type": "code",
   "execution_count": 153,
   "metadata": {},
   "outputs": [],
   "source": [
    "np.savetxt('label_taps.csv',label_taps)\n",
    "np.savetxt('FP_92.csv',FP)\n",
    "np.savetxt('FN_92.csv',FN)\n",
    "np.savetxt('TP_92.csv',TP)"
   ]
  },
  {
   "cell_type": "code",
   "execution_count": 24,
   "metadata": {},
   "outputs": [
    {
     "name": "stdout",
     "output_type": "stream",
     "text": [
      "[1. 0. 0. ... 0. 0. 0.]\n"
     ]
    }
   ],
   "source": [
    "print(taps)"
   ]
  },
  {
   "cell_type": "code",
   "execution_count": 25,
   "metadata": {},
   "outputs": [
    {
     "name": "stdout",
     "output_type": "stream",
     "text": [
      "[0. 0. 0. ... 0. 0. 0.]\n"
     ]
    }
   ],
   "source": [
    "print(label_taps)"
   ]
  },
  {
   "cell_type": "code",
   "execution_count": 27,
   "metadata": {},
   "outputs": [],
   "source": [
    "diff = taps-label_taps"
   ]
  },
  {
   "cell_type": "code",
   "execution_count": 33,
   "metadata": {},
   "outputs": [
    {
     "data": {
      "text/plain": [
       "[<matplotlib.lines.Line2D at 0x1f2acc17d68>]"
      ]
     },
     "execution_count": 33,
     "metadata": {},
     "output_type": "execute_result"
    },
    {
     "data": {
      "image/png": "[encoded data removed]",
      "text/plain": [
       "<Figure size 432x288 with 1 Axes>"
      ]
     },
     "metadata": {
      "needs_background": "light"
     },
     "output_type": "display_data"
    }
   ],
   "source": [
    "plot(diff[2000:8000])"
   ]
  }
 ],
 "metadata": {
  "kernelspec": {
   "display_name": "Python 3",
   "language": "python",
   "name": "python3"
  },
  "language_info": {
   "codemirror_mode": {
    "name": "ipython",
    "version": 3
   },
   "file_extension": ".py",
   "mimetype": "text/x-python",
   "name": "python",
   "nbconvert_exporter": "python",
   "pygments_lexer": "ipython3",
   "version": "3.6.8"
  }
 },
 "nbformat": 4,
 "nbformat_minor": 2
}
