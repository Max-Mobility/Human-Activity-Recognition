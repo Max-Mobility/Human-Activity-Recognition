{
 "cells": [
  {
   "cell_type": "code",
   "execution_count": 1,
   "metadata": {},
   "outputs": [
    {
     "name": "stderr",
     "output_type": "stream",
     "text": [
      "Using TensorFlow backend.\n"
     ]
    }
   ],
   "source": [
    "import keras.backend as K"
   ]
  },
  {
   "cell_type": "code",
   "execution_count": 2,
   "metadata": {},
   "outputs": [],
   "source": [
    "import numpy as np"
   ]
  },
  {
   "cell_type": "code",
   "execution_count": 3,
   "metadata": {},
   "outputs": [
    {
     "name": "stdout",
     "output_type": "stream",
     "text": [
      "298\n"
     ]
    }
   ],
   "source": [
    "text_file = open(\"./TapData/100HzTapDataValidation/Tapping_PSDSData(24).annotation~\", \"r\")\n",
    "#text_file = open(\"./TapData/push20.annotation_\", \"r\")\n",
    "\n",
    "lines = text_file.readlines()\n",
    "text_file.close()\n",
    "print (len(lines))"
   ]
  },
  {
   "cell_type": "code",
   "execution_count": 4,
   "metadata": {},
   "outputs": [
    {
     "data": {
      "text/plain": [
       "44132.0"
      ]
     },
     "execution_count": 4,
     "metadata": {},
     "output_type": "execute_result"
    }
   ],
   "source": [
    "f=100\n",
    "float(lines[0].split(';')[0])*f"
   ]
  },
  {
   "cell_type": "code",
   "execution_count": 5,
   "metadata": {},
   "outputs": [],
   "source": [
    "push=[]\n",
    "for i in range(len(lines)):\n",
    "    push.append([int(float(lines[i].split(';')[0])*f),int(float(lines[i].split(';')[1])*f)])"
   ]
  },
  {
   "cell_type": "code",
   "execution_count": 6,
   "metadata": {},
   "outputs": [],
   "source": [
    "push = np.asarray(push)"
   ]
  },
  {
   "cell_type": "code",
   "execution_count": 7,
   "metadata": {},
   "outputs": [
    {
     "data": {
      "text/plain": [
       "(298, 2)"
      ]
     },
     "execution_count": 7,
     "metadata": {},
     "output_type": "execute_result"
    }
   ],
   "source": [
    "push.shape"
   ]
  },
  {
   "cell_type": "code",
   "execution_count": 8,
   "metadata": {},
   "outputs": [
    {
     "data": {
      "text/plain": [
       "array([44156, 44168])"
      ]
     },
     "execution_count": 8,
     "metadata": {},
     "output_type": "execute_result"
    }
   ],
   "source": [
    "push[1]"
   ]
  },
  {
   "cell_type": "code",
   "execution_count": 16,
   "metadata": {},
   "outputs": [
    {
     "name": "stdout",
     "output_type": "stream",
     "text": [
      "0\n",
      "12\n",
      "1\n",
      "12\n",
      "2\n",
      "12\n",
      "3\n",
      "12\n",
      "4\n",
      "12\n",
      "5\n",
      "12\n",
      "6\n",
      "12\n",
      "7\n",
      "12\n",
      "8\n",
      "12\n",
      "9\n",
      "12\n",
      "10\n",
      "12\n",
      "11\n",
      "12\n",
      "12\n",
      "12\n",
      "13\n",
      "12\n",
      "14\n",
      "12\n",
      "15\n",
      "12\n",
      "16\n",
      "12\n",
      "17\n",
      "12\n",
      "18\n",
      "12\n",
      "19\n",
      "12\n",
      "20\n",
      "12\n",
      "21\n",
      "12\n",
      "22\n",
      "12\n",
      "23\n",
      "12\n",
      "24\n",
      "12\n",
      "25\n",
      "12\n",
      "26\n",
      "12\n",
      "27\n",
      "12\n",
      "28\n",
      "12\n",
      "29\n",
      "12\n",
      "30\n",
      "12\n",
      "31\n",
      "12\n",
      "32\n",
      "12\n",
      "33\n",
      "12\n",
      "34\n",
      "12\n",
      "35\n",
      "12\n",
      "36\n",
      "12\n",
      "37\n",
      "12\n",
      "38\n",
      "12\n",
      "39\n",
      "12\n",
      "40\n",
      "12\n",
      "41\n",
      "12\n",
      "42\n",
      "12\n",
      "43\n",
      "12\n",
      "44\n",
      "12\n",
      "45\n",
      "12\n",
      "46\n",
      "12\n",
      "47\n",
      "12\n",
      "48\n",
      "12\n",
      "49\n",
      "12\n",
      "50\n",
      "12\n",
      "51\n",
      "12\n",
      "52\n",
      "12\n",
      "53\n",
      "12\n",
      "54\n",
      "12\n",
      "55\n",
      "12\n",
      "56\n",
      "12\n",
      "57\n",
      "12\n",
      "58\n",
      "12\n",
      "59\n",
      "12\n",
      "60\n",
      "12\n",
      "61\n",
      "12\n",
      "62\n",
      "11\n",
      "63\n",
      "12\n",
      "64\n",
      "12\n",
      "65\n",
      "12\n",
      "66\n",
      "12\n",
      "67\n",
      "12\n",
      "68\n",
      "12\n",
      "69\n",
      "12\n",
      "70\n",
      "12\n",
      "71\n",
      "12\n",
      "72\n",
      "12\n",
      "73\n",
      "12\n",
      "74\n",
      "12\n",
      "75\n",
      "12\n",
      "76\n",
      "12\n",
      "77\n",
      "12\n",
      "78\n",
      "12\n",
      "79\n",
      "12\n",
      "80\n",
      "12\n",
      "81\n",
      "12\n",
      "82\n",
      "12\n",
      "83\n",
      "12\n",
      "84\n",
      "12\n",
      "85\n",
      "12\n",
      "86\n",
      "12\n",
      "87\n",
      "12\n",
      "88\n",
      "12\n",
      "89\n",
      "12\n",
      "90\n",
      "12\n",
      "91\n",
      "12\n",
      "92\n",
      "12\n",
      "93\n",
      "12\n",
      "94\n",
      "12\n",
      "95\n",
      "13\n",
      "96\n",
      "12\n",
      "97\n",
      "12\n",
      "98\n",
      "12\n",
      "99\n",
      "12\n",
      "100\n",
      "12\n",
      "101\n",
      "12\n",
      "102\n",
      "12\n",
      "103\n",
      "12\n",
      "104\n",
      "12\n",
      "105\n",
      "12\n",
      "106\n",
      "12\n",
      "107\n",
      "12\n",
      "108\n",
      "13\n",
      "109\n",
      "12\n",
      "110\n",
      "12\n",
      "111\n",
      "12\n",
      "112\n",
      "12\n",
      "113\n",
      "12\n",
      "114\n",
      "12\n",
      "115\n",
      "12\n",
      "116\n",
      "13\n",
      "117\n",
      "13\n",
      "118\n",
      "12\n",
      "119\n",
      "12\n",
      "120\n",
      "12\n",
      "121\n",
      "12\n",
      "122\n",
      "12\n",
      "123\n",
      "12\n",
      "124\n",
      "12\n",
      "125\n",
      "12\n",
      "126\n",
      "12\n",
      "127\n",
      "12\n",
      "128\n",
      "12\n",
      "129\n",
      "12\n",
      "130\n",
      "12\n",
      "131\n",
      "11\n",
      "132\n",
      "12\n",
      "133\n",
      "12\n",
      "134\n",
      "13\n",
      "135\n",
      "12\n",
      "136\n",
      "12\n",
      "137\n",
      "12\n",
      "138\n",
      "12\n",
      "139\n",
      "12\n",
      "140\n",
      "11\n",
      "141\n",
      "12\n",
      "142\n",
      "12\n",
      "143\n",
      "12\n",
      "144\n",
      "12\n",
      "145\n",
      "12\n",
      "146\n",
      "12\n",
      "147\n",
      "11\n",
      "148\n",
      "13\n",
      "149\n",
      "11\n",
      "150\n",
      "12\n",
      "151\n",
      "13\n",
      "152\n",
      "12\n",
      "153\n",
      "12\n",
      "154\n",
      "12\n",
      "155\n",
      "11\n",
      "156\n",
      "13\n",
      "157\n",
      "12\n",
      "158\n",
      "12\n",
      "159\n",
      "12\n",
      "160\n",
      "12\n",
      "161\n",
      "12\n",
      "162\n",
      "12\n",
      "163\n",
      "12\n",
      "164\n",
      "12\n",
      "165\n",
      "12\n",
      "166\n",
      "12\n",
      "167\n",
      "12\n",
      "168\n",
      "12\n",
      "169\n",
      "12\n",
      "170\n",
      "12\n",
      "171\n",
      "13\n",
      "172\n",
      "12\n",
      "173\n",
      "12\n",
      "174\n",
      "12\n",
      "175\n",
      "12\n",
      "176\n",
      "12\n",
      "177\n",
      "11\n",
      "178\n",
      "12\n",
      "179\n",
      "12\n",
      "180\n",
      "11\n",
      "181\n",
      "12\n",
      "182\n",
      "12\n",
      "183\n",
      "12\n",
      "184\n",
      "12\n",
      "185\n",
      "12\n",
      "186\n",
      "12\n",
      "187\n",
      "12\n",
      "188\n",
      "11\n",
      "189\n",
      "12\n",
      "190\n",
      "12\n",
      "191\n",
      "12\n",
      "192\n",
      "13\n",
      "193\n",
      "12\n",
      "194\n",
      "12\n",
      "195\n",
      "12\n",
      "196\n",
      "13\n",
      "197\n",
      "12\n",
      "198\n",
      "11\n",
      "199\n",
      "12\n",
      "200\n",
      "12\n",
      "201\n",
      "12\n",
      "202\n",
      "12\n",
      "203\n",
      "13\n",
      "204\n",
      "11\n",
      "205\n",
      "12\n",
      "206\n",
      "13\n",
      "207\n",
      "11\n",
      "208\n",
      "11\n",
      "209\n",
      "13\n",
      "210\n",
      "12\n",
      "211\n",
      "13\n",
      "212\n",
      "11\n",
      "213\n",
      "12\n",
      "214\n",
      "13\n",
      "215\n",
      "11\n",
      "216\n",
      "11\n",
      "217\n",
      "11\n",
      "218\n",
      "12\n",
      "219\n",
      "12\n",
      "220\n",
      "13\n",
      "221\n",
      "12\n",
      "222\n",
      "13\n",
      "223\n",
      "12\n",
      "224\n",
      "12\n",
      "225\n",
      "12\n",
      "226\n",
      "13\n",
      "227\n",
      "11\n",
      "228\n",
      "12\n",
      "229\n",
      "12\n",
      "230\n",
      "11\n",
      "231\n",
      "12\n",
      "232\n",
      "12\n",
      "233\n",
      "12\n",
      "234\n",
      "11\n",
      "235\n",
      "12\n",
      "236\n",
      "13\n",
      "237\n",
      "12\n",
      "238\n",
      "12\n",
      "239\n",
      "13\n",
      "240\n",
      "12\n",
      "241\n",
      "12\n",
      "242\n",
      "12\n",
      "243\n",
      "13\n",
      "244\n",
      "12\n",
      "245\n",
      "11\n",
      "246\n",
      "12\n",
      "247\n",
      "11\n",
      "248\n",
      "13\n",
      "249\n",
      "12\n",
      "250\n",
      "13\n",
      "251\n",
      "11\n",
      "252\n",
      "12\n",
      "253\n",
      "12\n",
      "254\n",
      "12\n",
      "255\n",
      "11\n",
      "256\n",
      "13\n",
      "257\n",
      "12\n",
      "258\n",
      "12\n",
      "259\n",
      "12\n",
      "260\n",
      "12\n",
      "261\n",
      "11\n",
      "262\n",
      "12\n",
      "263\n",
      "12\n",
      "264\n",
      "13\n",
      "265\n",
      "12\n",
      "266\n",
      "12\n",
      "267\n",
      "12\n",
      "268\n",
      "11\n",
      "269\n",
      "12\n",
      "270\n",
      "12\n",
      "271\n",
      "13\n",
      "272\n",
      "11\n",
      "273\n",
      "12\n",
      "274\n",
      "12\n",
      "275\n",
      "11\n",
      "276\n",
      "12\n",
      "277\n",
      "12\n",
      "278\n",
      "12\n",
      "279\n",
      "12\n",
      "280\n",
      "12\n",
      "281\n",
      "12\n",
      "282\n",
      "12\n",
      "283\n",
      "12\n",
      "284\n",
      "12\n",
      "285\n",
      "12\n",
      "286\n",
      "12\n",
      "287\n",
      "12\n",
      "288\n",
      "13\n",
      "289\n",
      "12\n",
      "290\n",
      "12\n",
      "291\n",
      "12\n",
      "292\n",
      "12\n",
      "293\n",
      "11\n",
      "294\n",
      "12\n",
      "295\n",
      "12\n",
      "296\n",
      "13\n",
      "297\n",
      "13\n"
     ]
    }
   ],
   "source": [
    "pushTime=np.empty((0))\n",
    "for i in range(len(push)):\n",
    "    if (push[i][1]-push[i][0]!=6):\n",
    "        print(i)\n",
    "        print(push[i][1]-push[i][0])\n",
    "    for j in np.arange(push[i][0],push[i][0]+10):\n",
    "        pushTime = np.append(pushTime,j)\n"
   ]
  },
  {
   "cell_type": "code",
   "execution_count": 10,
   "metadata": {},
   "outputs": [
    {
     "data": {
      "text/plain": [
       "(5960,)"
      ]
     },
     "execution_count": 10,
     "metadata": {},
     "output_type": "execute_result"
    }
   ],
   "source": [
    "pushTime.shape"
   ]
  },
  {
   "cell_type": "code",
   "execution_count": 11,
   "metadata": {},
   "outputs": [],
   "source": [
    "watch_34_raw = np.loadtxt('./TapData/100HzTapDataValidation/PSDSData (24)_raw.csv',delimiter=\",\")"
   ]
  },
  {
   "cell_type": "code",
   "execution_count": 12,
   "metadata": {},
   "outputs": [
    {
     "data": {
      "text/plain": [
       "(120088, 9)"
      ]
     },
     "execution_count": 12,
     "metadata": {},
     "output_type": "execute_result"
    }
   ],
   "source": [
    "watch_34_raw.shape"
   ]
  },
  {
   "cell_type": "code",
   "execution_count": 17,
   "metadata": {},
   "outputs": [],
   "source": [
    "watch_y=np.zeros(len(watch_34_raw))\n",
    "for i in range(len(pushTime)):\n",
    "    watch_y[int(pushTime[i])]=1"
   ]
  },
  {
   "cell_type": "code",
   "execution_count": 29,
   "metadata": {},
   "outputs": [
    {
     "data": {
      "text/plain": [
       "2447"
      ]
     },
     "execution_count": 29,
     "metadata": {},
     "output_type": "execute_result"
    }
   ],
   "source": [
    "i"
   ]
  },
  {
   "cell_type": "code",
   "execution_count": 14,
   "metadata": {},
   "outputs": [
    {
     "data": {
      "text/plain": [
       "(120088,)"
      ]
     },
     "execution_count": 14,
     "metadata": {},
     "output_type": "execute_result"
    }
   ],
   "source": [
    "watch_y.shape"
   ]
  },
  {
   "cell_type": "code",
   "execution_count": 31,
   "metadata": {},
   "outputs": [
    {
     "data": {
      "text/plain": [
       "2424.0"
      ]
     },
     "execution_count": 31,
     "metadata": {},
     "output_type": "execute_result"
    }
   ],
   "source": [
    "watch_y.sum()"
   ]
  },
  {
   "cell_type": "code",
   "execution_count": 32,
   "metadata": {},
   "outputs": [
    {
     "data": {
      "text/plain": [
       "1536.0"
      ]
     },
     "execution_count": 32,
     "metadata": {},
     "output_type": "execute_result"
    }
   ],
   "source": [
    "18432.0/12"
   ]
  },
  {
   "cell_type": "code",
   "execution_count": 33,
   "metadata": {},
   "outputs": [
    {
     "data": {
      "text/plain": [
       "9228"
      ]
     },
     "execution_count": 33,
     "metadata": {},
     "output_type": "execute_result"
    }
   ],
   "source": [
    "1538*6"
   ]
  },
  {
   "cell_type": "code",
   "execution_count": 34,
   "metadata": {},
   "outputs": [
    {
     "data": {
      "text/plain": [
       "array([1., 1., 1., 1., 1., 1., 1., 1., 0., 0., 0., 0., 0., 0., 0., 0., 0.,\n",
       "       0., 0., 0., 0., 0., 0., 0., 0., 0., 0., 0., 0., 0., 0., 0., 0., 0.,\n",
       "       0., 0., 0., 0., 0., 0., 0., 0., 0., 0., 0., 0., 0., 0., 0., 0., 0.,\n",
       "       0., 0., 0., 0., 0., 1., 1., 1., 1.])"
      ]
     },
     "execution_count": 34,
     "metadata": {},
     "output_type": "execute_result"
    }
   ],
   "source": [
    "watch_y[4200:4260]"
   ]
  },
  {
   "cell_type": "code",
   "execution_count": 18,
   "metadata": {},
   "outputs": [],
   "source": [
    "np.savetxt('./TapData/100HzTapDataValidation/Tap(24)_100Hz.csv',watch_y)"
   ]
  },
  {
   "cell_type": "code",
   "execution_count": 36,
   "metadata": {},
   "outputs": [],
   "source": [
    "def shuffle(data,Y):\n",
    "    window = 5000\n",
    "    noActiveWindow=150\n",
    "    segment=[0]\n",
    "    for i in range (len(data)):\n",
    "        if (i>segment[-1]+window):\n",
    "            if Y[i-noActiveWindow:i+noActiveWindow].sum()==0:\n",
    "                segment.append(i)\n",
    "    segment.append(i)\n",
    "    newOrder = np.arange(len(segment)-1)\n",
    "    np.random.shuffle(newOrder)\n",
    "    newData = np.empty_like(data[0:1])\n",
    "    newY = np.empty_like(Y[0:1])\n",
    "    for i in range(len(newOrder)):\n",
    "        newData = np.append(newData,data[segment[newOrder[i]]:segment[newOrder[i]+1]],axis=0)\n",
    "        newY = np.append(newY,Y[segment[newOrder[i]]:segment[newOrder[i]+1]])\n",
    "    return newData,newY"
   ]
  },
  {
   "cell_type": "code",
   "execution_count": 129,
   "metadata": {},
   "outputs": [],
   "source": [
    "newD,newY = shuffle(watch_34_raw,watch_y)"
   ]
  },
  {
   "cell_type": "code",
   "execution_count": 132,
   "metadata": {},
   "outputs": [],
   "source": [
    "np.savetxt('./TapData/data_100Hz_shuffle.csv',newD,delimiter=\",\")\n",
    "np.savetxt('./TapData/data_100Hz_y_shuffle.csv',newY)"
   ]
  },
  {
   "cell_type": "code",
   "execution_count": 131,
   "metadata": {},
   "outputs": [
    {
     "data": {
      "text/plain": [
       "array([5.6610107e-03, 3.5247803e-03, 4.9743652e-03, 1.3947606e-02,\n",
       "       9.3054770e-04, 4.7721863e-03, 1.1463252e+00, 3.2973344e+00,\n",
       "       9.1642730e+00])"
      ]
     },
     "execution_count": 131,
     "metadata": {},
     "output_type": "execute_result"
    }
   ],
   "source": [
    "newD[0]"
   ]
  },
  {
   "cell_type": "code",
   "execution_count": 127,
   "metadata": {},
   "outputs": [
    {
     "data": {
      "text/plain": [
       "(512141, 9)"
      ]
     },
     "execution_count": 127,
     "metadata": {},
     "output_type": "execute_result"
    }
   ],
   "source": [
    "watch_34_raw.shape"
   ]
  },
  {
   "cell_type": "code",
   "execution_count": 85,
   "metadata": {},
   "outputs": [
    {
     "data": {
      "text/plain": [
       "[0,\n",
       " 5001,\n",
       " 10424,\n",
       " 15425,\n",
       " 20754,\n",
       " 26124,\n",
       " 31125,\n",
       " 36126,\n",
       " 41127,\n",
       " 46328,\n",
       " 51782,\n",
       " 56783,\n",
       " 62562,\n",
       " 67563,\n",
       " 72564,\n",
       " 78604,\n",
       " 86350,\n",
       " 95324,\n",
       " 100325,\n",
       " 105578,\n",
       " 110684,\n",
       " 118228,\n",
       " 123440,\n",
       " 128771,\n",
       " 134312,\n",
       " 139313,\n",
       " 144314,\n",
       " 149315,\n",
       " 154316,\n",
       " 159317,\n",
       " 164318,\n",
       " 169319,\n",
       " 174320,\n",
       " 179321,\n",
       " 184322,\n",
       " 189323,\n",
       " 194324,\n",
       " 199325,\n",
       " 204326,\n",
       " 209327,\n",
       " 214328,\n",
       " 219329,\n",
       " 224330,\n",
       " 229331,\n",
       " 234332,\n",
       " 239333,\n",
       " 244334,\n",
       " 249335,\n",
       " 254336,\n",
       " 259337,\n",
       " 264338,\n",
       " 269339,\n",
       " 274340,\n",
       " 279341,\n",
       " 284342,\n",
       " 289343,\n",
       " 294344,\n",
       " 299345,\n",
       " 304346,\n",
       " 309347,\n",
       " 314348,\n",
       " 319349,\n",
       " 324350,\n",
       " 329351,\n",
       " 334352,\n",
       " 339353,\n",
       " 344354,\n",
       " 349355,\n",
       " 354356,\n",
       " 359357,\n",
       " 364358,\n",
       " 369359,\n",
       " 374360,\n",
       " 379361,\n",
       " 384362,\n",
       " 389363,\n",
       " 394364,\n",
       " 399365,\n",
       " 404366,\n",
       " 409367,\n",
       " 414368,\n",
       " 419369,\n",
       " 424370,\n",
       " 429371,\n",
       " 434372,\n",
       " 439373,\n",
       " 444374,\n",
       " 449375,\n",
       " 454376,\n",
       " 461132,\n",
       " 468490,\n",
       " 473491,\n",
       " 478492,\n",
       " 483622,\n",
       " 488623,\n",
       " 493624,\n",
       " 498625,\n",
       " 503626,\n",
       " 508627]"
      ]
     },
     "execution_count": 85,
     "metadata": {},
     "output_type": "execute_result"
    }
   ],
   "source": [
    "seg"
   ]
  },
  {
   "cell_type": "code",
   "execution_count": 58,
   "metadata": {},
   "outputs": [],
   "source": [
    "watch_4_29= np.load('watch_4_29.npy')"
   ]
  },
  {
   "cell_type": "code",
   "execution_count": 59,
   "metadata": {},
   "outputs": [
    {
     "data": {
      "text/plain": [
       "(20941, 32, 18)"
      ]
     },
     "execution_count": 59,
     "metadata": {},
     "output_type": "execute_result"
    }
   ],
   "source": [
    "\n",
    "watch_4_29.shape"
   ]
  },
  {
   "cell_type": "code",
   "execution_count": 60,
   "metadata": {},
   "outputs": [],
   "source": [
    "watch_4_29_raw= np.load('watch_4_29_raw.npy')"
   ]
  },
  {
   "cell_type": "code",
   "execution_count": 61,
   "metadata": {},
   "outputs": [
    {
     "data": {
      "text/plain": [
       "(20972, 9)"
      ]
     },
     "execution_count": 61,
     "metadata": {},
     "output_type": "execute_result"
    }
   ],
   "source": [
    "watch_4_29_raw.shape"
   ]
  },
  {
   "cell_type": "code",
   "execution_count": 76,
   "metadata": {},
   "outputs": [
    {
     "data": {
      "text/plain": [
       "(20941,)"
      ]
     },
     "execution_count": 76,
     "metadata": {},
     "output_type": "execute_result"
    }
   ],
   "source": [
    "watch_4_29_y=np.zeros((len(watch_4_29)))\n",
    "watch_4_29_y.shape"
   ]
  },
  {
   "cell_type": "code",
   "execution_count": 77,
   "metadata": {},
   "outputs": [],
   "source": [
    "for i in range(len(pushTime)):\n",
    "    watch_4_29_y[int(pushTime[i]-31)]=1"
   ]
  },
  {
   "cell_type": "code",
   "execution_count": 78,
   "metadata": {},
   "outputs": [],
   "source": [
    "np.save('watch_4_29_y.npy',watch_4_29_y)"
   ]
  },
  {
   "cell_type": "code",
   "execution_count": 79,
   "metadata": {},
   "outputs": [
    {
     "data": {
      "text/plain": [
       "(20972,)"
      ]
     },
     "execution_count": 79,
     "metadata": {},
     "output_type": "execute_result"
    }
   ],
   "source": [
    "watch_4_29_y=np.append(np.zeros((31)),watch_4_29_y)\n",
    "watch_4_29_y.shape"
   ]
  },
  {
   "cell_type": "code",
   "execution_count": 80,
   "metadata": {},
   "outputs": [],
   "source": [
    "np.savetxt('watch_4_29_y.csv',watch_4_29_y)"
   ]
  },
  {
   "cell_type": "code",
   "execution_count": null,
   "metadata": {},
   "outputs": [],
   "source": []
  }
 ],
 "metadata": {
  "kernelspec": {
   "display_name": "Python 3",
   "language": "python",
   "name": "python3"
  },
  "language_info": {
   "codemirror_mode": {
    "name": "ipython",
    "version": 3
   },
   "file_extension": ".py",
   "mimetype": "text/x-python",
   "name": "python",
   "nbconvert_exporter": "python",
   "pygments_lexer": "ipython3",
   "version": "3.6.8"
  }
 },
 "nbformat": 4,
 "nbformat_minor": 2
}
